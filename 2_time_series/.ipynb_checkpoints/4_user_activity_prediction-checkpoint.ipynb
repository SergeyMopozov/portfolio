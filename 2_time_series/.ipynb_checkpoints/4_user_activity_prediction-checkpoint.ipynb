{
 "cells": [
  {
   "cell_type": "markdown",
   "metadata": {},
   "source": [
    "# User action prediction\n",
    "\n",
    "Time series could be interpret as sumurize of discrete action aggregate by time step. In example if we predict product consumption we can image total volume of consumption as sum of consumption this product by each user.\n",
    "\n",
    "\n",
    "https://www.kaggle.com/c/dunnhumbychallenge\n",
    "\n",
    "\n",
    "https://github.com/Dyakonov/PZAD/blob/master/2020/PZAD2020_012caseclients_04n.pdf\n",
    "\n",
    "https://bijournal.hse.ru/data/2014/04/15/1320713004/8.pdf\n",
    "\n"
   ]
  },
  {
   "cell_type": "code",
   "execution_count": null,
   "metadata": {},
   "outputs": [],
   "source": []
  }
 ],
 "metadata": {
  "kernelspec": {
   "display_name": "Python 3",
   "language": "python",
   "name": "python3"
  },
  "language_info": {
   "codemirror_mode": {
    "name": "ipython",
    "version": 3
   },
   "file_extension": ".py",
   "mimetype": "text/x-python",
   "name": "python",
   "nbconvert_exporter": "python",
   "pygments_lexer": "ipython3",
   "version": "3.6.6"
  }
 },
 "nbformat": 4,
 "nbformat_minor": 2
}
