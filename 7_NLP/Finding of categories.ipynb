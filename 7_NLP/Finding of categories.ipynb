{
 "cells": [
  {
   "cell_type": "markdown",
   "metadata": {},
   "source": [
    "## Categorization of goods descriptions\n",
    "We have set of goods description but we don't know to wich category it belong. \n",
    "\n",
    "Also we don't have markup of trainig set, so we try different approches for finding meaningful categories of goods.\n",
    "\n",
    "https://blog.tensorflow.org/2019/05/auto-classification-of-naver-shopping.html"
   ]
  },
  {
   "cell_type": "code",
   "execution_count": 5,
   "metadata": {},
   "outputs": [],
   "source": [
    "import pandas as pd\n",
    "\n",
    "import gensim\n",
    "from gensim.utils import simple_preprocess\n",
    "from gensim.parsing.preprocessing import STOPWORDS\n",
    "from nltk.stem import WordNetLemmatizer, SnowballStemmer\n",
    "from nltk.stem.porter import *\n",
    "import numpy as np"
   ]
  },
  {
   "cell_type": "code",
   "execution_count": 12,
   "metadata": {},
   "outputs": [
    {
     "name": "stdout",
     "output_type": "stream",
     "text": [
      "[nltk_data] Downloading package wordnet to /home/mrmopoz/nltk_data...\n",
      "[nltk_data]   Unzipping corpora/wordnet.zip.\n"
     ]
    },
    {
     "data": {
      "text/plain": [
       "True"
      ]
     },
     "execution_count": 12,
     "metadata": {},
     "output_type": "execute_result"
    }
   ],
   "source": [
    "import nltk\n",
    "nltk.download('wordnet')"
   ]
  },
  {
   "cell_type": "code",
   "execution_count": 9,
   "metadata": {},
   "outputs": [],
   "source": [
    "from sklearn.model_selection import train_test_split"
   ]
  },
  {
   "cell_type": "code",
   "execution_count": 78,
   "metadata": {},
   "outputs": [],
   "source": [
    "import  matplotlib.pyplot as plt"
   ]
  },
  {
   "cell_type": "code",
   "execution_count": 4,
   "metadata": {},
   "outputs": [
    {
     "name": "stdout",
     "output_type": "stream",
     "text": [
      "<class 'pandas.core.frame.DataFrame'>\n",
      "RangeIndex: 1000000 entries, 0 to 999999\n",
      "Data columns (total 2 columns):\n",
      " #   Column      Non-Null Count    Dtype \n",
      "---  ------      --------------    ----- \n",
      " 0   goods_name  1000000 non-null  object\n",
      " 1   goods_url   1000000 non-null  object\n",
      "dtypes: object(2)\n",
      "memory usage: 15.3+ MB\n"
     ]
    }
   ],
   "source": [
    "path = '../../data/7/goods_description.pckl'\n",
    "data = pd.read_pickle(path)\n",
    "data.info()"
   ]
  },
  {
   "cell_type": "code",
   "execution_count": 8,
   "metadata": {},
   "outputs": [
    {
     "data": {
      "text/html": [
       "<div>\n",
       "<style scoped>\n",
       "    .dataframe tbody tr th:only-of-type {\n",
       "        vertical-align: middle;\n",
       "    }\n",
       "\n",
       "    .dataframe tbody tr th {\n",
       "        vertical-align: top;\n",
       "    }\n",
       "\n",
       "    .dataframe thead th {\n",
       "        text-align: right;\n",
       "    }\n",
       "</style>\n",
       "<table border=\"1\" class=\"dataframe\">\n",
       "  <thead>\n",
       "    <tr style=\"text-align: right;\">\n",
       "      <th></th>\n",
       "      <th>goods_name</th>\n",
       "      <th>goods_url</th>\n",
       "    </tr>\n",
       "  </thead>\n",
       "  <tbody>\n",
       "    <tr>\n",
       "      <th>0</th>\n",
       "      <td>17mm chrome car alloy wheel looking nut bolt c...</td>\n",
       "      <td>https://joom.com/products/1504168028812618290-...</td>\n",
       "    </tr>\n",
       "    <tr>\n",
       "      <th>1</th>\n",
       "      <td>bearings</td>\n",
       "      <td>http://www.aliexpress.com/item//32820266911.html</td>\n",
       "    </tr>\n",
       "    <tr>\n",
       "      <th>2</th>\n",
       "      <td>coins</td>\n",
       "      <td>https://joom.com/products/5d5baa1328fc7101019e...</td>\n",
       "    </tr>\n",
       "    <tr>\n",
       "      <th>3</th>\n",
       "      <td>phone case(hg0150a7)</td>\n",
       "      <td>http://www.aliexpress.com/item//4000267904278....</td>\n",
       "    </tr>\n",
       "    <tr>\n",
       "      <th>4</th>\n",
       "      <td>screen protectors</td>\n",
       "      <td>http://www.aliexpress.com/item//4000581879117....</td>\n",
       "    </tr>\n",
       "  </tbody>\n",
       "</table>\n",
       "</div>"
      ],
      "text/plain": [
       "                                          goods_name  \\\n",
       "0  17mm chrome car alloy wheel looking nut bolt c...   \n",
       "1                                           bearings   \n",
       "2                                              coins   \n",
       "3                               phone case(hg0150a7)   \n",
       "4                                  screen protectors   \n",
       "\n",
       "                                           goods_url  \n",
       "0  https://joom.com/products/1504168028812618290-...  \n",
       "1   http://www.aliexpress.com/item//32820266911.html  \n",
       "2  https://joom.com/products/5d5baa1328fc7101019e...  \n",
       "3  http://www.aliexpress.com/item//4000267904278....  \n",
       "4  http://www.aliexpress.com/item//4000581879117....  "
      ]
     },
     "execution_count": 8,
     "metadata": {},
     "output_type": "execute_result"
    }
   ],
   "source": [
    "data.head(5)"
   ]
  },
  {
   "cell_type": "code",
   "execution_count": 10,
   "metadata": {},
   "outputs": [
    {
     "name": "stdout",
     "output_type": "stream",
     "text": [
      "(700000, 2)\n",
      "(300000, 2)\n"
     ]
    }
   ],
   "source": [
    "train, test = train_test_split(data, test_size=0.3)\n",
    "print(train.shape)\n",
    "print(test.shape)"
   ]
  },
  {
   "cell_type": "markdown",
   "metadata": {},
   "source": [
    "### 1st approache"
   ]
  },
  {
   "cell_type": "code",
   "execution_count": 7,
   "metadata": {},
   "outputs": [],
   "source": [
    "#create stemmer\n",
    "stemmer = SnowballStemmer(\"english\")"
   ]
  },
  {
   "cell_type": "code",
   "execution_count": 6,
   "metadata": {},
   "outputs": [],
   "source": [
    "def lemmatize_stemming(text):\n",
    "    return stemmer.stem(WordNetLemmatizer().lemmatize(text, pos='v'))\n",
    "\n",
    "# Tokenize and lemmatize\n",
    "def preprocess(text):\n",
    "    result=[]\n",
    "    for token in gensim.utils.simple_preprocess(text) :\n",
    "        if token not in gensim.parsing.preprocessing.STOPWORDS and len(token) > 3:\n",
    "            result.append(lemmatize_stemming(token))\n",
    "            \n",
    "    return result"
   ]
  },
  {
   "cell_type": "code",
   "execution_count": 13,
   "metadata": {},
   "outputs": [
    {
     "name": "stdout",
     "output_type": "stream",
     "text": [
      "CPU times: user 43.1 s, sys: 96.2 ms, total: 43.2 s\n",
      "Wall time: 43.2 s\n"
     ]
    }
   ],
   "source": [
    "%%time\n",
    "data['processed_discript'] = data['goods_name'].apply(preprocess)"
   ]
  },
  {
   "cell_type": "code",
   "execution_count": 14,
   "metadata": {},
   "outputs": [
    {
     "data": {
      "text/html": [
       "<div>\n",
       "<style scoped>\n",
       "    .dataframe tbody tr th:only-of-type {\n",
       "        vertical-align: middle;\n",
       "    }\n",
       "\n",
       "    .dataframe tbody tr th {\n",
       "        vertical-align: top;\n",
       "    }\n",
       "\n",
       "    .dataframe thead th {\n",
       "        text-align: right;\n",
       "    }\n",
       "</style>\n",
       "<table border=\"1\" class=\"dataframe\">\n",
       "  <thead>\n",
       "    <tr style=\"text-align: right;\">\n",
       "      <th></th>\n",
       "      <th>goods_name</th>\n",
       "      <th>goods_url</th>\n",
       "      <th>processed_discript</th>\n",
       "    </tr>\n",
       "  </thead>\n",
       "  <tbody>\n",
       "    <tr>\n",
       "      <th>0</th>\n",
       "      <td>17mm chrome car alloy wheel looking nut bolt c...</td>\n",
       "      <td>https://joom.com/products/1504168028812618290-...</td>\n",
       "      <td>[chrome, alloy, wheel, look, bolt, cover, golf...</td>\n",
       "    </tr>\n",
       "    <tr>\n",
       "      <th>1</th>\n",
       "      <td>bearings</td>\n",
       "      <td>http://www.aliexpress.com/item//32820266911.html</td>\n",
       "      <td>[bear]</td>\n",
       "    </tr>\n",
       "    <tr>\n",
       "      <th>2</th>\n",
       "      <td>coins</td>\n",
       "      <td>https://joom.com/products/5d5baa1328fc7101019e...</td>\n",
       "      <td>[coin]</td>\n",
       "    </tr>\n",
       "    <tr>\n",
       "      <th>3</th>\n",
       "      <td>phone case(hg0150a7)</td>\n",
       "      <td>http://www.aliexpress.com/item//4000267904278....</td>\n",
       "      <td>[phone, case]</td>\n",
       "    </tr>\n",
       "    <tr>\n",
       "      <th>4</th>\n",
       "      <td>screen protectors</td>\n",
       "      <td>http://www.aliexpress.com/item//4000581879117....</td>\n",
       "      <td>[screen, protector]</td>\n",
       "    </tr>\n",
       "  </tbody>\n",
       "</table>\n",
       "</div>"
      ],
      "text/plain": [
       "                                          goods_name  \\\n",
       "0  17mm chrome car alloy wheel looking nut bolt c...   \n",
       "1                                           bearings   \n",
       "2                                              coins   \n",
       "3                               phone case(hg0150a7)   \n",
       "4                                  screen protectors   \n",
       "\n",
       "                                           goods_url  \\\n",
       "0  https://joom.com/products/1504168028812618290-...   \n",
       "1   http://www.aliexpress.com/item//32820266911.html   \n",
       "2  https://joom.com/products/5d5baa1328fc7101019e...   \n",
       "3  http://www.aliexpress.com/item//4000267904278....   \n",
       "4  http://www.aliexpress.com/item//4000581879117....   \n",
       "\n",
       "                                  processed_discript  \n",
       "0  [chrome, alloy, wheel, look, bolt, cover, golf...  \n",
       "1                                             [bear]  \n",
       "2                                             [coin]  \n",
       "3                                      [phone, case]  \n",
       "4                                [screen, protector]  "
      ]
     },
     "execution_count": 14,
     "metadata": {},
     "output_type": "execute_result"
    }
   ],
   "source": [
    "data.head()"
   ]
  },
  {
   "cell_type": "code",
   "execution_count": 15,
   "metadata": {},
   "outputs": [],
   "source": [
    "dictionary = gensim.corpora.Dictionary(data['processed_discript'].values)"
   ]
  },
  {
   "cell_type": "code",
   "execution_count": 16,
   "metadata": {},
   "outputs": [
    {
     "name": "stdout",
     "output_type": "stream",
     "text": [
      "0 alloy\n",
      "1 bolt\n",
      "2 chrome\n",
      "3 cover\n",
      "4 golf\n",
      "5 look\n",
      "6 passat\n",
      "7 plastic\n",
      "8 polo\n",
      "9 wheel\n",
      "10 bear\n"
     ]
    }
   ],
   "source": [
    "count = 0\n",
    "for k, v in dictionary.iteritems():\n",
    "    print(k, v)\n",
    "    count += 1\n",
    "    if count > 10:\n",
    "        break"
   ]
  },
  {
   "cell_type": "code",
   "execution_count": null,
   "metadata": {},
   "outputs": [],
   "source": [
    "# '''\n",
    "# OPTIONAL STEP\n",
    "# Remove very rare and very common words:\n",
    "\n",
    "# - words appearing less than 15 times\n",
    "# - words appearing in more than 10% of all documents\n",
    "# '''\n",
    "# dictionary.filter_extremes(no_below=15, no_above=0.1, keep_n= 100000)"
   ]
  },
  {
   "cell_type": "code",
   "execution_count": 17,
   "metadata": {},
   "outputs": [],
   "source": [
    "'''\n",
    "Create the Bag-of-words model for each document i.e for each document we create a dictionary reporting how many\n",
    "words and how many times those words appear. Save this to 'bow_corpus'\n",
    "'''\n",
    "bow_corpus = [dictionary.doc2bow(doc) for doc in data['processed_discript'].values]"
   ]
  },
  {
   "cell_type": "code",
   "execution_count": 23,
   "metadata": {},
   "outputs": [
    {
     "name": "stdout",
     "output_type": "stream",
     "text": [
      "Word 333 (\"circuit\") appears 1 time.\n",
      "Word 334 (\"integr\") appears 1 time.\n"
     ]
    }
   ],
   "source": [
    "'''\n",
    "Preview BOW for our sample preprocessed document\n",
    "'''\n",
    "document_num = 9990\n",
    "bow_doc_x = bow_corpus[document_num]\n",
    "\n",
    "for i in range(len(bow_doc_x)):\n",
    "    print(\"Word {} (\\\"{}\\\") appears {} time.\".format(bow_doc_x[i][0], \n",
    "                                                     dictionary[bow_doc_x[i][0]], \n",
    "                                                     bow_doc_x[i][1]))"
   ]
  },
  {
   "cell_type": "code",
   "execution_count": 60,
   "metadata": {},
   "outputs": [],
   "source": [
    "\n",
    "# LDA mono-core -- fallback code in case LdaMulticore throws an error on your machine\n",
    "# lda_model = gensim.models.LdaModel(bow_corpus, \n",
    "#                                    num_topics = 10, \n",
    "#                                    id2word = dictionary,                                    \n",
    "#                                    passes = 50)\n",
    "\n",
    "# LDA multicore \n",
    "'''\n",
    "Train your lda model using gensim.models.LdaMulticore and save it to 'lda_model'\n",
    "'''\n",
    "# TODO\n",
    "lda_model =  gensim.models.LdaMulticore(bow_corpus, \n",
    "                                   num_topics = 28, \n",
    "                                   id2word = dictionary,                                    \n",
    "                                   passes = 10,\n",
    "                                   workers = 2)"
   ]
  },
  {
   "cell_type": "code",
   "execution_count": 61,
   "metadata": {
    "scrolled": true
   },
   "outputs": [
    {
     "name": "stdout",
     "output_type": "stream",
     "text": [
      "Topic: 0 \n",
      "Words: 0.172*\"necklac\" + 0.142*\"shirt\" + 0.112*\"jewelri\" + 0.076*\"charger\" + 0.057*\"pendant\" + 0.051*\"electron\" + 0.040*\"blous\" + 0.036*\"alloy\" + 0.027*\"pad\" + 0.022*\"toothbrush\"\n",
      "\n",
      "\n",
      "Topic: 1 \n",
      "Words: 0.166*\"black\" + 0.059*\"craft\" + 0.051*\"design\" + 0.041*\"cross\" + 0.038*\"aso\" + 0.037*\"stitch\" + 0.033*\"skirt\" + 0.031*\"leather\" + 0.029*\"fit\" + 0.029*\"boot\"\n",
      "\n",
      "\n",
      "Topic: 2 \n",
      "Words: 0.147*\"holder\" + 0.068*\"storag\" + 0.062*\"pant\" + 0.060*\"circuit\" + 0.059*\"set\" + 0.057*\"integr\" + 0.040*\"stand\" + 0.037*\"magnet\" + 0.035*\"charg\" + 0.029*\"cleaner\"\n",
      "\n",
      "\n",
      "Topic: 3 \n",
      "Words: 0.196*\"glass\" + 0.070*\"protect\" + 0.062*\"film\" + 0.052*\"temper\" + 0.045*\"huawei\" + 0.040*\"xiaomi\" + 0.036*\"camera\" + 0.034*\"samsung\" + 0.033*\"honor\" + 0.030*\"cover\"\n",
      "\n",
      "\n",
      "Topic: 4 \n",
      "Words: 0.394*\"screen\" + 0.333*\"protector\" + 0.056*\"glass\" + 0.031*\"rhineston\" + 0.022*\"handl\" + 0.018*\"film\" + 0.018*\"tank\" + 0.014*\"gel\" + 0.008*\"cami\" + 0.008*\"top\"\n",
      "\n",
      "\n",
      "Topic: 5 \n",
      "Words: 0.070*\"earring\" + 0.054*\"outdoor\" + 0.053*\"dangl\" + 0.044*\"drive\" + 0.037*\"needl\" + 0.031*\"pair\" + 0.029*\"flash\" + 0.028*\"hoop\" + 0.028*\"green\" + 0.026*\"insol\"\n",
      "\n",
      "\n",
      "Topic: 6 \n",
      "Words: 0.157*\"dress\" + 0.120*\"plastic\" + 0.081*\"part\" + 0.064*\"balloon\" + 0.045*\"button\" + 0.041*\"sleev\" + 0.039*\"block\" + 0.035*\"bras\" + 0.027*\"hand\" + 0.026*\"pajama\"\n",
      "\n",
      "\n",
      "Topic: 7 \n",
      "Words: 0.107*\"earphon\" + 0.103*\"shoe\" + 0.051*\"sport\" + 0.046*\"headset\" + 0.039*\"headphon\" + 0.038*\"coat\" + 0.038*\"bluetooth\" + 0.034*\"wire\" + 0.033*\"wireless\" + 0.029*\"jacket\"\n",
      "\n",
      "\n",
      "Topic: 8 \n",
      "Words: 0.239*\"cabl\" + 0.101*\"bracelet\" + 0.061*\"brush\" + 0.049*\"paint\" + 0.042*\"diamond\" + 0.041*\"tape\" + 0.034*\"chain\" + 0.029*\"data\" + 0.027*\"repair\" + 0.026*\"spong\"\n",
      "\n",
      "\n",
      "Topic: 9 \n",
      "Words: 0.127*\"watch\" + 0.091*\"panti\" + 0.085*\"cloth\" + 0.074*\"sunglass\" + 0.062*\"steel\" + 0.047*\"stainless\" + 0.030*\"buckl\" + 0.029*\"keychain\" + 0.026*\"quartz\" + 0.026*\"children\"\n",
      "\n",
      "\n",
      "Topic: 10 \n",
      "Words: 0.271*\"sticker\" + 0.072*\"decal\" + 0.049*\"wall\" + 0.048*\"control\" + 0.047*\"underwear\" + 0.029*\"smart\" + 0.024*\"remot\" + 0.024*\"bikini\" + 0.023*\"shoulder\" + 0.023*\"safeti\"\n",
      "\n",
      "\n",
      "Topic: 11 \n",
      "Words: 0.081*\"mask\" + 0.058*\"anti\" + 0.053*\"face\" + 0.051*\"patch\" + 0.047*\"short\" + 0.040*\"ornament\" + 0.037*\"massag\" + 0.026*\"cotton\" + 0.025*\"auto\" + 0.025*\"care\"\n",
      "\n",
      "\n",
      "Topic: 12 \n",
      "Words: 0.119*\"band\" + 0.066*\"modul\" + 0.050*\"high\" + 0.049*\"bottl\" + 0.045*\"board\" + 0.044*\"hair\" + 0.043*\"rubber\" + 0.042*\"sweater\" + 0.041*\"waist\" + 0.031*\"paper\"\n",
      "\n",
      "\n",
      "Topic: 13 \n",
      "Words: 0.353*\"accessori\" + 0.132*\"sock\" + 0.044*\"white\" + 0.036*\"cream\" + 0.036*\"flower\" + 0.025*\"suit\" + 0.022*\"artifici\" + 0.020*\"eyelin\" + 0.017*\"thermomet\" + 0.017*\"doll\"\n",
      "\n",
      "\n",
      "Topic: 14 \n",
      "Words: 0.125*\"bumper\" + 0.115*\"phone\" + 0.095*\"remov\" + 0.075*\"water\" + 0.047*\"scarf\" + 0.030*\"rise\" + 0.028*\"teeth\" + 0.027*\"magic\" + 0.021*\"pump\" + 0.021*\"whiten\"\n",
      "\n",
      "\n",
      "Topic: 15 \n",
      "Words: 0.205*\"tool\" + 0.079*\"makeup\" + 0.068*\"brooch\" + 0.053*\"bodi\" + 0.041*\"suppli\" + 0.039*\"brush\" + 0.035*\"power\" + 0.031*\"sew\" + 0.030*\"stick\" + 0.030*\"jewelri\"\n",
      "\n",
      "\n",
      "Topic: 16 \n",
      "Words: 0.114*\"case\" + 0.103*\"iphon\" + 0.094*\"silicon\" + 0.092*\"soft\" + 0.048*\"plus\" + 0.047*\"blue\" + 0.045*\"shell\" + 0.041*\"cover\" + 0.038*\"transpar\" + 0.026*\"bath\"\n",
      "\n",
      "\n",
      "Topic: 17 \n",
      "Words: 0.118*\"cover\" + 0.096*\"adapt\" + 0.057*\"color\" + 0.048*\"waterproof\" + 0.030*\"top\" + 0.029*\"long\" + 0.026*\"cushion\" + 0.024*\"lipstick\" + 0.024*\"liquid\" + 0.023*\"capsul\"\n",
      "\n",
      "\n",
      "Topic: 18 \n",
      "Words: 0.191*\"women\" + 0.076*\"bead\" + 0.041*\"fashion\" + 0.037*\"lace\" + 0.037*\"belt\" + 0.029*\"sexi\" + 0.029*\"wallet\" + 0.027*\"doll\" + 0.025*\"ladi\" + 0.019*\"ribbon\"\n",
      "\n",
      "\n",
      "Topic: 19 \n",
      "Words: 0.331*\"nail\" + 0.070*\"sticker\" + 0.050*\"tool\" + 0.042*\"polish\" + 0.033*\"beauti\" + 0.028*\"decor\" + 0.022*\"fabric\" + 0.017*\"figur\" + 0.016*\"stamp\" + 0.016*\"extens\"\n",
      "\n",
      "\n",
      "Topic: 20 \n",
      "Words: 0.067*\"kitchen\" + 0.055*\"tool\" + 0.050*\"glove\" + 0.046*\"cake\" + 0.044*\"mold\" + 0.041*\"strip\" + 0.040*\"switch\" + 0.033*\"towel\" + 0.031*\"tube\" + 0.029*\"bake\"\n",
      "\n",
      "\n",
      "Topic: 21 \n",
      "Words: 0.119*\"toy\" + 0.072*\"head\" + 0.070*\"product\" + 0.055*\"adult\" + 0.045*\"line\" + 0.038*\"filter\" + 0.031*\"collar\" + 0.024*\"travel\" + 0.023*\"pen\" + 0.022*\"socket\"\n",
      "\n",
      "\n",
      "Topic: 22 \n",
      "Words: 0.256*\"fish\" + 0.103*\"lure\" + 0.058*\"hook\" + 0.038*\"compon\" + 0.036*\"find\" + 0.034*\"jewelri\" + 0.029*\"cutter\" + 0.028*\"bait\" + 0.021*\"wristband\" + 0.021*\"softgel\"\n",
      "\n",
      "\n",
      "Topic: 23 \n",
      "Words: 0.198*\"ring\" + 0.173*\"light\" + 0.062*\"eyelash\" + 0.058*\"lamp\" + 0.041*\"fals\" + 0.037*\"mini\" + 0.035*\"plug\" + 0.025*\"support\" + 0.024*\"night\" + 0.023*\"string\"\n",
      "\n",
      "\n",
      "Topic: 24 \n",
      "Words: 0.226*\"earring\" + 0.047*\"drop\" + 0.042*\"stud\" + 0.035*\"women\" + 0.034*\"metal\" + 0.031*\"jewelri\" + 0.031*\"gift\" + 0.027*\"fashion\" + 0.026*\"tattoo\" + 0.025*\"crystal\"\n",
      "\n",
      "\n",
      "Topic: 25 \n",
      "Words: 0.132*\"decor\" + 0.097*\"hair\" + 0.064*\"clip\" + 0.054*\"babi\" + 0.045*\"headwear\" + 0.044*\"connector\" + 0.042*\"home\" + 0.039*\"kid\" + 0.030*\"stationeri\" + 0.025*\"christma\"\n",
      "\n",
      "\n",
      "Topic: 26 \n",
      "Words: 0.361*\"phone\" + 0.319*\"case\" + 0.130*\"mobil\" + 0.086*\"bag\" + 0.023*\"drill\" + 0.018*\"cover\" + 0.006*\"tablet\" + 0.006*\"popular\" + 0.004*\"bit\" + 0.004*\"flex\"\n",
      "\n",
      "\n",
      "Topic: 27 \n",
      "Words: 0.147*\"card\" + 0.075*\"strap\" + 0.057*\"pencil\" + 0.057*\"eyebrow\" + 0.048*\"cap\" + 0.041*\"holder\" + 0.037*\"memori\" + 0.033*\"watchband\" + 0.027*\"cell\" + 0.026*\"wrist\"\n",
      "\n",
      "\n"
     ]
    }
   ],
   "source": [
    "'''\n",
    "For each topic, we will explore the words occuring in that topic and its relative weight\n",
    "'''\n",
    "for idx, topic in lda_model.print_topics(-1):\n",
    "    print(\"Topic: {} \\nWords: {}\".format(idx, topic ))\n",
    "    print(\"\\n\")"
   ]
  },
  {
   "cell_type": "code",
   "execution_count": 68,
   "metadata": {},
   "outputs": [
    {
     "name": "stdout",
     "output_type": "stream",
     "text": [
      "nail forms\n",
      "https://joom.com/products/5ba1c0e28b2c3701527a83be\n"
     ]
    }
   ],
   "source": [
    "num = 999999\n",
    "print(data['goods_name'].iloc[num])\n",
    "print(data['goods_url'].iloc[num])"
   ]
  },
  {
   "cell_type": "code",
   "execution_count": 69,
   "metadata": {
    "collapsed": true
   },
   "outputs": [
    {
     "name": "stdout",
     "output_type": "stream",
     "text": [
      "Score: 0.6786\t Topic 19: 0.331*\"nail\" + 0.070*\"sticker\" + 0.050*\"tool\" + 0.042*\"polish\"\n",
      "Score: 0.0119\t Topic 0: 0.172*\"necklac\" + 0.142*\"shirt\" + 0.112*\"jewelri\" + 0.076*\"charger\"\n",
      "Score: 0.0119\t Topic 1: 0.166*\"black\" + 0.059*\"craft\" + 0.051*\"design\" + 0.041*\"cross\"\n",
      "Score: 0.0119\t Topic 2: 0.147*\"holder\" + 0.068*\"storag\" + 0.062*\"pant\" + 0.060*\"circuit\"\n",
      "Score: 0.0119\t Topic 3: 0.196*\"glass\" + 0.070*\"protect\" + 0.062*\"film\" + 0.052*\"temper\"\n",
      "Score: 0.0119\t Topic 4: 0.394*\"screen\" + 0.333*\"protector\" + 0.056*\"glass\" + 0.031*\"rhineston\"\n",
      "Score: 0.0119\t Topic 5: 0.070*\"earring\" + 0.054*\"outdoor\" + 0.053*\"dangl\" + 0.044*\"drive\"\n",
      "Score: 0.0119\t Topic 6: 0.157*\"dress\" + 0.120*\"plastic\" + 0.081*\"part\" + 0.064*\"balloon\"\n",
      "Score: 0.0119\t Topic 7: 0.107*\"earphon\" + 0.103*\"shoe\" + 0.051*\"sport\" + 0.046*\"headset\"\n",
      "Score: 0.0119\t Topic 8: 0.239*\"cabl\" + 0.101*\"bracelet\" + 0.061*\"brush\" + 0.049*\"paint\"\n",
      "Score: 0.0119\t Topic 9: 0.127*\"watch\" + 0.091*\"panti\" + 0.085*\"cloth\" + 0.074*\"sunglass\"\n",
      "Score: 0.0119\t Topic 10: 0.271*\"sticker\" + 0.072*\"decal\" + 0.049*\"wall\" + 0.048*\"control\"\n",
      "Score: 0.0119\t Topic 11: 0.081*\"mask\" + 0.058*\"anti\" + 0.053*\"face\" + 0.051*\"patch\"\n",
      "Score: 0.0119\t Topic 12: 0.119*\"band\" + 0.066*\"modul\" + 0.050*\"high\" + 0.049*\"bottl\"\n",
      "Score: 0.0119\t Topic 13: 0.353*\"accessori\" + 0.132*\"sock\" + 0.044*\"white\" + 0.036*\"cream\"\n",
      "Score: 0.0119\t Topic 14: 0.125*\"bumper\" + 0.115*\"phone\" + 0.095*\"remov\" + 0.075*\"water\"\n",
      "Score: 0.0119\t Topic 15: 0.205*\"tool\" + 0.079*\"makeup\" + 0.068*\"brooch\" + 0.053*\"bodi\"\n",
      "Score: 0.0119\t Topic 16: 0.114*\"case\" + 0.103*\"iphon\" + 0.094*\"silicon\" + 0.092*\"soft\"\n",
      "Score: 0.0119\t Topic 17: 0.118*\"cover\" + 0.096*\"adapt\" + 0.057*\"color\" + 0.048*\"waterproof\"\n",
      "Score: 0.0119\t Topic 18: 0.191*\"women\" + 0.076*\"bead\" + 0.041*\"fashion\" + 0.037*\"lace\"\n",
      "Score: 0.0119\t Topic 20: 0.067*\"kitchen\" + 0.055*\"tool\" + 0.050*\"glove\" + 0.046*\"cake\"\n",
      "Score: 0.0119\t Topic 21: 0.119*\"toy\" + 0.072*\"head\" + 0.070*\"product\" + 0.055*\"adult\"\n",
      "Score: 0.0119\t Topic 22: 0.256*\"fish\" + 0.103*\"lure\" + 0.058*\"hook\" + 0.038*\"compon\"\n",
      "Score: 0.0119\t Topic 23: 0.198*\"ring\" + 0.173*\"light\" + 0.062*\"eyelash\" + 0.058*\"lamp\"\n",
      "Score: 0.0119\t Topic 24: 0.226*\"earring\" + 0.047*\"drop\" + 0.042*\"stud\" + 0.035*\"women\"\n",
      "Score: 0.0119\t Topic 25: 0.132*\"decor\" + 0.097*\"hair\" + 0.064*\"clip\" + 0.054*\"babi\"\n",
      "Score: 0.0119\t Topic 26: 0.361*\"phone\" + 0.319*\"case\" + 0.130*\"mobil\" + 0.086*\"bag\"\n",
      "Score: 0.0119\t Topic 27: 0.147*\"card\" + 0.075*\"strap\" + 0.057*\"pencil\" + 0.057*\"eyebrow\"\n"
     ]
    }
   ],
   "source": [
    "# Data preprocessing step for the unseen document\n",
    "unseen_document = data['goods_name'].iloc[num]\n",
    "bow_vector = dictionary.doc2bow(preprocess(unseen_document))\n",
    "\n",
    "for index, score in sorted(lda_model[bow_vector], key=lambda tup: -1*tup[1]):\n",
    "    print(f\"Score: {score:.4f}\\t Topic {index}: {lda_model.print_topic(index, 4)}\")"
   ]
  },
  {
   "cell_type": "code",
   "execution_count": 70,
   "metadata": {},
   "outputs": [],
   "source": [
    "def get_topic(model, dictionary, discription):\n",
    "    bow_vector = dictionary.doc2bow(preprocess(discription))\n",
    "    topic, score = sorted(model[bow_vector], key=lambda tup: -1*tup[1])[0]\n",
    "    return topic, score"
   ]
  },
  {
   "cell_type": "code",
   "execution_count": 72,
   "metadata": {},
   "outputs": [
    {
     "name": "stdout",
     "output_type": "stream",
     "text": [
      "CPU times: user 7min 43s, sys: 2.95 s, total: 7min 46s\n",
      "Wall time: 7min 44s\n"
     ]
    }
   ],
   "source": [
    "%%time\n",
    "data[['topic', 'score']] = data['goods_name'].apply(lambda row: pd.Series(get_topic(lda_model, dictionary, row)))"
   ]
  },
  {
   "cell_type": "code",
   "execution_count": 73,
   "metadata": {},
   "outputs": [
    {
     "data": {
      "text/html": [
       "<div>\n",
       "<style scoped>\n",
       "    .dataframe tbody tr th:only-of-type {\n",
       "        vertical-align: middle;\n",
       "    }\n",
       "\n",
       "    .dataframe tbody tr th {\n",
       "        vertical-align: top;\n",
       "    }\n",
       "\n",
       "    .dataframe thead th {\n",
       "        text-align: right;\n",
       "    }\n",
       "</style>\n",
       "<table border=\"1\" class=\"dataframe\">\n",
       "  <thead>\n",
       "    <tr style=\"text-align: right;\">\n",
       "      <th></th>\n",
       "      <th>goods_name</th>\n",
       "      <th>goods_url</th>\n",
       "      <th>processed_discript</th>\n",
       "      <th>topic</th>\n",
       "      <th>score</th>\n",
       "    </tr>\n",
       "  </thead>\n",
       "  <tbody>\n",
       "    <tr>\n",
       "      <th>0</th>\n",
       "      <td>17mm chrome car alloy wheel looking nut bolt c...</td>\n",
       "      <td>https://joom.com/products/1504168028812618290-...</td>\n",
       "      <td>[chrome, alloy, wheel, look, bolt, cover, golf...</td>\n",
       "      <td>2.0</td>\n",
       "      <td>0.303560</td>\n",
       "    </tr>\n",
       "    <tr>\n",
       "      <th>1</th>\n",
       "      <td>bearings</td>\n",
       "      <td>http://www.aliexpress.com/item//32820266911.html</td>\n",
       "      <td>[bear]</td>\n",
       "      <td>25.0</td>\n",
       "      <td>0.517846</td>\n",
       "    </tr>\n",
       "    <tr>\n",
       "      <th>2</th>\n",
       "      <td>coins</td>\n",
       "      <td>https://joom.com/products/5d5baa1328fc7101019e...</td>\n",
       "      <td>[coin]</td>\n",
       "      <td>15.0</td>\n",
       "      <td>0.517852</td>\n",
       "    </tr>\n",
       "    <tr>\n",
       "      <th>3</th>\n",
       "      <td>phone case(hg0150a7)</td>\n",
       "      <td>http://www.aliexpress.com/item//4000267904278....</td>\n",
       "      <td>[phone, case]</td>\n",
       "      <td>26.0</td>\n",
       "      <td>0.678571</td>\n",
       "    </tr>\n",
       "    <tr>\n",
       "      <th>4</th>\n",
       "      <td>screen protectors</td>\n",
       "      <td>http://www.aliexpress.com/item//4000581879117....</td>\n",
       "      <td>[screen, protector]</td>\n",
       "      <td>4.0</td>\n",
       "      <td>0.678571</td>\n",
       "    </tr>\n",
       "  </tbody>\n",
       "</table>\n",
       "</div>"
      ],
      "text/plain": [
       "                                          goods_name  \\\n",
       "0  17mm chrome car alloy wheel looking nut bolt c...   \n",
       "1                                           bearings   \n",
       "2                                              coins   \n",
       "3                               phone case(hg0150a7)   \n",
       "4                                  screen protectors   \n",
       "\n",
       "                                           goods_url  \\\n",
       "0  https://joom.com/products/1504168028812618290-...   \n",
       "1   http://www.aliexpress.com/item//32820266911.html   \n",
       "2  https://joom.com/products/5d5baa1328fc7101019e...   \n",
       "3  http://www.aliexpress.com/item//4000267904278....   \n",
       "4  http://www.aliexpress.com/item//4000581879117....   \n",
       "\n",
       "                                  processed_discript  topic     score  \n",
       "0  [chrome, alloy, wheel, look, bolt, cover, golf...    2.0  0.303560  \n",
       "1                                             [bear]   25.0  0.517846  \n",
       "2                                             [coin]   15.0  0.517852  \n",
       "3                                      [phone, case]   26.0  0.678571  \n",
       "4                                [screen, protector]    4.0  0.678571  "
      ]
     },
     "execution_count": 73,
     "metadata": {},
     "output_type": "execute_result"
    }
   ],
   "source": [
    "data.head()"
   ]
  },
  {
   "cell_type": "code",
   "execution_count": 74,
   "metadata": {},
   "outputs": [
    {
     "name": "stdout",
     "output_type": "stream",
     "text": [
      "<class 'pandas.core.frame.DataFrame'>\n",
      "RangeIndex: 1000000 entries, 0 to 999999\n",
      "Data columns (total 5 columns):\n",
      " #   Column              Non-Null Count    Dtype  \n",
      "---  ------              --------------    -----  \n",
      " 0   goods_name          1000000 non-null  object \n",
      " 1   goods_url           1000000 non-null  object \n",
      " 2   processed_discript  1000000 non-null  object \n",
      " 3   topic               1000000 non-null  float64\n",
      " 4   score               1000000 non-null  float64\n",
      "dtypes: float64(2), object(3)\n",
      "memory usage: 38.1+ MB\n"
     ]
    }
   ],
   "source": [
    "data.info()"
   ]
  },
  {
   "cell_type": "code",
   "execution_count": 79,
   "metadata": {},
   "outputs": [
    {
     "data": {
      "text/plain": [
       "<AxesSubplot:>"
      ]
     },
     "execution_count": 79,
     "metadata": {},
     "output_type": "execute_result"
    },
    {
     "data": {
      "image/png": "[encoded data removed]",
      "text/plain": [
       "<Figure size 432x288 with 1 Axes>"
      ]
     },
     "metadata": {
      "needs_background": "light"
     },
     "output_type": "display_data"
    }
   ],
   "source": [
    "data['topic'].value_counts(normalize=True).plot(kind='bar')"
   ]
  },
  {
   "cell_type": "code",
   "execution_count": 82,
   "metadata": {},
   "outputs": [
    {
     "name": "stdout",
     "output_type": "stream",
     "text": [
      "http://www.aliexpress.com/item//32949884026.html\n",
      "http://www.aliexpress.com/item//4000777168907.html\n",
      "http://www.aliexpress.com/item//4000266717438.html\n",
      "http://www.aliexpress.com/item//4000238802777.html\n",
      "http://www.aliexpress.com/item//32956485453.html\n",
      "http://www.aliexpress.com/item//4000117654955.html\n",
      "http://www.aliexpress.com/item//32851915380.html\n",
      "http://www.aliexpress.com/item//32991581078.html\n",
      "http://www.aliexpress.com/item//32990067865.html\n",
      "http://www.aliexpress.com/item//1005001450597159.html\n"
     ]
    }
   ],
   "source": [
    "_ = data[data['topic'] == 26]['goods_url'].sample(10).apply(print)"
   ]
  },
  {
   "cell_type": "code",
   "execution_count": 86,
   "metadata": {
    "scrolled": true
   },
   "outputs": [
    {
     "name": "stdout",
     "output_type": "stream",
     "text": [
      "http://www.aliexpress.com/item//4001144242966.html\n",
      "http://www.aliexpress.com/item//4000495863187.html\n",
      "http://www.aliexpress.com/item//4000083962920.html\n",
      "http://www.aliexpress.com/item//32522322459.html\n",
      "http://www.aliexpress.com/item//4000266144189.html\n",
      "http://www.aliexpress.com/item//32892955088.html\n",
      "http://www.aliexpress.com/item//4001196159983.html\n",
      "http://www.aliexpress.com/item//33009870306.html\n",
      "http://www.aliexpress.com/item//404.html\n",
      "http://www.aliexpress.com/item//33032902811.html\n"
     ]
    }
   ],
   "source": [
    "_ = data[data['topic'] == 0]['goods_url'].sample(10).apply(print)"
   ]
  },
  {
   "cell_type": "code",
   "execution_count": 88,
   "metadata": {},
   "outputs": [],
   "source": [
    "data.to_pickle('../../data/7/goods_description_processed.pckl')"
   ]
  },
  {
   "cell_type": "code",
   "execution_count": null,
   "metadata": {},
   "outputs": [],
   "source": []
  },
  {
   "cell_type": "code",
   "execution_count": null,
   "metadata": {},
   "outputs": [],
   "source": []
  },
  {
   "cell_type": "code",
   "execution_count": null,
   "metadata": {},
   "outputs": [],
   "source": []
  },
  {
   "cell_type": "code",
   "execution_count": null,
   "metadata": {},
   "outputs": [],
   "source": []
  }
 ],
 "metadata": {
  "kernelspec": {
   "display_name": "Python 3",
   "language": "python",
   "name": "python3"
  },
  "language_info": {
   "codemirror_mode": {
    "name": "ipython",
    "version": 3
   },
   "file_extension": ".py",
   "mimetype": "text/x-python",
   "name": "python",
   "nbconvert_exporter": "python",
   "pygments_lexer": "ipython3",
   "version": "3.6.6"
  }
 },
 "nbformat": 4,
 "nbformat_minor": 2
}
