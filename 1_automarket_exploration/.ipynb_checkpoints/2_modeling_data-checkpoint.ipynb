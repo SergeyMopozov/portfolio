{
 "cells": [
  {
   "cell_type": "markdown",
   "metadata": {},
   "source": [
    "## Building model for used cars price prediction\n",
    "### Action plan:\n",
    "1. Loas data \n",
    "2. Freature engineering - generate new features\n",
    "3. Featire transform\n",
    "4. Make pipline\n",
    "5. Fit and tuning models\n",
    "6. Interpret result"
   ]
  },
  {
   "cell_type": "code",
   "execution_count": 1,
   "metadata": {},
   "outputs": [],
   "source": [
    "import pandas as pd\n",
    "import numpy as np\n",
    "import matplotlib.pyplot as plt\n",
    "import seaborn as sns\n",
    "from glob import glob\n",
    "\n",
    "from sklearn.preprocessing import StandardScaler, Normalizer, MinMaxScaler\n",
    "from sklearn.preprocessing import OneHotEncoder, LabelEncoder, OrdinalEncoder\n",
    "\n",
    "from sklearn.model_selection import train_test_split\n",
    "\n",
    "from sklearn.linear_model import LinearRegression, Lasso, LassoCV, RidgeCV\n",
    "from sklearn.metrics import mean_squared_error, mean_absolute_error\n",
    "\n",
    "from sklearn.ensemble import RandomForestRegressor\n",
    "from sklearn.model_selection import GridSearchCV\n",
    "\n",
    "import statsmodels.api as sm\n",
    "\n",
    "from catboost import CatBoostRegressor\n",
    "from xgboost import XGBRegressor\n",
    "from lightgbm import LGBMRegressor"
   ]
  },
  {
   "cell_type": "code",
   "execution_count": 3,
   "metadata": {},
   "outputs": [
    {
     "data": {
      "text/plain": [
       "['../../data/1_automarket_exploration/source_data/clean_data_offer_used 2020-03-02 20:04.csv',\n",
       " '../../data/1_automarket_exploration/source_data/clean_data_offer_used 2020-03-03 17:14.csv',\n",
       " '../../data/1_automarket_exploration/source_data/clean_data_offer_used 2020-09-04 13:17.csv',\n",
       " '../../data/1_automarket_exploration/source_data/clean_data_offer_used 2020-10-19 19:10.csv',\n",
       " '../../data/1_automarket_exploration/source_data/clean_data_offer_used 2020-10-19 19:12.csv']"
      ]
     },
     "execution_count": 3,
     "metadata": {},
     "output_type": "execute_result"
    }
   ],
   "source": [
    "sorted(glob('../../data/1_automarket_exploration/source_data/clean_data_offer_used*'))"
   ]
  },
  {
   "cell_type": "markdown",
   "metadata": {},
   "source": [
    "### 1. Load data"
   ]
  },
  {
   "cell_type": "code",
   "execution_count": 4,
   "metadata": {},
   "outputs": [],
   "source": [
    "# load data clean_data_offer_used 2020-03-03 17:09.csv\n",
    "offer_data = pd.read_csv('../../data/1_automarket_exploration/source_data/clean_data_offer_used 2020-10-19 19:12.csv', index_col=0)"
   ]
  },
  {
   "cell_type": "code",
   "execution_count": 5,
   "metadata": {},
   "outputs": [
    {
     "name": "stdout",
     "output_type": "stream",
     "text": [
      "<class 'pandas.core.frame.DataFrame'>\n",
      "Int64Index: 244659 entries, 0 to 246323\n",
      "Data columns (total 20 columns):\n",
      " #   Column                 Non-Null Count   Dtype  \n",
      "---  ------                 --------------   -----  \n",
      " 0   producer               244659 non-null  object \n",
      " 1   model_name             244659 non-null  object \n",
      " 2   price                  244659 non-null  int64  \n",
      " 3   age                    244659 non-null  int64  \n",
      " 4   kmage                  244659 non-null  int64  \n",
      " 5   region                 244659 non-null  object \n",
      " 6   engine_volume          244659 non-null  float64\n",
      " 7   engine_power           244659 non-null  float64\n",
      " 8   fuel                   244659 non-null  object \n",
      " 9   gear                   244659 non-null  object \n",
      " 10  case                   244659 non-null  object \n",
      " 11  drive_type             244659 non-null  object \n",
      " 12  color                  244659 non-null  object \n",
      " 13  offer_count_by_region  244659 non-null  int64  \n",
      " 14  lat                    244659 non-null  float64\n",
      " 15  lng                    244659 non-null  float64\n",
      " 16  macro_name             244659 non-null  object \n",
      " 17  origin_of_producer     244659 non-null  object \n",
      " 18  platform               244659 non-null  object \n",
      " 19  specific_power         244659 non-null  float64\n",
      "dtypes: float64(5), int64(4), object(11)\n",
      "memory usage: 39.2+ MB\n"
     ]
    }
   ],
   "source": [
    "offer_data.info()"
   ]
  },
  {
   "cell_type": "markdown",
   "metadata": {},
   "source": [
    "### Short EDA"
   ]
  },
  {
   "cell_type": "code",
   "execution_count": 6,
   "metadata": {},
   "outputs": [
    {
     "data": {
      "image/png": "[encoded data removed]",
      "text/plain": [
       "<Figure size 432x288 with 1 Axes>"
      ]
     },
     "metadata": {
      "needs_background": "light"
     },
     "output_type": "display_data"
    }
   ],
   "source": [
    "offer_data['price'].hist(bins=100)\n",
    "plt.title('Price');"
   ]
  },
  {
   "cell_type": "code",
   "execution_count": 7,
   "metadata": {},
   "outputs": [
    {
     "name": "stdout",
     "output_type": "stream",
     "text": [
      "Logarithm price\n"
     ]
    },
    {
     "data": {
      "image/png": "[encoded data removed]",
      "text/plain": [
       "<Figure size 432x288 with 1 Axes>"
      ]
     },
     "metadata": {
      "needs_background": "light"
     },
     "output_type": "display_data"
    }
   ],
   "source": [
    "np.log(offer_data['price']).hist(bins=100)\n",
    "print('Logarithm price')"
   ]
  },
  {
   "cell_type": "code",
   "execution_count": 7,
   "metadata": {},
   "outputs": [
    {
     "name": "stdout",
     "output_type": "stream",
     "text": [
      "['producer', 'model_name', 'region', 'fuel', 'gear', 'case', 'drive_type', 'color', 'macro_name', 'origin_of_producer', 'platform']\n",
      "['price', 'age', 'kmage', 'engine_volume', 'engine_power', 'offer_count_by_region', 'lat', 'lng', 'specific_power']\n"
     ]
    }
   ],
   "source": [
    "category_columns = [col_name  for col_name in offer_data.columns if offer_data[col_name].dtype == 'object']\n",
    "print(category_columns)\n",
    "numeric_columns = [col_name  for col_name in offer_data.columns if offer_data[col_name].dtype != 'object']\n",
    "print(numeric_columns)"
   ]
  },
  {
   "cell_type": "code",
   "execution_count": 10,
   "metadata": {},
   "outputs": [
    {
     "data": {
      "text/html": [
       "<div>\n",
       "<style scoped>\n",
       "    .dataframe tbody tr th:only-of-type {\n",
       "        vertical-align: middle;\n",
       "    }\n",
       "\n",
       "    .dataframe tbody tr th {\n",
       "        vertical-align: top;\n",
       "    }\n",
       "\n",
       "    .dataframe thead th {\n",
       "        text-align: right;\n",
       "    }\n",
       "</style>\n",
       "<table border=\"1\" class=\"dataframe\">\n",
       "  <thead>\n",
       "    <tr style=\"text-align: right;\">\n",
       "      <th></th>\n",
       "      <th>producer</th>\n",
       "      <th>model_name</th>\n",
       "      <th>region</th>\n",
       "      <th>fuel</th>\n",
       "      <th>gear</th>\n",
       "      <th>case</th>\n",
       "      <th>drive_type</th>\n",
       "      <th>color</th>\n",
       "      <th>macro_name</th>\n",
       "      <th>origin_of_producer</th>\n",
       "      <th>platform</th>\n",
       "    </tr>\n",
       "  </thead>\n",
       "  <tbody>\n",
       "    <tr>\n",
       "      <th>count</th>\n",
       "      <td>244659</td>\n",
       "      <td>244659</td>\n",
       "      <td>244659</td>\n",
       "      <td>244659</td>\n",
       "      <td>244659</td>\n",
       "      <td>244659</td>\n",
       "      <td>244659</td>\n",
       "      <td>244659</td>\n",
       "      <td>244659</td>\n",
       "      <td>244659</td>\n",
       "      <td>244659</td>\n",
       "    </tr>\n",
       "    <tr>\n",
       "      <th>unique</th>\n",
       "      <td>12</td>\n",
       "      <td>1513</td>\n",
       "      <td>4287</td>\n",
       "      <td>4</td>\n",
       "      <td>4</td>\n",
       "      <td>19</td>\n",
       "      <td>3</td>\n",
       "      <td>16</td>\n",
       "      <td>289</td>\n",
       "      <td>6</td>\n",
       "      <td>128</td>\n",
       "    </tr>\n",
       "    <tr>\n",
       "      <th>top</th>\n",
       "      <td>LADA</td>\n",
       "      <td>LADA (ВАЗ) 2115</td>\n",
       "      <td>Москва</td>\n",
       "      <td>Бензин</td>\n",
       "      <td>механика</td>\n",
       "      <td>седан</td>\n",
       "      <td>передний</td>\n",
       "      <td>чёрный</td>\n",
       "      <td>Москва</td>\n",
       "      <td>Japan</td>\n",
       "      <td>Volkswagen Passat</td>\n",
       "    </tr>\n",
       "    <tr>\n",
       "      <th>freq</th>\n",
       "      <td>40058</td>\n",
       "      <td>3694</td>\n",
       "      <td>36251</td>\n",
       "      <td>213769</td>\n",
       "      <td>114382</td>\n",
       "      <td>102459</td>\n",
       "      <td>149909</td>\n",
       "      <td>58264</td>\n",
       "      <td>37013</td>\n",
       "      <td>57313</td>\n",
       "      <td>4426</td>\n",
       "    </tr>\n",
       "  </tbody>\n",
       "</table>\n",
       "</div>"
      ],
      "text/plain": [
       "       producer       model_name  region    fuel      gear    case drive_type  \\\n",
       "count    244659           244659  244659  244659    244659  244659     244659   \n",
       "unique       12             1513    4287       4         4      19          3   \n",
       "top        LADA  LADA (ВАЗ) 2115  Москва  Бензин  механика   седан   передний   \n",
       "freq      40058             3694   36251  213769    114382  102459     149909   \n",
       "\n",
       "         color macro_name origin_of_producer           platform  \n",
       "count   244659     244659             244659             244659  \n",
       "unique      16        289                  6                128  \n",
       "top     чёрный     Москва              Japan  Volkswagen Passat  \n",
       "freq     58264      37013              57313               4426  "
      ]
     },
     "execution_count": 10,
     "metadata": {},
     "output_type": "execute_result"
    }
   ],
   "source": [
    "offer_data[category_columns].describe()"
   ]
  },
  {
   "cell_type": "code",
   "execution_count": 11,
   "metadata": {},
   "outputs": [
    {
     "data": {
      "text/html": [
       "<div>\n",
       "<style scoped>\n",
       "    .dataframe tbody tr th:only-of-type {\n",
       "        vertical-align: middle;\n",
       "    }\n",
       "\n",
       "    .dataframe tbody tr th {\n",
       "        vertical-align: top;\n",
       "    }\n",
       "\n",
       "    .dataframe thead th {\n",
       "        text-align: right;\n",
       "    }\n",
       "</style>\n",
       "<table border=\"1\" class=\"dataframe\">\n",
       "  <thead>\n",
       "    <tr style=\"text-align: right;\">\n",
       "      <th></th>\n",
       "      <th>price</th>\n",
       "      <th>age</th>\n",
       "      <th>kmage</th>\n",
       "      <th>engine_volume</th>\n",
       "      <th>engine_power</th>\n",
       "      <th>offer_count_by_region</th>\n",
       "      <th>lat</th>\n",
       "      <th>lng</th>\n",
       "      <th>specific_power</th>\n",
       "    </tr>\n",
       "  </thead>\n",
       "  <tbody>\n",
       "    <tr>\n",
       "      <th>count</th>\n",
       "      <td>2.446590e+05</td>\n",
       "      <td>244659.000000</td>\n",
       "      <td>244659.000000</td>\n",
       "      <td>244659.000000</td>\n",
       "      <td>244659.000000</td>\n",
       "      <td>244659.000000</td>\n",
       "      <td>244659.000000</td>\n",
       "      <td>244659.000000</td>\n",
       "      <td>244659.000000</td>\n",
       "    </tr>\n",
       "    <tr>\n",
       "      <th>mean</th>\n",
       "      <td>6.681092e+05</td>\n",
       "      <td>2009.941085</td>\n",
       "      <td>139531.335406</td>\n",
       "      <td>2.014756</td>\n",
       "      <td>140.537458</td>\n",
       "      <td>7761.495428</td>\n",
       "      <td>54.211054</td>\n",
       "      <td>46.455883</td>\n",
       "      <td>69.170906</td>\n",
       "    </tr>\n",
       "    <tr>\n",
       "      <th>std</th>\n",
       "      <td>6.367128e+05</td>\n",
       "      <td>5.408746</td>\n",
       "      <td>85909.282204</td>\n",
       "      <td>0.722566</td>\n",
       "      <td>60.893459</td>\n",
       "      <td>12511.295958</td>\n",
       "      <td>4.794097</td>\n",
       "      <td>16.543596</td>\n",
       "      <td>13.736938</td>\n",
       "    </tr>\n",
       "    <tr>\n",
       "      <th>min</th>\n",
       "      <td>9.000000e+03</td>\n",
       "      <td>1990.000000</td>\n",
       "      <td>1.000000</td>\n",
       "      <td>0.800000</td>\n",
       "      <td>45.000000</td>\n",
       "      <td>1.000000</td>\n",
       "      <td>13.062550</td>\n",
       "      <td>-90.070381</td>\n",
       "      <td>27.692308</td>\n",
       "    </tr>\n",
       "    <tr>\n",
       "      <th>25%</th>\n",
       "      <td>2.690000e+05</td>\n",
       "      <td>2007.000000</td>\n",
       "      <td>80000.000000</td>\n",
       "      <td>1.600000</td>\n",
       "      <td>98.000000</td>\n",
       "      <td>313.000000</td>\n",
       "      <td>52.591257</td>\n",
       "      <td>37.622504</td>\n",
       "      <td>61.250000</td>\n",
       "    </tr>\n",
       "    <tr>\n",
       "      <th>50%</th>\n",
       "      <td>5.000000e+05</td>\n",
       "      <td>2011.000000</td>\n",
       "      <td>128500.000000</td>\n",
       "      <td>1.700000</td>\n",
       "      <td>124.000000</td>\n",
       "      <td>1589.000000</td>\n",
       "      <td>55.753215</td>\n",
       "      <td>39.736375</td>\n",
       "      <td>69.285714</td>\n",
       "    </tr>\n",
       "    <tr>\n",
       "      <th>75%</th>\n",
       "      <td>8.390000e+05</td>\n",
       "      <td>2014.000000</td>\n",
       "      <td>183800.000000</td>\n",
       "      <td>2.000000</td>\n",
       "      <td>167.000000</td>\n",
       "      <td>6570.000000</td>\n",
       "      <td>56.414927</td>\n",
       "      <td>50.101783</td>\n",
       "      <td>76.000000</td>\n",
       "    </tr>\n",
       "    <tr>\n",
       "      <th>max</th>\n",
       "      <td>9.800000e+06</td>\n",
       "      <td>2019.000000</td>\n",
       "      <td>999999.000000</td>\n",
       "      <td>6.600000</td>\n",
       "      <td>610.000000</td>\n",
       "      <td>36418.000000</td>\n",
       "      <td>75.936382</td>\n",
       "      <td>162.582544</td>\n",
       "      <td>140.000000</td>\n",
       "    </tr>\n",
       "  </tbody>\n",
       "</table>\n",
       "</div>"
      ],
      "text/plain": [
       "              price            age          kmage  engine_volume  \\\n",
       "count  2.446590e+05  244659.000000  244659.000000  244659.000000   \n",
       "mean   6.681092e+05    2009.941085  139531.335406       2.014756   \n",
       "std    6.367128e+05       5.408746   85909.282204       0.722566   \n",
       "min    9.000000e+03    1990.000000       1.000000       0.800000   \n",
       "25%    2.690000e+05    2007.000000   80000.000000       1.600000   \n",
       "50%    5.000000e+05    2011.000000  128500.000000       1.700000   \n",
       "75%    8.390000e+05    2014.000000  183800.000000       2.000000   \n",
       "max    9.800000e+06    2019.000000  999999.000000       6.600000   \n",
       "\n",
       "        engine_power  offer_count_by_region            lat            lng  \\\n",
       "count  244659.000000          244659.000000  244659.000000  244659.000000   \n",
       "mean      140.537458            7761.495428      54.211054      46.455883   \n",
       "std        60.893459           12511.295958       4.794097      16.543596   \n",
       "min        45.000000               1.000000      13.062550     -90.070381   \n",
       "25%        98.000000             313.000000      52.591257      37.622504   \n",
       "50%       124.000000            1589.000000      55.753215      39.736375   \n",
       "75%       167.000000            6570.000000      56.414927      50.101783   \n",
       "max       610.000000           36418.000000      75.936382     162.582544   \n",
       "\n",
       "       specific_power  \n",
       "count   244659.000000  \n",
       "mean        69.170906  \n",
       "std         13.736938  \n",
       "min         27.692308  \n",
       "25%         61.250000  \n",
       "50%         69.285714  \n",
       "75%         76.000000  \n",
       "max        140.000000  "
      ]
     },
     "execution_count": 11,
     "metadata": {},
     "output_type": "execute_result"
    }
   ],
   "source": [
    "offer_data[numeric_columns].describe()"
   ]
  },
  {
   "cell_type": "code",
   "execution_count": 12,
   "metadata": {
    "collapsed": true
   },
   "outputs": [
    {
     "data": {
      "text/plain": [
       "array(['Московская область', 'Москва', 'Ростов-на-Дону', 'Пермь',\n",
       "       'Санкт-Петербург', 'Нижний Новгород', 'Ставропольский край',\n",
       "       'Тула', 'Брянск', 'Владимирская область', 'Республика Татарстан',\n",
       "       'Свердловская область', 'Республика Башкортостан', 'Краснодар',\n",
       "       'Рязань', 'Саратов', 'Ставрополь', 'Тамбов', 'Челябинская область',\n",
       "       'Красноярск', 'Самарская область', 'Иваново', 'Республика Карелия',\n",
       "       'Воронеж', 'Челябинск', 'Ростовская область', 'Псков', 'Мурманск',\n",
       "       'Тюмень', 'Калуга', 'Псковская область', 'Пенза',\n",
       "       'Краснодарский край', 'Белгородская область',\n",
       "       'Калининградская область', 'город Луга', 'Омск', 'Республика Крым',\n",
       "       'Иркутск', 'Смоленская область', 'Оренбург', 'Архангельск',\n",
       "       'Самара', 'Вологодская область', 'Архангельская область',\n",
       "       'Республика Дагестан', 'Красноярский край', 'Белгород',\n",
       "       'Ярославль', 'Республика Марий Эл', 'Волгоградская область',\n",
       "       'Курган', 'Чувашская Республика', 'Новосибирск', 'Киров',\n",
       "       'Кострома', 'Тульская область', 'Карачаево-Черкесская Республика',\n",
       "       'Волгоград', 'Нижегородская область', 'Кемерово', 'Липецк',\n",
       "       'Саратовская область', 'Смоленск', 'Иркутская область', 'Владимир',\n",
       "       'Пензенская область', 'Республика Мордовия', 'Забайкальский край',\n",
       "       'Новгородская область', 'Удмуртская Республика', 'Вологда',\n",
       "       'Республика Адыгея', 'Тюменская область', 'Астрахань',\n",
       "       'Воронежская область', 'Рязанская область', 'Калужская область',\n",
       "       'река Исток', 'Ханты-Мансийский автономный округ', 'Пермский край',\n",
       "       'Республика Хакасия', 'Ульяновск', 'Армавирская область',\n",
       "       'Республика Ингушетия', 'Калининград', 'Ленинградская область',\n",
       "       'Липецкая область', 'Севастополь', 'Алтайский край', 'Курск',\n",
       "       'Ярославская область', 'Республика Калмыкия', 'Курская область',\n",
       "       'Тверь', 'Кемеровская область', 'Ямало-Ненецкий автономный округ',\n",
       "       'городской округ Краснодар', 'река Крутая', 'Хабаровск', 'Орёл',\n",
       "       'Республика Алтай', 'Республика Северная Осетия — Алания',\n",
       "       'Чеченская Республика', 'Республика Тыва', 'Орловская область',\n",
       "       'Кабардино-Балкарская Республика', 'Приморский край',\n",
       "       'Республика Коми', 'Брянская область', 'Томск',\n",
       "       'Ивановская область', 'Мурманская область', 'Тверская область',\n",
       "       'Курганская область', 'Оренбургская область',\n",
       "       'Костромская область', 'Ханты-Мансийск', 'Новосибирская область',\n",
       "       'Еврейская автономная область', 'Республика Саха (Якутия)',\n",
       "       'Амурская область', 'река Юровка',\n",
       "       'Восточно-Казахстанская область', 'река Борисовка',\n",
       "       'Ульяновская область', 'Донецк', 'Минская область',\n",
       "       'Республика Бурятия', 'река Ермишь', 'Томская область',\n",
       "       'Тамбовская область', 'Харьковская область', 'Кировская область',\n",
       "       'Витебская область', 'город Кратово', 'село Петровка',\n",
       "       'Ровненская область', 'Магадан', 'озеро Змейка', 'река Серебрянка',\n",
       "       'Чуйская область', 'Омская область', 'поселок Большевик',\n",
       "       'река Елань', 'Запорожская область', 'река Цильна',\n",
       "       'Карагандинская область', 'Камчатский край', 'Вача', 'река Сылва',\n",
       "       'река Старая', 'Хмельницкая область',\n",
       "       'городской округ Нижний Новгород', 'Хабаровский край',\n",
       "       'Гомельская область', 'река Медведица', 'Сахалинская область',\n",
       "       'Астраханская область', 'посёлок имени Тельмана',\n",
       "       'Луганская область', 'река Плавица', 'река Быковка', 'село Золево',\n",
       "       'Донецкая область', 'река Шексна', 'Ненецкий автономный округ',\n",
       "       'Днепропетровская область', 'река Половинка', 'Черкасская область',\n",
       "       'Апшеронский район', 'городской округ Брянск', 'Каушанский район',\n",
       "       'Барда', 'Северо-Западный федеральный округ', 'Одесская область',\n",
       "       'Тума', 'река Столбовая', 'село Шилово', 'река Малояз',\n",
       "       'Могилёвская область', 'река Летка', 'река Даниловка',\n",
       "       'река Балашейка', 'область Варна', 'поселок Благовещенка',\n",
       "       'городской округ Вологда', 'Самаркандская область',\n",
       "       'Волынская область', 'река Ольховатка', 'река Навля', 'река Кулой',\n",
       "       'область Ход-эш-Шарки', 'Черниговская область',\n",
       "       'община Свети Николе', 'река Мостовик', 'Костанайская область',\n",
       "       'Актобе', 'река Чесма', 'река Чёрная Речка', 'Хатлонская область',\n",
       "       'река Иловка', 'река Вохма', 'река Ковалевка', 'село Дмитриевка',\n",
       "       'город Александрия', 'Павлодар', 'Уэстерн-Айлс',\n",
       "       'Южный федеральный округ', 'Кировоградская область',\n",
       "       'Николаевская область', 'река Елховка', 'провинция Пактика',\n",
       "       'Гродненская область', 'река Стрелка', 'река Ошья', 'река Сатис',\n",
       "       'река Кевсала', 'Павлодарская область', 'река Боровлянка',\n",
       "       'Винницкая область', 'село Ивановка', 'Лимбург', 'Таллин',\n",
       "       'река Тарасовка', 'городской округ Томск', 'река Устье',\n",
       "       'река Падун', 'река Золотуха', 'Шаля', 'река Нерль',\n",
       "       'Магаданская область', 'река Шонга', 'Серебряное озеро',\n",
       "       'Силезское воеводство', 'река Макаровка', 'Хазар',\n",
       "       'край Шида Картли', 'река Мокша', 'Октябрьская железная дорога',\n",
       "       'река Студенок', 'река Безымянка', 'Сатакунта', 'озеро Тамбукан',\n",
       "       'Херсонская область', 'река Уруп', 'река Чернуха', 'Жилина',\n",
       "       'река Ульяновка', 'река Федоровка', 'Сумская область',\n",
       "       'Центральный федеральный округ', 'река Канадей', 'река Осиновка',\n",
       "       'Авадан', 'река Пожва', 'Гусарский район', 'река Воргашор',\n",
       "       'река Битца', 'река Этока', 'река Полдневая', 'река Воронок',\n",
       "       'Кедабекский район', 'река Малиновка', 'Джалильабад',\n",
       "       'Таласская область', 'городской округ Ульяновск', 'река Кунья',\n",
       "       'Горьковская железная дорога', 'периферия Крит',\n",
       "       'городской округ Оренбург', 'Ошская область', 'Куркиёки',\n",
       "       'Киевская область', 'река КАМА', 'Река Ерик', 'река Исса',\n",
       "       'река Витовка', 'Ширакская область', 'городской округ Киров',\n",
       "       'Ивано-Франковская область', 'штат Флорида', 'Маркова-река',\n",
       "       'штат Луизиана', 'Западно-Казахстанская область', 'река Потапов',\n",
       "       'река Тепловка', 'река Устиновка', 'Южноморавский край'],\n",
       "      dtype=object)"
      ]
     },
     "execution_count": 12,
     "metadata": {},
     "output_type": "execute_result"
    }
   ],
   "source": [
    "offer_data['macro_name'].unique()"
   ]
  },
  {
   "cell_type": "code",
   "execution_count": null,
   "metadata": {},
   "outputs": [],
   "source": []
  },
  {
   "cell_type": "markdown",
   "metadata": {},
   "source": [
    "### 2. Feature engineering\n",
    "We have total car count in region, but we can add count of current model or brand that could dtermine servise aviability in each region or customer preference.\n"
   ]
  },
  {
   "cell_type": "code",
   "execution_count": 8,
   "metadata": {},
   "outputs": [],
   "source": [
    "# количество авто данной модели всего\n",
    "offer_count_model = offer_data['model_name'].value_counts().to_frame().reset_index()\n",
    "offer_count_model.columns = ['model_name', 'offer_count_by_model']"
   ]
  },
  {
   "cell_type": "code",
   "execution_count": 9,
   "metadata": {},
   "outputs": [],
   "source": [
    "# количество авто данной модели в регионе\n",
    "offer_count_model_macro_region = offer_data.groupby(['model_name', 'macro_name'], as_index=False)\\\n",
    "                                           .count()[['model_name', 'macro_name', 'producer']]\n",
    "offer_count_model_macro_region.columns = ['model_name', 'macro_name', 'offer_count_by_model_macro_region']"
   ]
  },
  {
   "cell_type": "code",
   "execution_count": 10,
   "metadata": {},
   "outputs": [],
   "source": [
    "# количество авто данной производителя в регионе\n",
    "offer_count_prod_macro_region = offer_data.groupby(['producer', 'macro_name'], as_index=False)\\\n",
    "                                           .count()[['producer', 'macro_name', 'model_name']]\n",
    "offer_count_prod_macro_region.columns = ['producer', 'macro_name', 'offer_count_by_prod_macro_region']"
   ]
  },
  {
   "cell_type": "code",
   "execution_count": 8,
   "metadata": {},
   "outputs": [
    {
     "data": {
      "text/plain": [
       "(244659, 20)"
      ]
     },
     "execution_count": 8,
     "metadata": {},
     "output_type": "execute_result"
    }
   ],
   "source": [
    "offer_data.shape"
   ]
  },
  {
   "cell_type": "code",
   "execution_count": 11,
   "metadata": {},
   "outputs": [],
   "source": [
    "offer_data = pd.merge(offer_data, offer_count_model, on='model_name')\n",
    "offer_data = pd.merge(offer_data, offer_count_model_macro_region, on=['model_name', 'macro_name'])\n",
    "offer_data = pd.merge(offer_data, offer_count_prod_macro_region, on=['producer', 'macro_name'])"
   ]
  },
  {
   "cell_type": "code",
   "execution_count": 10,
   "metadata": {
    "collapsed": true
   },
   "outputs": [
    {
     "data": {
      "text/html": [
       "<div>\n",
       "<style scoped>\n",
       "    .dataframe tbody tr th:only-of-type {\n",
       "        vertical-align: middle;\n",
       "    }\n",
       "\n",
       "    .dataframe tbody tr th {\n",
       "        vertical-align: top;\n",
       "    }\n",
       "\n",
       "    .dataframe thead th {\n",
       "        text-align: right;\n",
       "    }\n",
       "</style>\n",
       "<table border=\"1\" class=\"dataframe\">\n",
       "  <thead>\n",
       "    <tr style=\"text-align: right;\">\n",
       "      <th></th>\n",
       "      <th>0</th>\n",
       "    </tr>\n",
       "  </thead>\n",
       "  <tbody>\n",
       "    <tr>\n",
       "      <th>producer</th>\n",
       "      <td>BMW</td>\n",
       "    </tr>\n",
       "    <tr>\n",
       "      <th>model_name</th>\n",
       "      <td>BMW 1 серия  II (F20/F21) 116i</td>\n",
       "    </tr>\n",
       "    <tr>\n",
       "      <th>price</th>\n",
       "      <td>850000</td>\n",
       "    </tr>\n",
       "    <tr>\n",
       "      <th>age</th>\n",
       "      <td>2012</td>\n",
       "    </tr>\n",
       "    <tr>\n",
       "      <th>kmage</th>\n",
       "      <td>81000</td>\n",
       "    </tr>\n",
       "    <tr>\n",
       "      <th>region</th>\n",
       "      <td>Одинцово</td>\n",
       "    </tr>\n",
       "    <tr>\n",
       "      <th>engine_volume</th>\n",
       "      <td>1.6</td>\n",
       "    </tr>\n",
       "    <tr>\n",
       "      <th>engine_power</th>\n",
       "      <td>136</td>\n",
       "    </tr>\n",
       "    <tr>\n",
       "      <th>fuel</th>\n",
       "      <td>Бензин</td>\n",
       "    </tr>\n",
       "    <tr>\n",
       "      <th>gear</th>\n",
       "      <td>автомат</td>\n",
       "    </tr>\n",
       "    <tr>\n",
       "      <th>case</th>\n",
       "      <td>хэтчбек 3 дв.</td>\n",
       "    </tr>\n",
       "    <tr>\n",
       "      <th>drive_type</th>\n",
       "      <td>задний</td>\n",
       "    </tr>\n",
       "    <tr>\n",
       "      <th>color</th>\n",
       "      <td>белый</td>\n",
       "    </tr>\n",
       "    <tr>\n",
       "      <th>offer_count_by_region</th>\n",
       "      <td>344</td>\n",
       "    </tr>\n",
       "    <tr>\n",
       "      <th>lat</th>\n",
       "      <td>55.6789</td>\n",
       "    </tr>\n",
       "    <tr>\n",
       "      <th>lng</th>\n",
       "      <td>37.264</td>\n",
       "    </tr>\n",
       "    <tr>\n",
       "      <th>macro_name</th>\n",
       "      <td>Московская область</td>\n",
       "    </tr>\n",
       "    <tr>\n",
       "      <th>origin_of_producer</th>\n",
       "      <td>Germany</td>\n",
       "    </tr>\n",
       "    <tr>\n",
       "      <th>platform</th>\n",
       "      <td>BMW 1</td>\n",
       "    </tr>\n",
       "    <tr>\n",
       "      <th>specific_power</th>\n",
       "      <td>85</td>\n",
       "    </tr>\n",
       "    <tr>\n",
       "      <th>offer_count_by_model</th>\n",
       "      <td>261</td>\n",
       "    </tr>\n",
       "    <tr>\n",
       "      <th>offer_count_by_model_macro_region</th>\n",
       "      <td>17</td>\n",
       "    </tr>\n",
       "    <tr>\n",
       "      <th>offer_count_by_prod_macro_region</th>\n",
       "      <td>952</td>\n",
       "    </tr>\n",
       "  </tbody>\n",
       "</table>\n",
       "</div>"
      ],
      "text/plain": [
       "                                                                0\n",
       "producer                                                      BMW\n",
       "model_name                         BMW 1 серия  II (F20/F21) 116i\n",
       "price                                                      850000\n",
       "age                                                          2012\n",
       "kmage                                                       81000\n",
       "region                                                   Одинцово\n",
       "engine_volume                                                 1.6\n",
       "engine_power                                                  136\n",
       "fuel                                                       Бензин\n",
       "gear                                                      автомат\n",
       "case                                                хэтчбек 3 дв.\n",
       "drive_type                                                 задний\n",
       "color                                                       белый\n",
       "offer_count_by_region                                         344\n",
       "lat                                                       55.6789\n",
       "lng                                                        37.264\n",
       "macro_name                                     Московская область\n",
       "origin_of_producer                                        Germany\n",
       "platform                                                    BMW 1\n",
       "specific_power                                                 85\n",
       "offer_count_by_model                                          261\n",
       "offer_count_by_model_macro_region                              17\n",
       "offer_count_by_prod_macro_region                              952"
      ]
     },
     "execution_count": 10,
     "metadata": {},
     "output_type": "execute_result"
    }
   ],
   "source": [
    "offer_data.head(1).T"
   ]
  },
  {
   "cell_type": "markdown",
   "metadata": {},
   "source": [
    "## TODO: Add some grouped features"
   ]
  },
  {
   "cell_type": "markdown",
   "metadata": {},
   "source": [
    "### 2.1 Feature transform"
   ]
  },
  {
   "cell_type": "code",
   "execution_count": 26,
   "metadata": {},
   "outputs": [],
   "source": [
    "y_col = 'price'\n",
    "\n",
    "X_data = offer_data.drop(columns=[y_col])\n",
    "y_data = offer_data[y_col]\n",
    "\n",
    "enc = OrdinalEncoder()\n",
    "X_data[category_columns] = enc.fit_transform(X_data[category_columns])"
   ]
  },
  {
   "cell_type": "markdown",
   "metadata": {},
   "source": [
    "### 3.1 Train test split"
   ]
  },
  {
   "cell_type": "code",
   "execution_count": 30,
   "metadata": {},
   "outputs": [
    {
     "name": "stdout",
     "output_type": "stream",
     "text": [
      "CPU times: user 47.4 ms, sys: 0 ns, total: 47.4 ms\n",
      "Wall time: 46.2 ms\n"
     ]
    }
   ],
   "source": [
    "%%time\n",
    "\n",
    "X_train, X_test, y_train, y_test = train_test_split(X_data, y_data, \n",
    "                                                    test_size=0.4, random_state=42)\n",
    "\n",
    "X_valid, X_test, y_valid, y_test = train_test_split(X_test, y_test, \n",
    "                                                    test_size=0.5, random_state=42)"
   ]
  },
  {
   "cell_type": "code",
   "execution_count": 31,
   "metadata": {},
   "outputs": [
    {
     "name": "stdout",
     "output_type": "stream",
     "text": [
      "(244659, 22)\n",
      "(146795, 22)\n",
      "(48932, 22)\n",
      "(48932, 22)\n"
     ]
    }
   ],
   "source": [
    "print(X_data.shape)\n",
    "print(X_train.shape)\n",
    "print(X_test.shape)\n",
    "print(X_valid.shape)"
   ]
  },
  {
   "cell_type": "markdown",
   "metadata": {},
   "source": [
    "## 3. Model fitting\n",
    "### 3.1. Baseline constant model"
   ]
  },
  {
   "cell_type": "code",
   "execution_count": 32,
   "metadata": {},
   "outputs": [],
   "source": [
    "y_pred_const = pd.Series(y_train.median(), index=y_test.index)"
   ]
  },
  {
   "cell_type": "code",
   "execution_count": 33,
   "metadata": {},
   "outputs": [
    {
     "name": "stdout",
     "output_type": "stream",
     "text": [
      "Mean Absolute Error : 394129.23\n"
     ]
    }
   ],
   "source": [
    "print(\"Mean Absolute Error : {:.2f}\".format(mean_absolute_error(y_test, y_pred_const)))"
   ]
  },
  {
   "cell_type": "markdown",
   "metadata": {},
   "source": [
    "### Resume:\n",
    "Constant model error on 394k in price of car"
   ]
  },
  {
   "cell_type": "code",
   "execution_count": 34,
   "metadata": {},
   "outputs": [],
   "source": [
    "def plotCoefficients(model):\n",
    "    \"\"\"\n",
    "        Plots sorted coefficient values of the model\n",
    "    \"\"\"\n",
    "    \n",
    "    coefs = pd.DataFrame(model.coef_, X_train.columns)\n",
    "    coefs.columns = [\"coef\"]\n",
    "    coefs[\"abs\"] = coefs.coef.apply(np.abs)\n",
    "    coefs = coefs.sort_values(by=\"abs\", ascending=False).drop([\"abs\"], axis=1).iloc[:25]\n",
    "    \n",
    "    plt.figure(figsize=(15, 7))\n",
    "    coefs.coef.plot(kind='bar')\n",
    "    plt.grid(True, axis='y')\n",
    "    plt.hlines(y=0, xmin=0, xmax=len(coefs), linestyles='dashed')\n",
    "    plt.show()\n",
    "    \n",
    "    \n",
    "def plot_prediction(y_pred, y_true):\n",
    "    plt.figure(figsize=(12,8))\n",
    "    plt.scatter(y_pred, y_true, alpha=0.6)\n",
    "    plt.xlabel('Predictions')\n",
    "    plt.ylabel('True values')\n",
    "    plt.grid()\n",
    "    plt.show()"
   ]
  },
  {
   "cell_type": "markdown",
   "metadata": {},
   "source": [
    "## TODO add cross_val_score and hyperparametrs tuning"
   ]
  },
  {
   "cell_type": "markdown",
   "metadata": {},
   "source": [
    "### 3.2 Linear Models"
   ]
  },
  {
   "cell_type": "code",
   "execution_count": 35,
   "metadata": {},
   "outputs": [
    {
     "name": "stdout",
     "output_type": "stream",
     "text": [
      "CPU times: user 23.2 s, sys: 7.6 s, total: 30.8 s\n",
      "Wall time: 2.71 s\n"
     ]
    },
    {
     "name": "stderr",
     "output_type": "stream",
     "text": [
      "/home/mrmopoz/anaconda3/lib/python3.6/site-packages/sklearn/linear_model/_coordinate_descent.py:532: ConvergenceWarning: Objective did not converge. You might want to increase the number of iterations. Duality gap: 9499740130130496.0, tolerance: 5945264158966.658\n",
      "  positive)\n"
     ]
    }
   ],
   "source": [
    "%%time\n",
    "lasso = Lasso()\n",
    "lasso.fit(X_train, y_train)"
   ]
  },
  {
   "cell_type": "code",
   "execution_count": 36,
   "metadata": {},
   "outputs": [
    {
     "name": "stdout",
     "output_type": "stream",
     "text": [
      "Mean Absolute Error : 213721.99\n"
     ]
    }
   ],
   "source": [
    "predictions = lasso.predict(X_test)\n",
    "print(\"Mean Absolute Error : {:.2f}\".format(mean_absolute_error(predictions, y_test)))"
   ]
  },
  {
   "cell_type": "code",
   "execution_count": 37,
   "metadata": {
    "scrolled": true
   },
   "outputs": [
    {
     "data": {
      "image/png": "[encoded data removed]",
      "text/plain": [
       "<Figure size 864x576 with 1 Axes>"
      ]
     },
     "metadata": {
      "needs_background": "light"
     },
     "output_type": "display_data"
    }
   ],
   "source": [
    "plot_prediction(predictions, y_test)"
   ]
  },
  {
   "cell_type": "markdown",
   "metadata": {},
   "source": [
    "### 3.3. RandomForestRegressor"
   ]
  },
  {
   "cell_type": "code",
   "execution_count": 53,
   "metadata": {},
   "outputs": [],
   "source": [
    "# param_grid = {'n_estimators': [100],\n",
    "#              'max_depth': [10],\n",
    "#              'min_samples_leaf': [10]}\n",
    "# grid = GridSearchCV(RandomForestRegressor(n_jobs=-1), param_grid=param_grid, cv=4)"
   ]
  },
  {
   "cell_type": "code",
   "execution_count": 25,
   "metadata": {
    "scrolled": false
   },
   "outputs": [
    {
     "name": "stdout",
     "output_type": "stream",
     "text": [
      "CPU times: user 9h 52min 8s, sys: 1min 27s, total: 9h 53min 36s\n",
      "Wall time: 53min 15s\n"
     ]
    }
   ],
   "source": [
    "%%time\n",
    "rfr = RandomForestRegressor(n_estimators=1000, max_depth=5, n_jobs=-1)\n",
    "rfr.fit(X_train, y_train)"
   ]
  },
  {
   "cell_type": "code",
   "execution_count": 27,
   "metadata": {},
   "outputs": [
    {
     "name": "stdout",
     "output_type": "stream",
     "text": [
      "Mean Absolute Error : 145616.18\n"
     ]
    }
   ],
   "source": [
    "predictions = rfr.predict(X_test)\n",
    "print(\"Mean Absolute Error : {:.2f}\".format(mean_absolute_error(predictions, y_test)))"
   ]
  },
  {
   "cell_type": "code",
   "execution_count": 28,
   "metadata": {
    "collapsed": true
   },
   "outputs": [
    {
     "data": {
      "image/png": "[encoded data removed]",
      "text/plain": [
       "<Figure size 864x576 with 1 Axes>"
      ]
     },
     "metadata": {
      "needs_background": "light"
     },
     "output_type": "display_data"
    }
   ],
   "source": [
    "plot_prediction(predictions, y_test)"
   ]
  },
  {
   "cell_type": "markdown",
   "metadata": {},
   "source": [
    "### 3.4  Boosting models\n",
    "### 3.4.1 XGBoost"
   ]
  },
  {
   "cell_type": "code",
   "execution_count": 46,
   "metadata": {
    "collapsed": true
   },
   "outputs": [
    {
     "ename": "XGBoostError",
     "evalue": "sklearn needs to be installed in order to use this module",
     "output_type": "error",
     "traceback": [
      "\u001b[0;31m---------------------------------------------------------------------------\u001b[0m",
      "\u001b[0;31mXGBoostError\u001b[0m                              Traceback (most recent call last)",
      "\u001b[0;32m<timed exec>\u001b[0m in \u001b[0;36m<module>\u001b[0;34m\u001b[0m\n",
      "\u001b[0;32m~/anaconda3/lib/python3.6/site-packages/xgboost/sklearn.py\u001b[0m in \u001b[0;36m__init__\u001b[0;34m(self, max_depth, learning_rate, n_estimators, silent, objective, nthread, gamma, min_child_weight, max_delta_step, subsample, colsample_bytree, colsample_bylevel, reg_alpha, reg_lambda, scale_pos_weight, base_score, seed, missing)\u001b[0m\n\u001b[1;32m    119\u001b[0m                  base_score=0.5, seed=0, missing=None):\n\u001b[1;32m    120\u001b[0m         \u001b[0;32mif\u001b[0m \u001b[0;32mnot\u001b[0m \u001b[0mSKLEARN_INSTALLED\u001b[0m\u001b[0;34m:\u001b[0m\u001b[0;34m\u001b[0m\u001b[0m\n\u001b[0;32m--> 121\u001b[0;31m             \u001b[0;32mraise\u001b[0m \u001b[0mXGBoostError\u001b[0m\u001b[0;34m(\u001b[0m\u001b[0;34m'sklearn needs to be installed in order to use this module'\u001b[0m\u001b[0;34m)\u001b[0m\u001b[0;34m\u001b[0m\u001b[0m\n\u001b[0m\u001b[1;32m    122\u001b[0m         \u001b[0mself\u001b[0m\u001b[0;34m.\u001b[0m\u001b[0mmax_depth\u001b[0m \u001b[0;34m=\u001b[0m \u001b[0mmax_depth\u001b[0m\u001b[0;34m\u001b[0m\u001b[0m\n\u001b[1;32m    123\u001b[0m         \u001b[0mself\u001b[0m\u001b[0;34m.\u001b[0m\u001b[0mlearning_rate\u001b[0m \u001b[0;34m=\u001b[0m \u001b[0mlearning_rate\u001b[0m\u001b[0;34m\u001b[0m\u001b[0m\n",
      "\u001b[0;31mXGBoostError\u001b[0m: sklearn needs to be installed in order to use this module"
     ]
    }
   ],
   "source": [
    "%%time\n",
    "xgb_model = XGBRegressor(n_estimators=1000)\n",
    "xgb_model.fit(X_train, y_train, early_stopping_rounds=5, \n",
    "             eval_set=[(X_test, y_test)], verbose=False)"
   ]
  },
  {
   "cell_type": "code",
   "execution_count": 38,
   "metadata": {
    "collapsed": true
   },
   "outputs": [
    {
     "ename": "NameError",
     "evalue": "name 'xgb_model' is not defined",
     "output_type": "error",
     "traceback": [
      "\u001b[0;31m---------------------------------------------------------------------------\u001b[0m",
      "\u001b[0;31mNameError\u001b[0m                                 Traceback (most recent call last)",
      "\u001b[0;32m<ipython-input-38-665f930402cd>\u001b[0m in \u001b[0;36m<module>\u001b[0;34m\u001b[0m\n\u001b[0;32m----> 1\u001b[0;31m \u001b[0mpredictions\u001b[0m \u001b[0;34m=\u001b[0m \u001b[0mxgb_model\u001b[0m\u001b[0;34m.\u001b[0m\u001b[0mpredict\u001b[0m\u001b[0;34m(\u001b[0m\u001b[0mX_test\u001b[0m\u001b[0;34m)\u001b[0m\u001b[0;34m\u001b[0m\u001b[0m\n\u001b[0m\u001b[1;32m      2\u001b[0m \u001b[0mprint\u001b[0m\u001b[0;34m(\u001b[0m\u001b[0;34m\"Mean Absolute Error : {.2f}\"\u001b[0m\u001b[0;34m.\u001b[0m\u001b[0mformat\u001b[0m\u001b[0;34m(\u001b[0m\u001b[0mmean_absolute_error\u001b[0m\u001b[0;34m(\u001b[0m\u001b[0mpredictions\u001b[0m\u001b[0;34m,\u001b[0m \u001b[0my_test\u001b[0m\u001b[0;34m)\u001b[0m\u001b[0;34m)\u001b[0m\u001b[0;34m)\u001b[0m\u001b[0;34m\u001b[0m\u001b[0m\n",
      "\u001b[0;31mNameError\u001b[0m: name 'xgb_model' is not defined"
     ]
    }
   ],
   "source": [
    "predictions = xgb_model.predict(X_test)\n",
    "print(\"Mean Absolute Error : {:.2f}\".format(mean_absolute_error(predictions, y_test)))"
   ]
  },
  {
   "cell_type": "code",
   "execution_count": null,
   "metadata": {},
   "outputs": [],
   "source": [
    "plot_prediction(predictions, y_test)"
   ]
  },
  {
   "cell_type": "markdown",
   "metadata": {},
   "source": [
    "### 3.4.2 LightGBM"
   ]
  },
  {
   "cell_type": "code",
   "execution_count": 38,
   "metadata": {},
   "outputs": [
    {
     "name": "stdout",
     "output_type": "stream",
     "text": [
      "CPU times: user 37.6 s, sys: 0 ns, total: 37.6 s\n",
      "Wall time: 3.28 s\n"
     ]
    }
   ],
   "source": [
    "%%time\n",
    "lgbm_model = LGBMRegressor(n_estimators=1000)\n",
    "lgbm_model.fit(X_train.values, y_train)"
   ]
  },
  {
   "cell_type": "code",
   "execution_count": 39,
   "metadata": {},
   "outputs": [
    {
     "name": "stdout",
     "output_type": "stream",
     "text": [
      "Mean Absolute Error : 62900.56\n"
     ]
    }
   ],
   "source": [
    "predictions = lgbm_model.predict(X_test)\n",
    "print(\"Mean Absolute Error : {:.2f}\".format(mean_absolute_error(predictions, y_test)))"
   ]
  },
  {
   "cell_type": "code",
   "execution_count": 40,
   "metadata": {},
   "outputs": [
    {
     "data": {
      "image/png": "[encoded data removed]",
      "text/plain": [
       "<Figure size 864x576 with 1 Axes>"
      ]
     },
     "metadata": {
      "needs_background": "light"
     },
     "output_type": "display_data"
    }
   ],
   "source": [
    "plot_prediction(predictions, y_test)"
   ]
  },
  {
   "cell_type": "code",
   "execution_count": 46,
   "metadata": {},
   "outputs": [],
   "source": [
    "model = LGBMRegressor(\n",
    "        learning_rate= 0.01,\n",
    "        subsample=0.3,\n",
    "        feature_fraction=0.5,\n",
    "        num_iterations = 5000,\n",
    "        max_bin=350,\n",
    "        num_leaves= 300,\n",
    "        lambda_l2=0.003,\n",
    "        max_depth=200,\n",
    "        min_data_in_leaf= 80,\n",
    "        force_row_wise= True,)\n",
    "        #objective='tweedie')"
   ]
  },
  {
   "cell_type": "code",
   "execution_count": 47,
   "metadata": {
    "scrolled": true
   },
   "outputs": [
    {
     "name": "stderr",
     "output_type": "stream",
     "text": [
      "/home/mrmopoz/anaconda3/lib/python3.6/site-packages/lightgbm/engine.py:148: UserWarning: Found `num_iterations` in params. Will use it instead of argument\n",
      "  warnings.warn(\"Found `{}` in params. Will use it instead of argument\".format(alias))\n"
     ]
    },
    {
     "name": "stdout",
     "output_type": "stream",
     "text": [
      "Training until validation scores don't improve for 20 rounds\n",
      "[100]\ttraining's rmse: 285280\ttraining's l2: 8.13848e+10\tvalid_1's rmse: 287945\tvalid_1's l2: 8.29122e+10\n",
      "[200]\ttraining's rmse: 168543\ttraining's l2: 2.84067e+10\tvalid_1's rmse: 168888\tvalid_1's l2: 2.85231e+10\n",
      "[300]\ttraining's rmse: 133271\ttraining's l2: 1.77612e+10\tvalid_1's rmse: 133619\tvalid_1's l2: 1.78541e+10\n",
      "[400]\ttraining's rmse: 121012\ttraining's l2: 1.46438e+10\tvalid_1's rmse: 122668\tvalid_1's l2: 1.50475e+10\n",
      "[500]\ttraining's rmse: 114955\ttraining's l2: 1.32146e+10\tvalid_1's rmse: 118260\tvalid_1's l2: 1.39855e+10\n",
      "[600]\ttraining's rmse: 111218\ttraining's l2: 1.23694e+10\tvalid_1's rmse: 116171\tvalid_1's l2: 1.34957e+10\n",
      "[700]\ttraining's rmse: 108412\ttraining's l2: 1.17533e+10\tvalid_1's rmse: 114979\tvalid_1's l2: 1.32203e+10\n",
      "[800]\ttraining's rmse: 106096\ttraining's l2: 1.12563e+10\tvalid_1's rmse: 114144\tvalid_1's l2: 1.30288e+10\n",
      "[900]\ttraining's rmse: 104119\ttraining's l2: 1.08409e+10\tvalid_1's rmse: 113660\tvalid_1's l2: 1.29187e+10\n",
      "[1000]\ttraining's rmse: 102336\ttraining's l2: 1.04727e+10\tvalid_1's rmse: 113353\tvalid_1's l2: 1.28489e+10\n",
      "[1100]\ttraining's rmse: 100743\ttraining's l2: 1.01491e+10\tvalid_1's rmse: 113063\tvalid_1's l2: 1.27833e+10\n",
      "[1200]\ttraining's rmse: 99289.3\ttraining's l2: 9.85837e+09\tvalid_1's rmse: 112888\tvalid_1's l2: 1.27438e+10\n",
      "[1300]\ttraining's rmse: 97901.7\ttraining's l2: 9.58475e+09\tvalid_1's rmse: 112683\tvalid_1's l2: 1.26974e+10\n",
      "[1400]\ttraining's rmse: 96650.6\ttraining's l2: 9.34134e+09\tvalid_1's rmse: 112610\tvalid_1's l2: 1.2681e+10\n",
      "[1500]\ttraining's rmse: 95470.5\ttraining's l2: 9.11462e+09\tvalid_1's rmse: 112548\tvalid_1's l2: 1.26672e+10\n",
      "Early stopping, best iteration is:\n",
      "[1493]\ttraining's rmse: 95547.9\ttraining's l2: 9.1294e+09\tvalid_1's rmse: 112543\tvalid_1's l2: 1.26659e+10\n",
      "CPU times: user 5min 24s, sys: 798 ms, total: 5min 24s\n",
      "Wall time: 28.2 s\n"
     ]
    },
    {
     "data": {
      "text/plain": [
       "LGBMRegressor(feature_fraction=0.5, force_row_wise=True, lambda_l2=0.003,\n",
       "              learning_rate=0.01, max_bin=350, max_depth=200,\n",
       "              min_data_in_leaf=80, num_iterations=5000, num_leaves=300,\n",
       "              subsample=0.3)"
      ]
     },
     "execution_count": 47,
     "metadata": {},
     "output_type": "execute_result"
    }
   ],
   "source": [
    "%%time\n",
    "model.fit(X_train, y_train, eval_set=[(X_train,y_train),(X_valid,y_valid)],\n",
    "             eval_metric='rmse',  verbose=100, early_stopping_rounds=20)"
   ]
  },
  {
   "cell_type": "code",
   "execution_count": 52,
   "metadata": {},
   "outputs": [
    {
     "name": "stdout",
     "output_type": "stream",
     "text": [
      "Mean Absolute Error : 61291.77\n"
     ]
    }
   ],
   "source": [
    "predictions = model.predict(X_test)\n",
    "print(\"Mean Absolute Error : {:.2f}\".format(mean_absolute_error(predictions, y_test)))"
   ]
  },
  {
   "cell_type": "code",
   "execution_count": 53,
   "metadata": {},
   "outputs": [
    {
     "data": {
      "image/png": "[encoded data removed]",
      "text/plain": [
       "<Figure size 864x576 with 1 Axes>"
      ]
     },
     "metadata": {
      "needs_background": "light"
     },
     "output_type": "display_data"
    }
   ],
   "source": [
    "plot_prediction(predictions, y_test)"
   ]
  },
  {
   "cell_type": "markdown",
   "metadata": {},
   "source": [
    "### 3.4.3 Catboost"
   ]
  },
  {
   "cell_type": "code",
   "execution_count": 49,
   "metadata": {},
   "outputs": [
    {
     "name": "stdout",
     "output_type": "stream",
     "text": [
      "0:\tlearn: 914100.2365557\ttotal: 99.3ms\tremaining: 1m 39s\n",
      "1:\tlearn: 906032.7786638\ttotal: 112ms\tremaining: 55.9s\n",
      "2:\tlearn: 898127.0040653\ttotal: 123ms\tremaining: 41s\n",
      "3:\tlearn: 890223.9411633\ttotal: 133ms\tremaining: 33.1s\n",
      "4:\tlearn: 882379.5564098\ttotal: 143ms\tremaining: 28.5s\n",
      "5:\tlearn: 874695.9435254\ttotal: 152ms\tremaining: 25.2s\n",
      "6:\tlearn: 867006.6915187\ttotal: 163ms\tremaining: 23.1s\n",
      "7:\tlearn: 859462.1040097\ttotal: 174ms\tremaining: 21.5s\n",
      "8:\tlearn: 851963.7739458\ttotal: 183ms\tremaining: 20.1s\n",
      "9:\tlearn: 844537.4609269\ttotal: 192ms\tremaining: 19.1s\n",
      "10:\tlearn: 837112.2505711\ttotal: 202ms\tremaining: 18.1s\n",
      "11:\tlearn: 829843.8024236\ttotal: 212ms\tremaining: 17.5s\n",
      "12:\tlearn: 822593.7691445\ttotal: 223ms\tremaining: 16.9s\n",
      "13:\tlearn: 815459.9691386\ttotal: 232ms\tremaining: 16.3s\n",
      "14:\tlearn: 808350.6183748\ttotal: 242ms\tremaining: 15.9s\n",
      "15:\tlearn: 801510.8552640\ttotal: 251ms\tremaining: 15.4s\n",
      "16:\tlearn: 794594.2015987\ttotal: 263ms\tremaining: 15.2s\n",
      "17:\tlearn: 787821.5913959\ttotal: 272ms\tremaining: 14.8s\n",
      "18:\tlearn: 781015.7505912\ttotal: 282ms\tremaining: 14.5s\n",
      "19:\tlearn: 774282.9969451\ttotal: 292ms\tremaining: 14.3s\n",
      "20:\tlearn: 767654.1666505\ttotal: 305ms\tremaining: 14.2s\n",
      "21:\tlearn: 761071.2809023\ttotal: 315ms\tremaining: 14s\n",
      "22:\tlearn: 754524.2387670\ttotal: 329ms\tremaining: 14s\n",
      "23:\tlearn: 748135.7073372\ttotal: 338ms\tremaining: 13.7s\n",
      "24:\tlearn: 741906.0035554\ttotal: 348ms\tremaining: 13.6s\n",
      "25:\tlearn: 735702.6801620\ttotal: 360ms\tremaining: 13.5s\n",
      "26:\tlearn: 729519.1408748\ttotal: 370ms\tremaining: 13.4s\n",
      "27:\tlearn: 723392.8593648\ttotal: 381ms\tremaining: 13.2s\n",
      "28:\tlearn: 717300.9555809\ttotal: 390ms\tremaining: 13.1s\n",
      "29:\tlearn: 711275.1560454\ttotal: 400ms\tremaining: 12.9s\n",
      "30:\tlearn: 705421.6155529\ttotal: 409ms\tremaining: 12.8s\n",
      "31:\tlearn: 699615.5458123\ttotal: 418ms\tremaining: 12.7s\n",
      "32:\tlearn: 693847.4495772\ttotal: 428ms\tremaining: 12.5s\n",
      "33:\tlearn: 688117.3969956\ttotal: 438ms\tremaining: 12.4s\n",
      "34:\tlearn: 682410.6562991\ttotal: 447ms\tremaining: 12.3s\n",
      "35:\tlearn: 676857.9282927\ttotal: 459ms\tremaining: 12.3s\n",
      "36:\tlearn: 671274.1980769\ttotal: 470ms\tremaining: 12.2s\n",
      "37:\tlearn: 665715.4054070\ttotal: 479ms\tremaining: 12.1s\n",
      "38:\tlearn: 660269.4532565\ttotal: 489ms\tremaining: 12s\n",
      "39:\tlearn: 654926.6883372\ttotal: 498ms\tremaining: 11.9s\n",
      "40:\tlearn: 649606.9422489\ttotal: 513ms\tremaining: 12s\n",
      "41:\tlearn: 644326.0785483\ttotal: 525ms\tremaining: 12s\n",
      "42:\tlearn: 639125.2749230\ttotal: 534ms\tremaining: 11.9s\n",
      "43:\tlearn: 633943.0318943\ttotal: 544ms\tremaining: 11.8s\n",
      "44:\tlearn: 628828.0975911\ttotal: 554ms\tremaining: 11.8s\n",
      "45:\tlearn: 623778.0685129\ttotal: 564ms\tremaining: 11.7s\n",
      "46:\tlearn: 618725.6015019\ttotal: 574ms\tremaining: 11.6s\n",
      "47:\tlearn: 613698.9131798\ttotal: 583ms\tremaining: 11.6s\n",
      "48:\tlearn: 608832.6677837\ttotal: 592ms\tremaining: 11.5s\n",
      "49:\tlearn: 603994.7714625\ttotal: 602ms\tremaining: 11.4s\n",
      "50:\tlearn: 599184.7261172\ttotal: 611ms\tremaining: 11.4s\n",
      "51:\tlearn: 594411.5498294\ttotal: 620ms\tremaining: 11.3s\n",
      "52:\tlearn: 589693.3046651\ttotal: 629ms\tremaining: 11.2s\n",
      "53:\tlearn: 585095.3424976\ttotal: 639ms\tremaining: 11.2s\n",
      "54:\tlearn: 580473.3617467\ttotal: 649ms\tremaining: 11.2s\n",
      "55:\tlearn: 575881.3199793\ttotal: 660ms\tremaining: 11.1s\n",
      "56:\tlearn: 571435.9671730\ttotal: 670ms\tremaining: 11.1s\n",
      "57:\tlearn: 566961.7043551\ttotal: 681ms\tremaining: 11.1s\n",
      "58:\tlearn: 562484.5571997\ttotal: 691ms\tremaining: 11s\n",
      "59:\tlearn: 558128.3741098\ttotal: 700ms\tremaining: 11s\n",
      "60:\tlearn: 553802.9609733\ttotal: 709ms\tremaining: 10.9s\n",
      "61:\tlearn: 549498.8877829\ttotal: 721ms\tremaining: 10.9s\n",
      "62:\tlearn: 545209.3638690\ttotal: 731ms\tremaining: 10.9s\n",
      "63:\tlearn: 541007.2702569\ttotal: 746ms\tremaining: 10.9s\n",
      "64:\tlearn: 536816.7671284\ttotal: 758ms\tremaining: 10.9s\n",
      "65:\tlearn: 532738.5937695\ttotal: 767ms\tremaining: 10.9s\n",
      "66:\tlearn: 528673.8780837\ttotal: 777ms\tremaining: 10.8s\n",
      "67:\tlearn: 524663.8133167\ttotal: 786ms\tremaining: 10.8s\n",
      "68:\tlearn: 520761.3834545\ttotal: 795ms\tremaining: 10.7s\n",
      "69:\tlearn: 516864.4344543\ttotal: 805ms\tremaining: 10.7s\n",
      "70:\tlearn: 512982.1015215\ttotal: 814ms\tremaining: 10.7s\n",
      "71:\tlearn: 509138.3938493\ttotal: 824ms\tremaining: 10.6s\n",
      "72:\tlearn: 505334.5850436\ttotal: 833ms\tremaining: 10.6s\n",
      "73:\tlearn: 501515.1104018\ttotal: 843ms\tremaining: 10.5s\n",
      "74:\tlearn: 497813.5548828\ttotal: 856ms\tremaining: 10.6s\n",
      "75:\tlearn: 494147.5320150\ttotal: 865ms\tremaining: 10.5s\n",
      "76:\tlearn: 490487.2599846\ttotal: 875ms\tremaining: 10.5s\n",
      "77:\tlearn: 486889.0130198\ttotal: 885ms\tremaining: 10.5s\n",
      "78:\tlearn: 483268.6492858\ttotal: 895ms\tremaining: 10.4s\n",
      "79:\tlearn: 479828.7140385\ttotal: 904ms\tremaining: 10.4s\n",
      "80:\tlearn: 476368.3771956\ttotal: 913ms\tremaining: 10.4s\n",
      "81:\tlearn: 472931.2568857\ttotal: 924ms\tremaining: 10.3s\n",
      "82:\tlearn: 469562.3000885\ttotal: 935ms\tremaining: 10.3s\n",
      "83:\tlearn: 466208.2342511\ttotal: 951ms\tremaining: 10.4s\n",
      "84:\tlearn: 462861.0595296\ttotal: 983ms\tremaining: 10.6s\n",
      "85:\tlearn: 459510.1691820\ttotal: 999ms\tremaining: 10.6s\n",
      "86:\tlearn: 456248.9037259\ttotal: 1.01s\tremaining: 10.6s\n",
      "87:\tlearn: 453032.1431882\ttotal: 1.02s\tremaining: 10.6s\n",
      "88:\tlearn: 449851.4458732\ttotal: 1.03s\tremaining: 10.5s\n",
      "89:\tlearn: 446722.5741347\ttotal: 1.04s\tremaining: 10.5s\n",
      "90:\tlearn: 443608.3113026\ttotal: 1.05s\tremaining: 10.5s\n",
      "91:\tlearn: 440511.9627626\ttotal: 1.06s\tremaining: 10.4s\n",
      "92:\tlearn: 437483.6684142\ttotal: 1.07s\tremaining: 10.4s\n",
      "93:\tlearn: 434545.9113319\ttotal: 1.08s\tremaining: 10.4s\n",
      "94:\tlearn: 431595.8573116\ttotal: 1.09s\tremaining: 10.4s\n",
      "95:\tlearn: 428638.3320536\ttotal: 1.1s\tremaining: 10.3s\n",
      "96:\tlearn: 425748.8689537\ttotal: 1.11s\tremaining: 10.3s\n",
      "97:\tlearn: 422849.6808881\ttotal: 1.11s\tremaining: 10.3s\n",
      "98:\tlearn: 419994.8336064\ttotal: 1.13s\tremaining: 10.3s\n",
      "99:\tlearn: 417128.0175229\ttotal: 1.14s\tremaining: 10.2s\n",
      "100:\tlearn: 414353.2368170\ttotal: 1.15s\tremaining: 10.3s\n",
      "101:\tlearn: 411594.2166629\ttotal: 1.16s\tremaining: 10.2s\n",
      "102:\tlearn: 408906.3837103\ttotal: 1.17s\tremaining: 10.2s\n",
      "103:\tlearn: 406220.2013517\ttotal: 1.18s\tremaining: 10.2s\n",
      "104:\tlearn: 403555.3001353\ttotal: 1.19s\tremaining: 10.2s\n",
      "105:\tlearn: 400913.0726977\ttotal: 1.2s\tremaining: 10.1s\n",
      "106:\tlearn: 398281.2850369\ttotal: 1.21s\tremaining: 10.1s\n",
      "107:\tlearn: 395695.6798518\ttotal: 1.22s\tremaining: 10.1s\n",
      "108:\tlearn: 393166.8850783\ttotal: 1.23s\tremaining: 10.1s\n",
      "109:\tlearn: 390664.3969798\ttotal: 1.24s\tremaining: 10s\n",
      "110:\tlearn: 388163.8586772\ttotal: 1.25s\tremaining: 10s\n",
      "111:\tlearn: 385698.2734861\ttotal: 1.26s\tremaining: 10s\n",
      "112:\tlearn: 383274.8793325\ttotal: 1.27s\tremaining: 9.99s\n",
      "113:\tlearn: 380893.8732146\ttotal: 1.28s\tremaining: 9.96s\n",
      "114:\tlearn: 378534.9063717\ttotal: 1.29s\tremaining: 9.94s\n",
      "115:\tlearn: 376221.1341693\ttotal: 1.3s\tremaining: 9.92s\n",
      "116:\tlearn: 373878.6734709\ttotal: 1.31s\tremaining: 9.9s\n",
      "117:\tlearn: 371621.4422432\ttotal: 1.32s\tremaining: 9.87s\n",
      "118:\tlearn: 369380.8769735\ttotal: 1.34s\tremaining: 9.89s\n",
      "119:\tlearn: 367121.2987562\ttotal: 1.35s\tremaining: 9.93s\n",
      "120:\tlearn: 364920.9411010\ttotal: 1.36s\tremaining: 9.92s\n",
      "121:\tlearn: 362682.5966416\ttotal: 1.38s\tremaining: 9.93s\n",
      "122:\tlearn: 360552.8576793\ttotal: 1.39s\tremaining: 9.91s\n",
      "123:\tlearn: 358423.5164998\ttotal: 1.4s\tremaining: 9.89s\n",
      "124:\tlearn: 356361.5202568\ttotal: 1.41s\tremaining: 9.86s\n",
      "125:\tlearn: 354288.2878033\ttotal: 1.42s\tremaining: 9.84s\n",
      "126:\tlearn: 352226.7919153\ttotal: 1.43s\tremaining: 9.82s\n",
      "127:\tlearn: 350159.3325510\ttotal: 1.44s\tremaining: 9.79s\n",
      "128:\tlearn: 348172.3360172\ttotal: 1.45s\tremaining: 9.79s\n",
      "129:\tlearn: 346146.7824538\ttotal: 1.46s\tremaining: 9.76s\n",
      "130:\tlearn: 344169.6863254\ttotal: 1.47s\tremaining: 9.74s\n",
      "131:\tlearn: 342214.9134877\ttotal: 1.48s\tremaining: 9.72s\n",
      "132:\tlearn: 340202.5081716\ttotal: 1.49s\tremaining: 9.7s\n",
      "133:\tlearn: 338206.9896462\ttotal: 1.5s\tremaining: 9.69s\n",
      "134:\tlearn: 336333.5144134\ttotal: 1.51s\tremaining: 9.67s\n",
      "135:\tlearn: 334445.8398047\ttotal: 1.52s\tremaining: 9.65s\n",
      "136:\tlearn: 332556.3159486\ttotal: 1.53s\tremaining: 9.63s\n",
      "137:\tlearn: 330659.6177804\ttotal: 1.54s\tremaining: 9.62s\n",
      "138:\tlearn: 328810.9203685\ttotal: 1.55s\tremaining: 9.62s\n",
      "139:\tlearn: 327029.0247970\ttotal: 1.56s\tremaining: 9.61s\n",
      "140:\tlearn: 325274.8612373\ttotal: 1.57s\tremaining: 9.6s\n",
      "141:\tlearn: 323547.0845397\ttotal: 1.59s\tremaining: 9.59s\n",
      "142:\tlearn: 321838.8805498\ttotal: 1.6s\tremaining: 9.56s\n",
      "143:\tlearn: 320144.5958749\ttotal: 1.61s\tremaining: 9.55s\n",
      "144:\tlearn: 318482.4419081\ttotal: 1.62s\tremaining: 9.53s\n",
      "145:\tlearn: 316811.8122992\ttotal: 1.63s\tremaining: 9.51s\n",
      "146:\tlearn: 315204.0724270\ttotal: 1.64s\tremaining: 9.5s\n",
      "147:\tlearn: 313550.4645039\ttotal: 1.65s\tremaining: 9.49s\n",
      "148:\tlearn: 311962.5007714\ttotal: 1.66s\tremaining: 9.48s\n",
      "149:\tlearn: 310338.2928884\ttotal: 1.67s\tremaining: 9.46s\n",
      "150:\tlearn: 308754.4203148\ttotal: 1.68s\tremaining: 9.44s\n",
      "151:\tlearn: 307210.9945825\ttotal: 1.69s\tremaining: 9.43s\n",
      "152:\tlearn: 305667.0270559\ttotal: 1.7s\tremaining: 9.41s\n",
      "153:\tlearn: 304112.7140414\ttotal: 1.71s\tremaining: 9.39s\n",
      "154:\tlearn: 302601.4824393\ttotal: 1.72s\tremaining: 9.38s\n",
      "155:\tlearn: 301115.7388885\ttotal: 1.73s\tremaining: 9.35s\n"
     ]
    },
    {
     "name": "stdout",
     "output_type": "stream",
     "text": [
      "156:\tlearn: 299654.3293389\ttotal: 1.74s\tremaining: 9.34s\n",
      "157:\tlearn: 298213.2004978\ttotal: 1.75s\tremaining: 9.34s\n",
      "158:\tlearn: 296767.8304751\ttotal: 1.76s\tremaining: 9.33s\n",
      "159:\tlearn: 295361.2130541\ttotal: 1.77s\tremaining: 9.31s\n",
      "160:\tlearn: 293954.8540032\ttotal: 1.78s\tremaining: 9.3s\n",
      "161:\tlearn: 292578.4980752\ttotal: 1.79s\tremaining: 9.28s\n",
      "162:\tlearn: 291196.7483838\ttotal: 1.8s\tremaining: 9.27s\n",
      "163:\tlearn: 289843.8139350\ttotal: 1.81s\tremaining: 9.25s\n",
      "164:\tlearn: 288531.9781556\ttotal: 1.82s\tremaining: 9.23s\n",
      "165:\tlearn: 287220.0863673\ttotal: 1.83s\tremaining: 9.22s\n",
      "166:\tlearn: 285948.3691729\ttotal: 1.85s\tremaining: 9.21s\n",
      "167:\tlearn: 284653.7497564\ttotal: 1.86s\tremaining: 9.19s\n",
      "168:\tlearn: 283366.8796592\ttotal: 1.87s\tremaining: 9.19s\n",
      "169:\tlearn: 282126.2397511\ttotal: 1.88s\tremaining: 9.17s\n",
      "170:\tlearn: 280881.0868328\ttotal: 1.89s\tremaining: 9.15s\n",
      "171:\tlearn: 279584.4278608\ttotal: 1.9s\tremaining: 9.13s\n",
      "172:\tlearn: 278391.9170332\ttotal: 1.91s\tremaining: 9.11s\n",
      "173:\tlearn: 277159.1375452\ttotal: 1.92s\tremaining: 9.09s\n",
      "174:\tlearn: 275964.1063102\ttotal: 1.93s\tremaining: 9.08s\n",
      "175:\tlearn: 274733.3482055\ttotal: 1.94s\tremaining: 9.06s\n",
      "176:\tlearn: 273570.6815752\ttotal: 1.97s\tremaining: 9.14s\n",
      "177:\tlearn: 272402.6114636\ttotal: 1.98s\tremaining: 9.15s\n",
      "178:\tlearn: 271297.8117766\ttotal: 1.99s\tremaining: 9.14s\n",
      "179:\tlearn: 270205.8043559\ttotal: 2s\tremaining: 9.13s\n",
      "180:\tlearn: 269072.7842648\ttotal: 2.02s\tremaining: 9.12s\n",
      "181:\tlearn: 268004.0339833\ttotal: 2.03s\tremaining: 9.11s\n",
      "182:\tlearn: 266848.8649236\ttotal: 2.04s\tremaining: 9.09s\n",
      "183:\tlearn: 265664.4780787\ttotal: 2.05s\tremaining: 9.07s\n",
      "184:\tlearn: 264634.7370299\ttotal: 2.06s\tremaining: 9.06s\n",
      "185:\tlearn: 263522.6871846\ttotal: 2.07s\tremaining: 9.04s\n",
      "186:\tlearn: 262450.3817293\ttotal: 2.08s\tremaining: 9.03s\n",
      "187:\tlearn: 261371.6013344\ttotal: 2.09s\tremaining: 9.02s\n",
      "188:\tlearn: 260375.2799582\ttotal: 2.1s\tremaining: 9s\n",
      "189:\tlearn: 259394.5269171\ttotal: 2.11s\tremaining: 8.98s\n",
      "190:\tlearn: 258384.9053789\ttotal: 2.12s\tremaining: 8.97s\n",
      "191:\tlearn: 257434.4788915\ttotal: 2.13s\tremaining: 8.96s\n",
      "192:\tlearn: 256512.6372098\ttotal: 2.14s\tremaining: 8.94s\n",
      "193:\tlearn: 255559.2019403\ttotal: 2.15s\tremaining: 8.94s\n",
      "194:\tlearn: 254621.6696564\ttotal: 2.16s\tremaining: 8.92s\n",
      "195:\tlearn: 253707.4806430\ttotal: 2.17s\tremaining: 8.91s\n",
      "196:\tlearn: 252800.5564517\ttotal: 2.18s\tremaining: 8.9s\n",
      "197:\tlearn: 251917.9082139\ttotal: 2.19s\tremaining: 8.88s\n",
      "198:\tlearn: 250934.8900298\ttotal: 2.2s\tremaining: 8.87s\n",
      "199:\tlearn: 250047.9970895\ttotal: 2.21s\tremaining: 8.85s\n",
      "200:\tlearn: 249122.4094589\ttotal: 2.22s\tremaining: 8.84s\n",
      "201:\tlearn: 248247.6463760\ttotal: 2.23s\tremaining: 8.82s\n",
      "202:\tlearn: 247433.6033444\ttotal: 2.24s\tremaining: 8.81s\n",
      "203:\tlearn: 246613.4851015\ttotal: 2.25s\tremaining: 8.8s\n",
      "204:\tlearn: 245798.3475524\ttotal: 2.26s\tremaining: 8.78s\n",
      "205:\tlearn: 244993.9494518\ttotal: 2.27s\tremaining: 8.77s\n",
      "206:\tlearn: 244136.1166655\ttotal: 2.28s\tremaining: 8.75s\n",
      "207:\tlearn: 243230.6358784\ttotal: 2.29s\tremaining: 8.74s\n",
      "208:\tlearn: 242440.4837300\ttotal: 2.3s\tremaining: 8.72s\n",
      "209:\tlearn: 241672.8579921\ttotal: 2.31s\tremaining: 8.71s\n",
      "210:\tlearn: 240852.2843666\ttotal: 2.32s\tremaining: 8.69s\n",
      "211:\tlearn: 240104.0975477\ttotal: 2.33s\tremaining: 8.68s\n",
      "212:\tlearn: 239393.5889527\ttotal: 2.35s\tremaining: 8.67s\n",
      "213:\tlearn: 238667.1992033\ttotal: 2.35s\tremaining: 8.65s\n",
      "214:\tlearn: 237914.3394331\ttotal: 2.37s\tremaining: 8.64s\n",
      "215:\tlearn: 237220.1228301\ttotal: 2.38s\tremaining: 8.63s\n",
      "216:\tlearn: 236526.7815105\ttotal: 2.39s\tremaining: 8.62s\n",
      "217:\tlearn: 235785.9548593\ttotal: 2.4s\tremaining: 8.61s\n",
      "218:\tlearn: 235064.5467345\ttotal: 2.41s\tremaining: 8.59s\n",
      "219:\tlearn: 234376.2724218\ttotal: 2.42s\tremaining: 8.58s\n",
      "220:\tlearn: 233727.1144932\ttotal: 2.43s\tremaining: 8.56s\n",
      "221:\tlearn: 233059.3038594\ttotal: 2.44s\tremaining: 8.54s\n",
      "222:\tlearn: 232380.2623445\ttotal: 2.45s\tremaining: 8.53s\n",
      "223:\tlearn: 231735.0788202\ttotal: 2.46s\tremaining: 8.52s\n",
      "224:\tlearn: 231125.2003110\ttotal: 2.47s\tremaining: 8.5s\n",
      "225:\tlearn: 230424.9059609\ttotal: 2.48s\tremaining: 8.48s\n",
      "226:\tlearn: 229804.7879248\ttotal: 2.49s\tremaining: 8.47s\n",
      "227:\tlearn: 229148.6592486\ttotal: 2.5s\tremaining: 8.45s\n",
      "228:\tlearn: 228552.5578785\ttotal: 2.5s\tremaining: 8.43s\n",
      "229:\tlearn: 227857.8370236\ttotal: 2.51s\tremaining: 8.42s\n",
      "230:\tlearn: 227225.8584976\ttotal: 2.52s\tremaining: 8.4s\n",
      "231:\tlearn: 226617.3245879\ttotal: 2.53s\tremaining: 8.39s\n",
      "232:\tlearn: 225972.8738505\ttotal: 2.54s\tremaining: 8.38s\n",
      "233:\tlearn: 225398.5036758\ttotal: 2.56s\tremaining: 8.36s\n",
      "234:\tlearn: 224832.4794848\ttotal: 2.56s\tremaining: 8.35s\n",
      "235:\tlearn: 224304.1412902\ttotal: 2.57s\tremaining: 8.33s\n",
      "236:\tlearn: 223735.9995057\ttotal: 2.58s\tremaining: 8.32s\n",
      "237:\tlearn: 223202.9468846\ttotal: 2.6s\tremaining: 8.31s\n",
      "238:\tlearn: 222633.6956152\ttotal: 2.61s\tremaining: 8.3s\n",
      "239:\tlearn: 222017.9988030\ttotal: 2.62s\tremaining: 8.29s\n",
      "240:\tlearn: 221497.1484282\ttotal: 2.63s\tremaining: 8.27s\n",
      "241:\tlearn: 220978.9716646\ttotal: 2.64s\tremaining: 8.26s\n",
      "242:\tlearn: 220458.2036954\ttotal: 2.65s\tremaining: 8.25s\n",
      "243:\tlearn: 219925.7277554\ttotal: 2.66s\tremaining: 8.23s\n",
      "244:\tlearn: 219421.3176916\ttotal: 2.67s\tremaining: 8.21s\n",
      "245:\tlearn: 218917.6978108\ttotal: 2.68s\tremaining: 8.2s\n",
      "246:\tlearn: 218403.2522551\ttotal: 2.69s\tremaining: 8.19s\n",
      "247:\tlearn: 217864.9906664\ttotal: 2.7s\tremaining: 8.18s\n",
      "248:\tlearn: 217374.4213153\ttotal: 2.71s\tremaining: 8.16s\n",
      "249:\tlearn: 216881.6411480\ttotal: 2.71s\tremaining: 8.14s\n",
      "250:\tlearn: 216394.0880637\ttotal: 2.72s\tremaining: 8.13s\n",
      "251:\tlearn: 215942.1866721\ttotal: 2.73s\tremaining: 8.11s\n",
      "252:\tlearn: 215360.9414462\ttotal: 2.75s\tremaining: 8.1s\n",
      "253:\tlearn: 214902.3628653\ttotal: 2.75s\tremaining: 8.09s\n",
      "254:\tlearn: 214464.7749629\ttotal: 2.76s\tremaining: 8.07s\n",
      "255:\tlearn: 214010.0368683\ttotal: 2.77s\tremaining: 8.06s\n",
      "256:\tlearn: 213552.4962829\ttotal: 2.78s\tremaining: 8.05s\n",
      "257:\tlearn: 213108.2572466\ttotal: 2.79s\tremaining: 8.03s\n",
      "258:\tlearn: 212667.2139876\ttotal: 2.8s\tremaining: 8.02s\n",
      "259:\tlearn: 212152.7930341\ttotal: 2.81s\tremaining: 8.01s\n",
      "260:\tlearn: 211632.1660097\ttotal: 2.82s\tremaining: 8s\n",
      "261:\tlearn: 211169.3757617\ttotal: 2.83s\tremaining: 7.98s\n",
      "262:\tlearn: 210751.4626593\ttotal: 2.84s\tremaining: 7.97s\n",
      "263:\tlearn: 210354.4486749\ttotal: 2.85s\tremaining: 7.96s\n",
      "264:\tlearn: 209959.0774283\ttotal: 2.86s\tremaining: 7.94s\n",
      "265:\tlearn: 209566.6993546\ttotal: 2.87s\tremaining: 7.93s\n",
      "266:\tlearn: 209184.3251858\ttotal: 2.88s\tremaining: 7.92s\n",
      "267:\tlearn: 208750.5893370\ttotal: 2.89s\tremaining: 7.9s\n",
      "268:\tlearn: 208374.0266507\ttotal: 2.9s\tremaining: 7.89s\n",
      "269:\tlearn: 207955.0577499\ttotal: 2.91s\tremaining: 7.87s\n",
      "270:\tlearn: 207616.1522170\ttotal: 2.92s\tremaining: 7.85s\n",
      "271:\tlearn: 207293.4820298\ttotal: 2.93s\tremaining: 7.84s\n",
      "272:\tlearn: 206945.1358222\ttotal: 2.94s\tremaining: 7.83s\n",
      "273:\tlearn: 206603.7273332\ttotal: 2.97s\tremaining: 7.87s\n",
      "274:\tlearn: 206252.5261923\ttotal: 2.98s\tremaining: 7.87s\n",
      "275:\tlearn: 205809.5853685\ttotal: 2.99s\tremaining: 7.85s\n",
      "276:\tlearn: 205473.8710354\ttotal: 3s\tremaining: 7.84s\n",
      "277:\tlearn: 205127.1864697\ttotal: 3.01s\tremaining: 7.83s\n",
      "278:\tlearn: 204775.5343755\ttotal: 3.02s\tremaining: 7.81s\n",
      "279:\tlearn: 204468.9824873\ttotal: 3.03s\tremaining: 7.8s\n",
      "280:\tlearn: 204163.8394796\ttotal: 3.04s\tremaining: 7.79s\n",
      "281:\tlearn: 203825.4409073\ttotal: 3.05s\tremaining: 7.77s\n",
      "282:\tlearn: 203517.6398837\ttotal: 3.06s\tremaining: 7.75s\n",
      "283:\tlearn: 203179.8304788\ttotal: 3.07s\tremaining: 7.74s\n",
      "284:\tlearn: 202820.9270118\ttotal: 3.08s\tremaining: 7.72s\n",
      "285:\tlearn: 202345.0689788\ttotal: 3.09s\tremaining: 7.71s\n",
      "286:\tlearn: 202024.8244238\ttotal: 3.1s\tremaining: 7.7s\n",
      "287:\tlearn: 201660.9280014\ttotal: 3.11s\tremaining: 7.68s\n",
      "288:\tlearn: 201351.0955265\ttotal: 3.12s\tremaining: 7.66s\n",
      "289:\tlearn: 201045.6305711\ttotal: 3.12s\tremaining: 7.65s\n",
      "290:\tlearn: 200712.5851193\ttotal: 3.13s\tremaining: 7.63s\n",
      "291:\tlearn: 200401.0170971\ttotal: 3.14s\tremaining: 7.62s\n",
      "292:\tlearn: 200098.2751117\ttotal: 3.15s\tremaining: 7.61s\n",
      "293:\tlearn: 199801.0938513\ttotal: 3.16s\tremaining: 7.59s\n",
      "294:\tlearn: 199518.6088879\ttotal: 3.17s\tremaining: 7.58s\n",
      "295:\tlearn: 199226.8287044\ttotal: 3.18s\tremaining: 7.56s\n",
      "296:\tlearn: 198940.1173903\ttotal: 3.19s\tremaining: 7.55s\n",
      "297:\tlearn: 198681.3936733\ttotal: 3.2s\tremaining: 7.54s\n",
      "298:\tlearn: 198382.9943344\ttotal: 3.21s\tremaining: 7.53s\n",
      "299:\tlearn: 198095.4768061\ttotal: 3.22s\tremaining: 7.51s\n",
      "300:\tlearn: 197802.2511074\ttotal: 3.23s\tremaining: 7.5s\n",
      "301:\tlearn: 197547.2775731\ttotal: 3.24s\tremaining: 7.48s\n",
      "302:\tlearn: 197251.7713121\ttotal: 3.25s\tremaining: 7.47s\n",
      "303:\tlearn: 196984.5065813\ttotal: 3.26s\tremaining: 7.46s\n",
      "304:\tlearn: 196726.8384335\ttotal: 3.27s\tremaining: 7.45s\n",
      "305:\tlearn: 196485.3167640\ttotal: 3.28s\tremaining: 7.43s\n",
      "306:\tlearn: 196247.7152810\ttotal: 3.29s\tremaining: 7.42s\n",
      "307:\tlearn: 195967.2289450\ttotal: 3.3s\tremaining: 7.41s\n",
      "308:\tlearn: 195658.2510203\ttotal: 3.31s\tremaining: 7.4s\n",
      "309:\tlearn: 195365.4258526\ttotal: 3.32s\tremaining: 7.39s\n",
      "310:\tlearn: 195129.6940817\ttotal: 3.33s\tremaining: 7.37s\n",
      "311:\tlearn: 194911.7272047\ttotal: 3.34s\tremaining: 7.36s\n",
      "312:\tlearn: 194671.4581772\ttotal: 3.35s\tremaining: 7.34s\n",
      "313:\tlearn: 194447.7038101\ttotal: 3.36s\tremaining: 7.33s\n",
      "314:\tlearn: 194136.1633057\ttotal: 3.37s\tremaining: 7.32s\n",
      "315:\tlearn: 193860.5226401\ttotal: 3.37s\tremaining: 7.3s\n",
      "316:\tlearn: 193665.6437957\ttotal: 3.38s\tremaining: 7.29s\n",
      "317:\tlearn: 193387.8963159\ttotal: 3.39s\tremaining: 7.27s\n"
     ]
    },
    {
     "name": "stdout",
     "output_type": "stream",
     "text": [
      "318:\tlearn: 193149.4565208\ttotal: 3.4s\tremaining: 7.26s\n",
      "319:\tlearn: 192927.6189575\ttotal: 3.41s\tremaining: 7.25s\n",
      "320:\tlearn: 192674.9353626\ttotal: 3.42s\tremaining: 7.24s\n",
      "321:\tlearn: 192426.7641644\ttotal: 3.43s\tremaining: 7.23s\n",
      "322:\tlearn: 192168.0803948\ttotal: 3.44s\tremaining: 7.21s\n",
      "323:\tlearn: 191871.9708353\ttotal: 3.45s\tremaining: 7.21s\n",
      "324:\tlearn: 191596.5778823\ttotal: 3.46s\tremaining: 7.19s\n",
      "325:\tlearn: 191375.8419829\ttotal: 3.47s\tremaining: 7.18s\n",
      "326:\tlearn: 191154.9821173\ttotal: 3.48s\tremaining: 7.17s\n",
      "327:\tlearn: 190903.3820336\ttotal: 3.49s\tremaining: 7.16s\n",
      "328:\tlearn: 190706.6051643\ttotal: 3.5s\tremaining: 7.14s\n",
      "329:\tlearn: 190496.3892400\ttotal: 3.51s\tremaining: 7.13s\n",
      "330:\tlearn: 190287.8041462\ttotal: 3.52s\tremaining: 7.11s\n",
      "331:\tlearn: 190095.1516044\ttotal: 3.53s\tremaining: 7.1s\n",
      "332:\tlearn: 189913.2133261\ttotal: 3.54s\tremaining: 7.09s\n",
      "333:\tlearn: 189733.4678751\ttotal: 3.55s\tremaining: 7.07s\n",
      "334:\tlearn: 189526.4156321\ttotal: 3.56s\tremaining: 7.06s\n",
      "335:\tlearn: 189345.9170632\ttotal: 3.56s\tremaining: 7.05s\n",
      "336:\tlearn: 189162.7588920\ttotal: 3.57s\tremaining: 7.03s\n",
      "337:\tlearn: 188901.3288987\ttotal: 3.58s\tremaining: 7.02s\n",
      "338:\tlearn: 188705.5204225\ttotal: 3.59s\tremaining: 7.01s\n",
      "339:\tlearn: 188519.5540452\ttotal: 3.6s\tremaining: 7s\n",
      "340:\tlearn: 188343.3102431\ttotal: 3.62s\tremaining: 6.99s\n",
      "341:\tlearn: 188173.5750571\ttotal: 3.63s\tremaining: 6.97s\n",
      "342:\tlearn: 187965.6178230\ttotal: 3.64s\tremaining: 6.97s\n",
      "343:\tlearn: 187705.8132301\ttotal: 3.65s\tremaining: 6.96s\n",
      "344:\tlearn: 187504.5307800\ttotal: 3.66s\tremaining: 6.95s\n",
      "345:\tlearn: 187340.2490513\ttotal: 3.67s\tremaining: 6.93s\n",
      "346:\tlearn: 187136.9270852\ttotal: 3.68s\tremaining: 6.92s\n",
      "347:\tlearn: 186984.3619864\ttotal: 3.69s\tremaining: 6.91s\n",
      "348:\tlearn: 186829.3682693\ttotal: 3.69s\tremaining: 6.89s\n",
      "349:\tlearn: 186674.4282898\ttotal: 3.7s\tremaining: 6.88s\n",
      "350:\tlearn: 186514.2370076\ttotal: 3.71s\tremaining: 6.86s\n",
      "351:\tlearn: 186361.5391024\ttotal: 3.72s\tremaining: 6.85s\n",
      "352:\tlearn: 186188.0718726\ttotal: 3.73s\tremaining: 6.84s\n",
      "353:\tlearn: 185926.7846332\ttotal: 3.74s\tremaining: 6.83s\n",
      "354:\tlearn: 185691.8151229\ttotal: 3.75s\tremaining: 6.82s\n",
      "355:\tlearn: 185529.5815577\ttotal: 3.76s\tremaining: 6.8s\n",
      "356:\tlearn: 185343.9919844\ttotal: 3.77s\tremaining: 6.79s\n",
      "357:\tlearn: 185185.2761458\ttotal: 3.78s\tremaining: 6.78s\n",
      "358:\tlearn: 185039.7843763\ttotal: 3.79s\tremaining: 6.76s\n",
      "359:\tlearn: 184893.6460602\ttotal: 3.8s\tremaining: 6.75s\n",
      "360:\tlearn: 184711.5380914\ttotal: 3.81s\tremaining: 6.74s\n",
      "361:\tlearn: 184584.4895672\ttotal: 3.82s\tremaining: 6.73s\n",
      "362:\tlearn: 184439.2359262\ttotal: 3.83s\tremaining: 6.72s\n",
      "363:\tlearn: 184300.2555204\ttotal: 3.84s\tremaining: 6.71s\n",
      "364:\tlearn: 184151.9218259\ttotal: 3.85s\tremaining: 6.69s\n",
      "365:\tlearn: 183992.0693553\ttotal: 3.86s\tremaining: 6.68s\n",
      "366:\tlearn: 183861.7185987\ttotal: 3.87s\tremaining: 6.67s\n",
      "367:\tlearn: 183691.9431587\ttotal: 3.88s\tremaining: 6.66s\n",
      "368:\tlearn: 183504.7913580\ttotal: 3.89s\tremaining: 6.64s\n",
      "369:\tlearn: 183359.3205653\ttotal: 3.9s\tremaining: 6.63s\n",
      "370:\tlearn: 183203.9307828\ttotal: 3.9s\tremaining: 6.62s\n",
      "371:\tlearn: 183065.3959993\ttotal: 3.91s\tremaining: 6.61s\n",
      "372:\tlearn: 182841.2578646\ttotal: 3.92s\tremaining: 6.59s\n",
      "373:\tlearn: 182719.3703889\ttotal: 3.95s\tremaining: 6.61s\n",
      "374:\tlearn: 182580.5484995\ttotal: 3.97s\tremaining: 6.62s\n",
      "375:\tlearn: 182437.0857146\ttotal: 3.98s\tremaining: 6.6s\n",
      "376:\tlearn: 182298.5124700\ttotal: 3.99s\tremaining: 6.59s\n",
      "377:\tlearn: 182045.4050756\ttotal: 4s\tremaining: 6.58s\n",
      "378:\tlearn: 181944.7867916\ttotal: 4.01s\tremaining: 6.57s\n",
      "379:\tlearn: 181833.5321473\ttotal: 4.02s\tremaining: 6.55s\n",
      "380:\tlearn: 181669.3060466\ttotal: 4.03s\tremaining: 6.54s\n",
      "381:\tlearn: 181560.8122084\ttotal: 4.04s\tremaining: 6.53s\n",
      "382:\tlearn: 181471.7652320\ttotal: 4.05s\tremaining: 6.52s\n",
      "383:\tlearn: 181340.3268967\ttotal: 4.06s\tremaining: 6.51s\n",
      "384:\tlearn: 181117.6581268\ttotal: 4.07s\tremaining: 6.5s\n",
      "385:\tlearn: 180979.5611964\ttotal: 4.08s\tremaining: 6.48s\n",
      "386:\tlearn: 180846.1865418\ttotal: 4.08s\tremaining: 6.47s\n",
      "387:\tlearn: 180692.1077607\ttotal: 4.09s\tremaining: 6.46s\n",
      "388:\tlearn: 180566.0853083\ttotal: 4.1s\tremaining: 6.45s\n",
      "389:\tlearn: 180423.4562546\ttotal: 4.11s\tremaining: 6.43s\n",
      "390:\tlearn: 180317.9955043\ttotal: 4.12s\tremaining: 6.42s\n",
      "391:\tlearn: 180137.6847639\ttotal: 4.13s\tremaining: 6.41s\n",
      "392:\tlearn: 179979.0217317\ttotal: 4.14s\tremaining: 6.39s\n",
      "393:\tlearn: 179875.6972678\ttotal: 4.15s\tremaining: 6.38s\n",
      "394:\tlearn: 179764.9881410\ttotal: 4.16s\tremaining: 6.37s\n",
      "395:\tlearn: 179596.4398751\ttotal: 4.17s\tremaining: 6.36s\n",
      "396:\tlearn: 179477.5707808\ttotal: 4.18s\tremaining: 6.34s\n",
      "397:\tlearn: 179391.4481854\ttotal: 4.18s\tremaining: 6.33s\n",
      "398:\tlearn: 179164.9539790\ttotal: 4.2s\tremaining: 6.32s\n",
      "399:\tlearn: 179044.8447060\ttotal: 4.2s\tremaining: 6.31s\n",
      "400:\tlearn: 178921.8661622\ttotal: 4.21s\tremaining: 6.29s\n",
      "401:\tlearn: 178756.3378331\ttotal: 4.23s\tremaining: 6.29s\n",
      "402:\tlearn: 178634.3371258\ttotal: 4.24s\tremaining: 6.28s\n",
      "403:\tlearn: 178512.0204374\ttotal: 4.25s\tremaining: 6.27s\n",
      "404:\tlearn: 178409.1467412\ttotal: 4.25s\tremaining: 6.25s\n",
      "405:\tlearn: 178332.0685411\ttotal: 4.26s\tremaining: 6.24s\n",
      "406:\tlearn: 178241.5044916\ttotal: 4.27s\tremaining: 6.22s\n",
      "407:\tlearn: 178060.3932552\ttotal: 4.28s\tremaining: 6.21s\n",
      "408:\tlearn: 177946.3674500\ttotal: 4.29s\tremaining: 6.2s\n",
      "409:\tlearn: 177806.9136411\ttotal: 4.3s\tremaining: 6.19s\n",
      "410:\tlearn: 177687.2143891\ttotal: 4.31s\tremaining: 6.17s\n",
      "411:\tlearn: 177579.2190547\ttotal: 4.32s\tremaining: 6.16s\n",
      "412:\tlearn: 177424.0566234\ttotal: 4.33s\tremaining: 6.15s\n",
      "413:\tlearn: 177339.8215073\ttotal: 4.34s\tremaining: 6.14s\n",
      "414:\tlearn: 177226.3447501\ttotal: 4.35s\tremaining: 6.13s\n",
      "415:\tlearn: 177107.6766147\ttotal: 4.36s\tremaining: 6.13s\n",
      "416:\tlearn: 177042.2980408\ttotal: 4.37s\tremaining: 6.12s\n",
      "417:\tlearn: 176889.9726674\ttotal: 4.38s\tremaining: 6.11s\n",
      "418:\tlearn: 176761.8816910\ttotal: 4.39s\tremaining: 6.09s\n",
      "419:\tlearn: 176650.4709569\ttotal: 4.41s\tremaining: 6.08s\n",
      "420:\tlearn: 176522.5336912\ttotal: 4.41s\tremaining: 6.07s\n",
      "421:\tlearn: 176450.5365418\ttotal: 4.42s\tremaining: 6.06s\n",
      "422:\tlearn: 176393.4355810\ttotal: 4.44s\tremaining: 6.05s\n",
      "423:\tlearn: 176283.8649145\ttotal: 4.45s\tremaining: 6.04s\n",
      "424:\tlearn: 176155.3068725\ttotal: 4.46s\tremaining: 6.04s\n",
      "425:\tlearn: 176068.6605086\ttotal: 4.47s\tremaining: 6.03s\n",
      "426:\tlearn: 175880.4650413\ttotal: 4.49s\tremaining: 6.02s\n",
      "427:\tlearn: 175789.7494948\ttotal: 4.5s\tremaining: 6.01s\n",
      "428:\tlearn: 175650.5788099\ttotal: 4.51s\tremaining: 6s\n",
      "429:\tlearn: 175472.9071992\ttotal: 4.52s\tremaining: 5.99s\n",
      "430:\tlearn: 175400.8779885\ttotal: 4.53s\tremaining: 5.98s\n",
      "431:\tlearn: 175286.7440157\ttotal: 4.54s\tremaining: 5.97s\n",
      "432:\tlearn: 175188.3108478\ttotal: 4.55s\tremaining: 5.96s\n",
      "433:\tlearn: 175089.2586515\ttotal: 4.56s\tremaining: 5.95s\n",
      "434:\tlearn: 174994.5661427\ttotal: 4.57s\tremaining: 5.94s\n",
      "435:\tlearn: 174870.9226069\ttotal: 4.58s\tremaining: 5.92s\n",
      "436:\tlearn: 174758.2970263\ttotal: 4.59s\tremaining: 5.91s\n",
      "437:\tlearn: 174689.0517944\ttotal: 4.6s\tremaining: 5.9s\n",
      "438:\tlearn: 174581.1495151\ttotal: 4.61s\tremaining: 5.89s\n",
      "439:\tlearn: 174477.7330260\ttotal: 4.63s\tremaining: 5.89s\n",
      "440:\tlearn: 174393.7652964\ttotal: 4.63s\tremaining: 5.87s\n",
      "441:\tlearn: 174270.2147152\ttotal: 4.65s\tremaining: 5.87s\n",
      "442:\tlearn: 174119.7169066\ttotal: 4.66s\tremaining: 5.86s\n",
      "443:\tlearn: 173955.9529060\ttotal: 4.67s\tremaining: 5.85s\n",
      "444:\tlearn: 173882.6878616\ttotal: 4.68s\tremaining: 5.84s\n",
      "445:\tlearn: 173695.4924718\ttotal: 4.69s\tremaining: 5.83s\n",
      "446:\tlearn: 173558.8337997\ttotal: 4.7s\tremaining: 5.82s\n",
      "447:\tlearn: 173461.3793681\ttotal: 4.71s\tremaining: 5.81s\n",
      "448:\tlearn: 173375.5321606\ttotal: 4.73s\tremaining: 5.8s\n",
      "449:\tlearn: 173293.3546524\ttotal: 4.74s\tremaining: 5.79s\n",
      "450:\tlearn: 173195.2260648\ttotal: 4.75s\tremaining: 5.78s\n",
      "451:\tlearn: 173100.8938610\ttotal: 4.76s\tremaining: 5.77s\n",
      "452:\tlearn: 173036.1246995\ttotal: 4.77s\tremaining: 5.76s\n",
      "453:\tlearn: 172954.6482918\ttotal: 4.78s\tremaining: 5.75s\n",
      "454:\tlearn: 172876.8234073\ttotal: 4.79s\tremaining: 5.74s\n",
      "455:\tlearn: 172790.7406613\ttotal: 4.8s\tremaining: 5.73s\n",
      "456:\tlearn: 172721.1871361\ttotal: 4.81s\tremaining: 5.72s\n",
      "457:\tlearn: 172661.9736249\ttotal: 4.83s\tremaining: 5.71s\n",
      "458:\tlearn: 172539.7905784\ttotal: 4.84s\tremaining: 5.7s\n",
      "459:\tlearn: 172468.0606657\ttotal: 4.85s\tremaining: 5.69s\n",
      "460:\tlearn: 172331.2186385\ttotal: 4.86s\tremaining: 5.68s\n",
      "461:\tlearn: 172258.8968839\ttotal: 4.87s\tremaining: 5.67s\n",
      "462:\tlearn: 172203.0318902\ttotal: 4.88s\tremaining: 5.67s\n",
      "463:\tlearn: 172108.4199429\ttotal: 4.89s\tremaining: 5.65s\n",
      "464:\tlearn: 172020.8975246\ttotal: 4.9s\tremaining: 5.64s\n",
      "465:\tlearn: 171915.4615526\ttotal: 4.92s\tremaining: 5.63s\n",
      "466:\tlearn: 171862.6573056\ttotal: 4.93s\tremaining: 5.63s\n",
      "467:\tlearn: 171787.0349059\ttotal: 4.96s\tremaining: 5.64s\n",
      "468:\tlearn: 171693.8685513\ttotal: 4.97s\tremaining: 5.63s\n",
      "469:\tlearn: 171630.2115501\ttotal: 4.98s\tremaining: 5.62s\n",
      "470:\tlearn: 171538.9273974\ttotal: 4.99s\tremaining: 5.61s\n",
      "471:\tlearn: 171468.2279413\ttotal: 5s\tremaining: 5.59s\n",
      "472:\tlearn: 171383.7467707\ttotal: 5.01s\tremaining: 5.59s\n",
      "473:\tlearn: 171309.7773088\ttotal: 5.03s\tremaining: 5.58s\n",
      "474:\tlearn: 171139.0799589\ttotal: 5.05s\tremaining: 5.58s\n",
      "475:\tlearn: 171084.4500964\ttotal: 5.05s\tremaining: 5.57s\n"
     ]
    },
    {
     "name": "stdout",
     "output_type": "stream",
     "text": [
      "476:\tlearn: 171034.8522588\ttotal: 5.07s\tremaining: 5.55s\n",
      "477:\tlearn: 170974.5940572\ttotal: 5.08s\tremaining: 5.54s\n",
      "478:\tlearn: 170892.4814361\ttotal: 5.09s\tremaining: 5.53s\n",
      "479:\tlearn: 170766.2744315\ttotal: 5.1s\tremaining: 5.52s\n",
      "480:\tlearn: 170702.7710317\ttotal: 5.11s\tremaining: 5.51s\n",
      "481:\tlearn: 170652.0345778\ttotal: 5.12s\tremaining: 5.5s\n",
      "482:\tlearn: 170491.2161395\ttotal: 5.13s\tremaining: 5.49s\n",
      "483:\tlearn: 170439.5776395\ttotal: 5.14s\tremaining: 5.48s\n",
      "484:\tlearn: 170323.9506585\ttotal: 5.15s\tremaining: 5.47s\n",
      "485:\tlearn: 170263.2351555\ttotal: 5.16s\tremaining: 5.46s\n",
      "486:\tlearn: 170210.2471420\ttotal: 5.17s\tremaining: 5.45s\n",
      "487:\tlearn: 170166.0695457\ttotal: 5.18s\tremaining: 5.44s\n",
      "488:\tlearn: 170045.0366395\ttotal: 5.19s\tremaining: 5.43s\n",
      "489:\tlearn: 169896.3691395\ttotal: 5.2s\tremaining: 5.42s\n",
      "490:\tlearn: 169858.3615948\ttotal: 5.21s\tremaining: 5.4s\n",
      "491:\tlearn: 169771.4007524\ttotal: 5.22s\tremaining: 5.39s\n",
      "492:\tlearn: 169710.2589393\ttotal: 5.24s\tremaining: 5.38s\n",
      "493:\tlearn: 169537.1704730\ttotal: 5.25s\tremaining: 5.37s\n",
      "494:\tlearn: 169455.3167049\ttotal: 5.26s\tremaining: 5.36s\n",
      "495:\tlearn: 169300.3282361\ttotal: 5.27s\tremaining: 5.36s\n",
      "496:\tlearn: 169239.7507266\ttotal: 5.28s\tremaining: 5.35s\n",
      "497:\tlearn: 169136.4527229\ttotal: 5.29s\tremaining: 5.34s\n",
      "498:\tlearn: 169060.8149504\ttotal: 5.3s\tremaining: 5.33s\n",
      "499:\tlearn: 168901.6366798\ttotal: 5.31s\tremaining: 5.31s\n",
      "500:\tlearn: 168754.7385539\ttotal: 5.33s\tremaining: 5.3s\n",
      "501:\tlearn: 168704.8937993\ttotal: 5.33s\tremaining: 5.29s\n",
      "502:\tlearn: 168627.2911490\ttotal: 5.34s\tremaining: 5.28s\n",
      "503:\tlearn: 168558.2641477\ttotal: 5.35s\tremaining: 5.27s\n",
      "504:\tlearn: 168498.5015411\ttotal: 5.36s\tremaining: 5.25s\n",
      "505:\tlearn: 168423.7135439\ttotal: 5.37s\tremaining: 5.24s\n",
      "506:\tlearn: 168343.5677959\ttotal: 5.38s\tremaining: 5.23s\n",
      "507:\tlearn: 168288.9439861\ttotal: 5.39s\tremaining: 5.22s\n",
      "508:\tlearn: 168205.1668587\ttotal: 5.4s\tremaining: 5.21s\n",
      "509:\tlearn: 168127.5178546\ttotal: 5.41s\tremaining: 5.2s\n",
      "510:\tlearn: 168051.9117670\ttotal: 5.42s\tremaining: 5.18s\n",
      "511:\tlearn: 167948.1446671\ttotal: 5.43s\tremaining: 5.17s\n",
      "512:\tlearn: 167878.6163754\ttotal: 5.44s\tremaining: 5.16s\n",
      "513:\tlearn: 167820.0469678\ttotal: 5.45s\tremaining: 5.15s\n",
      "514:\tlearn: 167747.1888688\ttotal: 5.46s\tremaining: 5.14s\n",
      "515:\tlearn: 167678.2958507\ttotal: 5.47s\tremaining: 5.13s\n",
      "516:\tlearn: 167630.4057994\ttotal: 5.48s\tremaining: 5.12s\n",
      "517:\tlearn: 167573.6947029\ttotal: 5.49s\tremaining: 5.11s\n",
      "518:\tlearn: 167473.0388519\ttotal: 5.5s\tremaining: 5.1s\n",
      "519:\tlearn: 167362.6745357\ttotal: 5.51s\tremaining: 5.08s\n",
      "520:\tlearn: 167302.7694155\ttotal: 5.52s\tremaining: 5.08s\n",
      "521:\tlearn: 167265.2602641\ttotal: 5.53s\tremaining: 5.06s\n",
      "522:\tlearn: 167203.6370068\ttotal: 5.54s\tremaining: 5.05s\n",
      "523:\tlearn: 167097.1758147\ttotal: 5.55s\tremaining: 5.04s\n",
      "524:\tlearn: 167035.7978032\ttotal: 5.56s\tremaining: 5.03s\n",
      "525:\tlearn: 166998.1272047\ttotal: 5.57s\tremaining: 5.02s\n",
      "526:\tlearn: 166942.4925603\ttotal: 5.58s\tremaining: 5.01s\n",
      "527:\tlearn: 166876.7391697\ttotal: 5.59s\tremaining: 5s\n",
      "528:\tlearn: 166816.5982476\ttotal: 5.6s\tremaining: 4.99s\n",
      "529:\tlearn: 166731.7647900\ttotal: 5.61s\tremaining: 4.98s\n",
      "530:\tlearn: 166666.7061339\ttotal: 5.62s\tremaining: 4.97s\n",
      "531:\tlearn: 166607.2060071\ttotal: 5.63s\tremaining: 4.96s\n",
      "532:\tlearn: 166536.4859912\ttotal: 5.64s\tremaining: 4.95s\n",
      "533:\tlearn: 166482.7434208\ttotal: 5.66s\tremaining: 4.93s\n",
      "534:\tlearn: 166427.3262019\ttotal: 5.67s\tremaining: 4.92s\n",
      "535:\tlearn: 166365.5536157\ttotal: 5.68s\tremaining: 4.91s\n",
      "536:\tlearn: 166314.2484726\ttotal: 5.69s\tremaining: 4.9s\n",
      "537:\tlearn: 166193.9399476\ttotal: 5.7s\tremaining: 4.89s\n",
      "538:\tlearn: 166047.6591249\ttotal: 5.71s\tremaining: 4.88s\n",
      "539:\tlearn: 165988.0168190\ttotal: 5.72s\tremaining: 4.87s\n",
      "540:\tlearn: 165908.2204298\ttotal: 5.73s\tremaining: 4.86s\n",
      "541:\tlearn: 165851.3938748\ttotal: 5.74s\tremaining: 4.85s\n",
      "542:\tlearn: 165785.1892820\ttotal: 5.75s\tremaining: 4.84s\n",
      "543:\tlearn: 165722.4231816\ttotal: 5.76s\tremaining: 4.83s\n",
      "544:\tlearn: 165655.2364281\ttotal: 5.77s\tremaining: 4.82s\n",
      "545:\tlearn: 165596.5326349\ttotal: 5.78s\tremaining: 4.81s\n",
      "546:\tlearn: 165463.6162290\ttotal: 5.79s\tremaining: 4.79s\n",
      "547:\tlearn: 165386.8993139\ttotal: 5.8s\tremaining: 4.79s\n",
      "548:\tlearn: 165318.7071660\ttotal: 5.82s\tremaining: 4.78s\n",
      "549:\tlearn: 165246.1786227\ttotal: 5.83s\tremaining: 4.77s\n",
      "550:\tlearn: 165174.5264718\ttotal: 5.84s\tremaining: 4.76s\n",
      "551:\tlearn: 165096.0537628\ttotal: 5.85s\tremaining: 4.75s\n",
      "552:\tlearn: 165042.3461462\ttotal: 5.86s\tremaining: 4.74s\n",
      "553:\tlearn: 164944.1233680\ttotal: 5.88s\tremaining: 4.73s\n",
      "554:\tlearn: 164902.0680354\ttotal: 5.89s\tremaining: 4.72s\n",
      "555:\tlearn: 164860.8183977\ttotal: 5.9s\tremaining: 4.71s\n",
      "556:\tlearn: 164791.2396599\ttotal: 5.91s\tremaining: 4.7s\n",
      "557:\tlearn: 164746.9321761\ttotal: 5.92s\tremaining: 4.69s\n",
      "558:\tlearn: 164672.9239440\ttotal: 5.93s\tremaining: 4.68s\n",
      "559:\tlearn: 164551.5816734\ttotal: 5.94s\tremaining: 4.67s\n",
      "560:\tlearn: 164485.8298039\ttotal: 5.96s\tremaining: 4.66s\n",
      "561:\tlearn: 164423.8199577\ttotal: 5.97s\tremaining: 4.65s\n",
      "562:\tlearn: 164298.7818315\ttotal: 5.98s\tremaining: 4.64s\n",
      "563:\tlearn: 164250.0627952\ttotal: 5.99s\tremaining: 4.63s\n",
      "564:\tlearn: 164180.9948490\ttotal: 6s\tremaining: 4.62s\n",
      "565:\tlearn: 164141.5303994\ttotal: 6.01s\tremaining: 4.61s\n",
      "566:\tlearn: 164065.1468109\ttotal: 6.03s\tremaining: 4.6s\n",
      "567:\tlearn: 163988.9157657\ttotal: 6.04s\tremaining: 4.59s\n",
      "568:\tlearn: 163897.5666378\ttotal: 6.05s\tremaining: 4.58s\n",
      "569:\tlearn: 163815.1360564\ttotal: 6.06s\tremaining: 4.57s\n",
      "570:\tlearn: 163744.2624775\ttotal: 6.08s\tremaining: 4.57s\n",
      "571:\tlearn: 163652.1108405\ttotal: 6.09s\tremaining: 4.55s\n",
      "572:\tlearn: 163605.2985802\ttotal: 6.1s\tremaining: 4.54s\n",
      "573:\tlearn: 163574.2664097\ttotal: 6.11s\tremaining: 4.53s\n",
      "574:\tlearn: 163553.6695864\ttotal: 6.12s\tremaining: 4.53s\n",
      "575:\tlearn: 163499.7754415\ttotal: 6.14s\tremaining: 4.52s\n",
      "576:\tlearn: 163471.0208234\ttotal: 6.15s\tremaining: 4.51s\n",
      "577:\tlearn: 163419.8378831\ttotal: 6.16s\tremaining: 4.5s\n",
      "578:\tlearn: 163372.8728215\ttotal: 6.17s\tremaining: 4.49s\n",
      "579:\tlearn: 163316.0060096\ttotal: 6.18s\tremaining: 4.48s\n",
      "580:\tlearn: 163260.3611293\ttotal: 6.2s\tremaining: 4.47s\n",
      "581:\tlearn: 163229.7993674\ttotal: 6.21s\tremaining: 4.46s\n",
      "582:\tlearn: 163172.3789399\ttotal: 6.22s\tremaining: 4.45s\n",
      "583:\tlearn: 163128.5393751\ttotal: 6.23s\tremaining: 4.44s\n",
      "584:\tlearn: 163023.9063709\ttotal: 6.24s\tremaining: 4.43s\n",
      "585:\tlearn: 162934.2569854\ttotal: 6.25s\tremaining: 4.42s\n",
      "586:\tlearn: 162813.6963185\ttotal: 6.26s\tremaining: 4.41s\n",
      "587:\tlearn: 162733.8339698\ttotal: 6.28s\tremaining: 4.4s\n",
      "588:\tlearn: 162644.1426263\ttotal: 6.29s\tremaining: 4.38s\n",
      "589:\tlearn: 162582.6871862\ttotal: 6.3s\tremaining: 4.38s\n",
      "590:\tlearn: 162516.4666310\ttotal: 6.31s\tremaining: 4.37s\n",
      "591:\tlearn: 162477.3982650\ttotal: 6.32s\tremaining: 4.36s\n",
      "592:\tlearn: 162430.9471683\ttotal: 6.33s\tremaining: 4.35s\n",
      "593:\tlearn: 162353.3348891\ttotal: 6.34s\tremaining: 4.34s\n",
      "594:\tlearn: 162287.5438519\ttotal: 6.36s\tremaining: 4.33s\n",
      "595:\tlearn: 162247.1796582\ttotal: 6.37s\tremaining: 4.32s\n",
      "596:\tlearn: 162193.4908260\ttotal: 6.38s\tremaining: 4.3s\n",
      "597:\tlearn: 162156.5301395\ttotal: 6.39s\tremaining: 4.29s\n",
      "598:\tlearn: 162095.4127789\ttotal: 6.4s\tremaining: 4.28s\n",
      "599:\tlearn: 162034.8938328\ttotal: 6.41s\tremaining: 4.27s\n",
      "600:\tlearn: 161989.0600187\ttotal: 6.42s\tremaining: 4.26s\n",
      "601:\tlearn: 161948.8375151\ttotal: 6.43s\tremaining: 4.25s\n",
      "602:\tlearn: 161903.7281161\ttotal: 6.43s\tremaining: 4.24s\n",
      "603:\tlearn: 161863.4837834\ttotal: 6.44s\tremaining: 4.22s\n",
      "604:\tlearn: 161837.7031964\ttotal: 6.45s\tremaining: 4.21s\n",
      "605:\tlearn: 161784.5618823\ttotal: 6.46s\tremaining: 4.2s\n",
      "606:\tlearn: 161719.7695210\ttotal: 6.47s\tremaining: 4.19s\n",
      "607:\tlearn: 161646.1218415\ttotal: 6.48s\tremaining: 4.18s\n",
      "608:\tlearn: 161591.5014065\ttotal: 6.5s\tremaining: 4.17s\n",
      "609:\tlearn: 161531.8175080\ttotal: 6.51s\tremaining: 4.16s\n",
      "610:\tlearn: 161491.6148826\ttotal: 6.52s\tremaining: 4.15s\n",
      "611:\tlearn: 161425.3710379\ttotal: 6.53s\tremaining: 4.14s\n",
      "612:\tlearn: 161398.0268993\ttotal: 6.54s\tremaining: 4.13s\n",
      "613:\tlearn: 161324.9558747\ttotal: 6.55s\tremaining: 4.12s\n",
      "614:\tlearn: 161267.3266393\ttotal: 6.57s\tremaining: 4.11s\n",
      "615:\tlearn: 161211.8252152\ttotal: 6.58s\tremaining: 4.1s\n",
      "616:\tlearn: 161142.3040657\ttotal: 6.59s\tremaining: 4.09s\n",
      "617:\tlearn: 161116.4706888\ttotal: 6.6s\tremaining: 4.08s\n",
      "618:\tlearn: 161076.0897804\ttotal: 6.61s\tremaining: 4.07s\n",
      "619:\tlearn: 161041.6842370\ttotal: 6.62s\tremaining: 4.06s\n",
      "620:\tlearn: 160994.6985388\ttotal: 6.63s\tremaining: 4.05s\n",
      "621:\tlearn: 160944.7832725\ttotal: 6.64s\tremaining: 4.04s\n",
      "622:\tlearn: 160900.3398714\ttotal: 6.66s\tremaining: 4.03s\n",
      "623:\tlearn: 160840.8778073\ttotal: 6.67s\tremaining: 4.02s\n",
      "624:\tlearn: 160796.4702747\ttotal: 6.68s\tremaining: 4.01s\n",
      "625:\tlearn: 160769.6417485\ttotal: 6.69s\tremaining: 4s\n",
      "626:\tlearn: 160723.2043248\ttotal: 6.7s\tremaining: 3.98s\n"
     ]
    },
    {
     "name": "stdout",
     "output_type": "stream",
     "text": [
      "627:\tlearn: 160685.6449518\ttotal: 6.71s\tremaining: 3.98s\n",
      "628:\tlearn: 160544.8526403\ttotal: 6.73s\tremaining: 3.97s\n",
      "629:\tlearn: 160511.3402693\ttotal: 6.74s\tremaining: 3.96s\n",
      "630:\tlearn: 160464.2243494\ttotal: 6.75s\tremaining: 3.95s\n",
      "631:\tlearn: 160415.4975427\ttotal: 6.76s\tremaining: 3.94s\n",
      "632:\tlearn: 160376.9912596\ttotal: 6.77s\tremaining: 3.93s\n",
      "633:\tlearn: 160343.6240429\ttotal: 6.78s\tremaining: 3.92s\n",
      "634:\tlearn: 160321.1943602\ttotal: 6.79s\tremaining: 3.9s\n",
      "635:\tlearn: 160286.8229340\ttotal: 6.8s\tremaining: 3.89s\n",
      "636:\tlearn: 160223.3910565\ttotal: 6.81s\tremaining: 3.88s\n",
      "637:\tlearn: 160162.5343842\ttotal: 6.82s\tremaining: 3.87s\n",
      "638:\tlearn: 160135.1609672\ttotal: 6.83s\tremaining: 3.86s\n",
      "639:\tlearn: 160070.5457357\ttotal: 6.84s\tremaining: 3.85s\n",
      "640:\tlearn: 160033.5978846\ttotal: 6.85s\tremaining: 3.83s\n",
      "641:\tlearn: 160003.3595660\ttotal: 6.86s\tremaining: 3.82s\n",
      "642:\tlearn: 159947.2759693\ttotal: 6.86s\tremaining: 3.81s\n",
      "643:\tlearn: 159916.7930256\ttotal: 6.87s\tremaining: 3.8s\n",
      "644:\tlearn: 159870.0700631\ttotal: 6.88s\tremaining: 3.79s\n",
      "645:\tlearn: 159821.0527783\ttotal: 6.89s\tremaining: 3.78s\n",
      "646:\tlearn: 159761.9327287\ttotal: 6.9s\tremaining: 3.77s\n",
      "647:\tlearn: 159659.7372912\ttotal: 6.93s\tremaining: 3.76s\n",
      "648:\tlearn: 159628.0852515\ttotal: 6.95s\tremaining: 3.76s\n",
      "649:\tlearn: 159565.0572219\ttotal: 6.96s\tremaining: 3.75s\n",
      "650:\tlearn: 159532.5456270\ttotal: 6.97s\tremaining: 3.74s\n",
      "651:\tlearn: 159468.5916865\ttotal: 6.98s\tremaining: 3.72s\n",
      "652:\tlearn: 159406.3506523\ttotal: 6.99s\tremaining: 3.71s\n",
      "653:\tlearn: 159383.6544968\ttotal: 6.99s\tremaining: 3.7s\n",
      "654:\tlearn: 159352.9015978\ttotal: 7s\tremaining: 3.69s\n",
      "655:\tlearn: 159313.0502118\ttotal: 7.01s\tremaining: 3.68s\n",
      "656:\tlearn: 159278.3355975\ttotal: 7.02s\tremaining: 3.67s\n",
      "657:\tlearn: 159224.1889761\ttotal: 7.03s\tremaining: 3.65s\n",
      "658:\tlearn: 159174.8456673\ttotal: 7.04s\tremaining: 3.64s\n",
      "659:\tlearn: 159128.2009302\ttotal: 7.05s\tremaining: 3.63s\n",
      "660:\tlearn: 159034.2955127\ttotal: 7.06s\tremaining: 3.62s\n",
      "661:\tlearn: 158990.4266695\ttotal: 7.07s\tremaining: 3.61s\n",
      "662:\tlearn: 158960.4124633\ttotal: 7.08s\tremaining: 3.6s\n",
      "663:\tlearn: 158936.2203198\ttotal: 7.09s\tremaining: 3.59s\n",
      "664:\tlearn: 158919.4164431\ttotal: 7.1s\tremaining: 3.58s\n",
      "665:\tlearn: 158880.4020744\ttotal: 7.11s\tremaining: 3.57s\n",
      "666:\tlearn: 158749.5907382\ttotal: 7.12s\tremaining: 3.56s\n",
      "667:\tlearn: 158715.9439065\ttotal: 7.13s\tremaining: 3.54s\n",
      "668:\tlearn: 158640.6600402\ttotal: 7.14s\tremaining: 3.53s\n",
      "669:\tlearn: 158530.2760837\ttotal: 7.15s\tremaining: 3.52s\n",
      "670:\tlearn: 158438.6272591\ttotal: 7.16s\tremaining: 3.51s\n",
      "671:\tlearn: 158383.7777505\ttotal: 7.17s\tremaining: 3.5s\n",
      "672:\tlearn: 158276.1667541\ttotal: 7.18s\tremaining: 3.49s\n",
      "673:\tlearn: 158243.0666491\ttotal: 7.19s\tremaining: 3.48s\n",
      "674:\tlearn: 158209.6292662\ttotal: 7.2s\tremaining: 3.47s\n",
      "675:\tlearn: 158190.5931596\ttotal: 7.21s\tremaining: 3.46s\n",
      "676:\tlearn: 158097.6529713\ttotal: 7.22s\tremaining: 3.45s\n",
      "677:\tlearn: 158036.5321886\ttotal: 7.23s\tremaining: 3.43s\n",
      "678:\tlearn: 157984.7068529\ttotal: 7.24s\tremaining: 3.42s\n",
      "679:\tlearn: 157908.5795675\ttotal: 7.25s\tremaining: 3.41s\n",
      "680:\tlearn: 157885.5847501\ttotal: 7.26s\tremaining: 3.4s\n",
      "681:\tlearn: 157851.2310209\ttotal: 7.27s\tremaining: 3.39s\n",
      "682:\tlearn: 157769.8291954\ttotal: 7.28s\tremaining: 3.38s\n",
      "683:\tlearn: 157742.3985009\ttotal: 7.29s\tremaining: 3.37s\n",
      "684:\tlearn: 157717.4762881\ttotal: 7.29s\tremaining: 3.35s\n",
      "685:\tlearn: 157672.3263128\ttotal: 7.31s\tremaining: 3.34s\n",
      "686:\tlearn: 157630.9218699\ttotal: 7.32s\tremaining: 3.33s\n",
      "687:\tlearn: 157596.4519519\ttotal: 7.33s\tremaining: 3.32s\n",
      "688:\tlearn: 157529.7538723\ttotal: 7.34s\tremaining: 3.31s\n",
      "689:\tlearn: 157436.4400322\ttotal: 7.35s\tremaining: 3.3s\n",
      "690:\tlearn: 157402.3253885\ttotal: 7.36s\tremaining: 3.29s\n",
      "691:\tlearn: 157349.7329422\ttotal: 7.37s\tremaining: 3.28s\n",
      "692:\tlearn: 157316.4917319\ttotal: 7.38s\tremaining: 3.27s\n",
      "693:\tlearn: 157285.1256554\ttotal: 7.39s\tremaining: 3.26s\n",
      "694:\tlearn: 157263.8347573\ttotal: 7.4s\tremaining: 3.25s\n",
      "695:\tlearn: 157211.7571809\ttotal: 7.41s\tremaining: 3.23s\n",
      "696:\tlearn: 157161.6577167\ttotal: 7.42s\tremaining: 3.23s\n",
      "697:\tlearn: 157056.9244876\ttotal: 7.43s\tremaining: 3.21s\n",
      "698:\tlearn: 157009.0909625\ttotal: 7.44s\tremaining: 3.2s\n",
      "699:\tlearn: 156950.1262512\ttotal: 7.45s\tremaining: 3.19s\n",
      "700:\tlearn: 156917.4740748\ttotal: 7.46s\tremaining: 3.18s\n",
      "701:\tlearn: 156895.1527062\ttotal: 7.47s\tremaining: 3.17s\n",
      "702:\tlearn: 156870.5550539\ttotal: 7.48s\tremaining: 3.16s\n",
      "703:\tlearn: 156816.0427299\ttotal: 7.49s\tremaining: 3.15s\n",
      "704:\tlearn: 156799.4919842\ttotal: 7.5s\tremaining: 3.14s\n",
      "705:\tlearn: 156763.0780522\ttotal: 7.51s\tremaining: 3.13s\n",
      "706:\tlearn: 156720.4661873\ttotal: 7.51s\tremaining: 3.11s\n",
      "707:\tlearn: 156702.6870715\ttotal: 7.53s\tremaining: 3.1s\n",
      "708:\tlearn: 156652.0488857\ttotal: 7.54s\tremaining: 3.09s\n",
      "709:\tlearn: 156631.0874305\ttotal: 7.55s\tremaining: 3.08s\n",
      "710:\tlearn: 156605.2282458\ttotal: 7.56s\tremaining: 3.07s\n",
      "711:\tlearn: 156536.2257898\ttotal: 7.57s\tremaining: 3.06s\n",
      "712:\tlearn: 156472.2417877\ttotal: 7.58s\tremaining: 3.05s\n",
      "713:\tlearn: 156422.3116773\ttotal: 7.59s\tremaining: 3.04s\n",
      "714:\tlearn: 156406.2909258\ttotal: 7.6s\tremaining: 3.03s\n",
      "715:\tlearn: 156298.8333195\ttotal: 7.61s\tremaining: 3.02s\n",
      "716:\tlearn: 156272.6767322\ttotal: 7.62s\tremaining: 3.01s\n",
      "717:\tlearn: 156255.0837679\ttotal: 7.63s\tremaining: 3s\n",
      "718:\tlearn: 156229.3557591\ttotal: 7.64s\tremaining: 2.98s\n",
      "719:\tlearn: 156170.6136172\ttotal: 7.65s\tremaining: 2.97s\n",
      "720:\tlearn: 156115.6398219\ttotal: 7.66s\tremaining: 2.96s\n",
      "721:\tlearn: 156090.2847578\ttotal: 7.67s\tremaining: 2.95s\n",
      "722:\tlearn: 156012.8483859\ttotal: 7.67s\tremaining: 2.94s\n",
      "723:\tlearn: 155969.3870249\ttotal: 7.68s\tremaining: 2.93s\n",
      "724:\tlearn: 155923.6199232\ttotal: 7.69s\tremaining: 2.92s\n",
      "725:\tlearn: 155887.3507589\ttotal: 7.71s\tremaining: 2.91s\n",
      "726:\tlearn: 155834.5099771\ttotal: 7.71s\tremaining: 2.9s\n",
      "727:\tlearn: 155785.4105488\ttotal: 7.72s\tremaining: 2.88s\n",
      "728:\tlearn: 155752.5997185\ttotal: 7.73s\tremaining: 2.87s\n",
      "729:\tlearn: 155717.0480565\ttotal: 7.74s\tremaining: 2.86s\n",
      "730:\tlearn: 155637.9454784\ttotal: 7.75s\tremaining: 2.85s\n",
      "731:\tlearn: 155607.5707485\ttotal: 7.76s\tremaining: 2.84s\n",
      "732:\tlearn: 155589.3874672\ttotal: 7.77s\tremaining: 2.83s\n",
      "733:\tlearn: 155554.1481271\ttotal: 7.78s\tremaining: 2.82s\n",
      "734:\tlearn: 155531.2476382\ttotal: 7.79s\tremaining: 2.81s\n",
      "735:\tlearn: 155479.9149263\ttotal: 7.8s\tremaining: 2.8s\n",
      "736:\tlearn: 155436.7318378\ttotal: 7.81s\tremaining: 2.79s\n",
      "737:\tlearn: 155347.3203737\ttotal: 7.82s\tremaining: 2.78s\n",
      "738:\tlearn: 155309.1733876\ttotal: 7.83s\tremaining: 2.77s\n",
      "739:\tlearn: 155274.7978235\ttotal: 7.84s\tremaining: 2.75s\n",
      "740:\tlearn: 155236.6446573\ttotal: 7.85s\tremaining: 2.74s\n",
      "741:\tlearn: 155217.5616624\ttotal: 7.86s\tremaining: 2.73s\n",
      "742:\tlearn: 155162.3737434\ttotal: 7.88s\tremaining: 2.72s\n",
      "743:\tlearn: 155141.4123896\ttotal: 7.89s\tremaining: 2.71s\n",
      "744:\tlearn: 155120.7829312\ttotal: 7.91s\tremaining: 2.71s\n",
      "745:\tlearn: 155077.9410433\ttotal: 7.92s\tremaining: 2.7s\n",
      "746:\tlearn: 155040.7942064\ttotal: 7.94s\tremaining: 2.69s\n",
      "747:\tlearn: 155006.0574396\ttotal: 7.95s\tremaining: 2.68s\n",
      "748:\tlearn: 154959.3284889\ttotal: 7.96s\tremaining: 2.67s\n",
      "749:\tlearn: 154920.3054245\ttotal: 7.97s\tremaining: 2.66s\n",
      "750:\tlearn: 154878.7274611\ttotal: 7.99s\tremaining: 2.65s\n",
      "751:\tlearn: 154862.3335141\ttotal: 8s\tremaining: 2.64s\n",
      "752:\tlearn: 154819.9058970\ttotal: 8.01s\tremaining: 2.63s\n",
      "753:\tlearn: 154783.4346251\ttotal: 8.02s\tremaining: 2.62s\n",
      "754:\tlearn: 154754.3915189\ttotal: 8.03s\tremaining: 2.61s\n",
      "755:\tlearn: 154725.6755773\ttotal: 8.05s\tremaining: 2.6s\n",
      "756:\tlearn: 154686.1555606\ttotal: 8.06s\tremaining: 2.59s\n",
      "757:\tlearn: 154621.9493110\ttotal: 8.07s\tremaining: 2.58s\n",
      "758:\tlearn: 154588.6378690\ttotal: 8.08s\tremaining: 2.56s\n",
      "759:\tlearn: 154570.3518087\ttotal: 8.09s\tremaining: 2.55s\n",
      "760:\tlearn: 154538.9210490\ttotal: 8.1s\tremaining: 2.54s\n",
      "761:\tlearn: 154504.7220681\ttotal: 8.11s\tremaining: 2.53s\n",
      "762:\tlearn: 154490.0212269\ttotal: 8.12s\tremaining: 2.52s\n",
      "763:\tlearn: 154473.3317772\ttotal: 8.13s\tremaining: 2.51s\n",
      "764:\tlearn: 154401.9678783\ttotal: 8.14s\tremaining: 2.5s\n",
      "765:\tlearn: 154364.6226480\ttotal: 8.15s\tremaining: 2.49s\n",
      "766:\tlearn: 154324.0288761\ttotal: 8.16s\tremaining: 2.48s\n",
      "767:\tlearn: 154258.7505345\ttotal: 8.17s\tremaining: 2.47s\n",
      "768:\tlearn: 154234.1592800\ttotal: 8.18s\tremaining: 2.46s\n",
      "769:\tlearn: 154198.2942463\ttotal: 8.2s\tremaining: 2.45s\n",
      "770:\tlearn: 154164.0648599\ttotal: 8.21s\tremaining: 2.44s\n",
      "771:\tlearn: 154107.5050944\ttotal: 8.22s\tremaining: 2.43s\n",
      "772:\tlearn: 154057.0005854\ttotal: 8.23s\tremaining: 2.42s\n",
      "773:\tlearn: 154020.0064392\ttotal: 8.24s\tremaining: 2.41s\n",
      "774:\tlearn: 153985.8948000\ttotal: 8.26s\tremaining: 2.4s\n",
      "775:\tlearn: 153944.9465062\ttotal: 8.27s\tremaining: 2.39s\n",
      "776:\tlearn: 153914.3155540\ttotal: 8.28s\tremaining: 2.38s\n",
      "777:\tlearn: 153894.8052961\ttotal: 8.29s\tremaining: 2.36s\n",
      "778:\tlearn: 153865.1245904\ttotal: 8.3s\tremaining: 2.35s\n",
      "779:\tlearn: 153775.9936921\ttotal: 8.31s\tremaining: 2.34s\n",
      "780:\tlearn: 153743.5439649\ttotal: 8.32s\tremaining: 2.33s\n",
      "781:\tlearn: 153695.2344842\ttotal: 8.33s\tremaining: 2.32s\n"
     ]
    },
    {
     "name": "stdout",
     "output_type": "stream",
     "text": [
      "782:\tlearn: 153668.9726581\ttotal: 8.34s\tremaining: 2.31s\n",
      "783:\tlearn: 153584.1211531\ttotal: 8.36s\tremaining: 2.3s\n",
      "784:\tlearn: 153552.1641757\ttotal: 8.37s\tremaining: 2.29s\n",
      "785:\tlearn: 153526.1112006\ttotal: 8.38s\tremaining: 2.28s\n",
      "786:\tlearn: 153497.2467385\ttotal: 8.39s\tremaining: 2.27s\n",
      "787:\tlearn: 153469.1448688\ttotal: 8.4s\tremaining: 2.26s\n",
      "788:\tlearn: 153444.1531377\ttotal: 8.41s\tremaining: 2.25s\n",
      "789:\tlearn: 153410.8078398\ttotal: 8.42s\tremaining: 2.24s\n",
      "790:\tlearn: 153373.3089854\ttotal: 8.43s\tremaining: 2.23s\n",
      "791:\tlearn: 153278.3422919\ttotal: 8.44s\tremaining: 2.22s\n",
      "792:\tlearn: 153244.5746169\ttotal: 8.45s\tremaining: 2.21s\n",
      "793:\tlearn: 153214.2289739\ttotal: 8.46s\tremaining: 2.19s\n",
      "794:\tlearn: 153168.2592459\ttotal: 8.47s\tremaining: 2.18s\n",
      "795:\tlearn: 153140.2740031\ttotal: 8.48s\tremaining: 2.17s\n",
      "796:\tlearn: 153104.9482294\ttotal: 8.49s\tremaining: 2.16s\n",
      "797:\tlearn: 153069.7626989\ttotal: 8.51s\tremaining: 2.15s\n",
      "798:\tlearn: 153050.5916248\ttotal: 8.52s\tremaining: 2.14s\n",
      "799:\tlearn: 153020.7656030\ttotal: 8.53s\tremaining: 2.13s\n",
      "800:\tlearn: 152990.3362430\ttotal: 8.54s\tremaining: 2.12s\n",
      "801:\tlearn: 152933.9288671\ttotal: 8.55s\tremaining: 2.11s\n",
      "802:\tlearn: 152890.8729725\ttotal: 8.56s\tremaining: 2.1s\n",
      "803:\tlearn: 152876.5395227\ttotal: 8.58s\tremaining: 2.09s\n",
      "804:\tlearn: 152837.5448028\ttotal: 8.59s\tremaining: 2.08s\n",
      "805:\tlearn: 152820.8359786\ttotal: 8.6s\tremaining: 2.07s\n",
      "806:\tlearn: 152801.1738406\ttotal: 8.61s\tremaining: 2.06s\n",
      "807:\tlearn: 152779.9673992\ttotal: 8.62s\tremaining: 2.05s\n",
      "808:\tlearn: 152763.0538322\ttotal: 8.63s\tremaining: 2.04s\n",
      "809:\tlearn: 152735.0184072\ttotal: 8.64s\tremaining: 2.03s\n",
      "810:\tlearn: 152649.9227150\ttotal: 8.65s\tremaining: 2.02s\n",
      "811:\tlearn: 152597.2922019\ttotal: 8.66s\tremaining: 2.01s\n",
      "812:\tlearn: 152567.7092742\ttotal: 8.68s\tremaining: 2s\n",
      "813:\tlearn: 152553.6754282\ttotal: 8.69s\tremaining: 1.99s\n",
      "814:\tlearn: 152534.4583366\ttotal: 8.7s\tremaining: 1.98s\n",
      "815:\tlearn: 152488.0281803\ttotal: 8.71s\tremaining: 1.96s\n",
      "816:\tlearn: 152465.5836204\ttotal: 8.72s\tremaining: 1.95s\n",
      "817:\tlearn: 152436.4561394\ttotal: 8.73s\tremaining: 1.94s\n",
      "818:\tlearn: 152410.1969475\ttotal: 8.74s\tremaining: 1.93s\n",
      "819:\tlearn: 152384.7156306\ttotal: 8.75s\tremaining: 1.92s\n",
      "820:\tlearn: 152298.8294824\ttotal: 8.76s\tremaining: 1.91s\n",
      "821:\tlearn: 152274.1954799\ttotal: 8.78s\tremaining: 1.9s\n",
      "822:\tlearn: 152242.5766597\ttotal: 8.79s\tremaining: 1.89s\n",
      "823:\tlearn: 152161.0506923\ttotal: 8.8s\tremaining: 1.88s\n",
      "824:\tlearn: 152110.6708236\ttotal: 8.82s\tremaining: 1.87s\n",
      "825:\tlearn: 152014.8498108\ttotal: 8.83s\tremaining: 1.86s\n",
      "826:\tlearn: 151989.7701960\ttotal: 8.84s\tremaining: 1.85s\n",
      "827:\tlearn: 151955.7894528\ttotal: 8.85s\tremaining: 1.84s\n",
      "828:\tlearn: 151934.3912392\ttotal: 8.86s\tremaining: 1.83s\n",
      "829:\tlearn: 151913.7673953\ttotal: 8.87s\tremaining: 1.82s\n",
      "830:\tlearn: 151874.1426144\ttotal: 8.88s\tremaining: 1.8s\n",
      "831:\tlearn: 151837.7423466\ttotal: 8.89s\tremaining: 1.79s\n",
      "832:\tlearn: 151822.4392263\ttotal: 8.92s\tremaining: 1.79s\n",
      "833:\tlearn: 151788.1925587\ttotal: 8.94s\tremaining: 1.78s\n",
      "834:\tlearn: 151767.2624290\ttotal: 8.95s\tremaining: 1.77s\n",
      "835:\tlearn: 151749.3261822\ttotal: 8.96s\tremaining: 1.76s\n",
      "836:\tlearn: 151675.3586969\ttotal: 8.98s\tremaining: 1.75s\n",
      "837:\tlearn: 151649.2236166\ttotal: 8.99s\tremaining: 1.74s\n",
      "838:\tlearn: 151616.1954947\ttotal: 9s\tremaining: 1.73s\n",
      "839:\tlearn: 151588.0641176\ttotal: 9.01s\tremaining: 1.72s\n",
      "840:\tlearn: 151551.1168804\ttotal: 9.02s\tremaining: 1.71s\n",
      "841:\tlearn: 151526.5568891\ttotal: 9.03s\tremaining: 1.69s\n",
      "842:\tlearn: 151509.9706880\ttotal: 9.04s\tremaining: 1.68s\n",
      "843:\tlearn: 151437.9991550\ttotal: 9.05s\tremaining: 1.67s\n",
      "844:\tlearn: 151339.9888623\ttotal: 9.06s\tremaining: 1.66s\n",
      "845:\tlearn: 151301.1042651\ttotal: 9.07s\tremaining: 1.65s\n",
      "846:\tlearn: 151279.8814799\ttotal: 9.08s\tremaining: 1.64s\n",
      "847:\tlearn: 151261.5880092\ttotal: 9.09s\tremaining: 1.63s\n",
      "848:\tlearn: 151236.8324481\ttotal: 9.1s\tremaining: 1.62s\n",
      "849:\tlearn: 151179.7371071\ttotal: 9.11s\tremaining: 1.61s\n",
      "850:\tlearn: 151122.7051974\ttotal: 9.12s\tremaining: 1.6s\n",
      "851:\tlearn: 151105.6164849\ttotal: 9.13s\tremaining: 1.58s\n",
      "852:\tlearn: 151076.2454827\ttotal: 9.14s\tremaining: 1.57s\n",
      "853:\tlearn: 151060.0032357\ttotal: 9.15s\tremaining: 1.56s\n",
      "854:\tlearn: 151044.3699078\ttotal: 9.16s\tremaining: 1.55s\n",
      "855:\tlearn: 151031.0670991\ttotal: 9.17s\tremaining: 1.54s\n",
      "856:\tlearn: 150996.1771570\ttotal: 9.18s\tremaining: 1.53s\n",
      "857:\tlearn: 150951.7750961\ttotal: 9.19s\tremaining: 1.52s\n",
      "858:\tlearn: 150912.3166125\ttotal: 9.2s\tremaining: 1.51s\n",
      "859:\tlearn: 150842.7436193\ttotal: 9.21s\tremaining: 1.5s\n",
      "860:\tlearn: 150775.7991299\ttotal: 9.22s\tremaining: 1.49s\n",
      "861:\tlearn: 150744.9629591\ttotal: 9.23s\tremaining: 1.48s\n",
      "862:\tlearn: 150732.6023769\ttotal: 9.24s\tremaining: 1.47s\n",
      "863:\tlearn: 150703.3248682\ttotal: 9.26s\tremaining: 1.46s\n",
      "864:\tlearn: 150676.2868722\ttotal: 9.26s\tremaining: 1.45s\n",
      "865:\tlearn: 150663.4048954\ttotal: 9.27s\tremaining: 1.43s\n",
      "866:\tlearn: 150639.0359760\ttotal: 9.28s\tremaining: 1.42s\n",
      "867:\tlearn: 150610.9627543\ttotal: 9.29s\tremaining: 1.41s\n",
      "868:\tlearn: 150577.8568743\ttotal: 9.3s\tremaining: 1.4s\n",
      "869:\tlearn: 150555.2599097\ttotal: 9.31s\tremaining: 1.39s\n",
      "870:\tlearn: 150479.3729607\ttotal: 9.32s\tremaining: 1.38s\n",
      "871:\tlearn: 150446.6285050\ttotal: 9.33s\tremaining: 1.37s\n",
      "872:\tlearn: 150440.1509816\ttotal: 9.34s\tremaining: 1.36s\n",
      "873:\tlearn: 150417.3595632\ttotal: 9.35s\tremaining: 1.35s\n",
      "874:\tlearn: 150404.8026598\ttotal: 9.35s\tremaining: 1.34s\n",
      "875:\tlearn: 150356.5953443\ttotal: 9.37s\tremaining: 1.32s\n",
      "876:\tlearn: 150321.7739560\ttotal: 9.38s\tremaining: 1.31s\n",
      "877:\tlearn: 150304.7061668\ttotal: 9.39s\tremaining: 1.3s\n",
      "878:\tlearn: 150276.0908282\ttotal: 9.4s\tremaining: 1.29s\n",
      "879:\tlearn: 150235.1268449\ttotal: 9.41s\tremaining: 1.28s\n",
      "880:\tlearn: 150213.0730862\ttotal: 9.42s\tremaining: 1.27s\n",
      "881:\tlearn: 150200.2455467\ttotal: 9.43s\tremaining: 1.26s\n",
      "882:\tlearn: 150178.3076502\ttotal: 9.44s\tremaining: 1.25s\n",
      "883:\tlearn: 150159.4660570\ttotal: 9.45s\tremaining: 1.24s\n",
      "884:\tlearn: 150119.9959595\ttotal: 9.46s\tremaining: 1.23s\n",
      "885:\tlearn: 150071.5348384\ttotal: 9.47s\tremaining: 1.22s\n",
      "886:\tlearn: 150060.3210214\ttotal: 9.48s\tremaining: 1.21s\n",
      "887:\tlearn: 149968.7469785\ttotal: 9.49s\tremaining: 1.2s\n",
      "888:\tlearn: 149940.8512168\ttotal: 9.49s\tremaining: 1.19s\n",
      "889:\tlearn: 149925.4314287\ttotal: 9.51s\tremaining: 1.17s\n",
      "890:\tlearn: 149844.9668239\ttotal: 9.52s\tremaining: 1.16s\n",
      "891:\tlearn: 149826.6193668\ttotal: 9.53s\tremaining: 1.15s\n",
      "892:\tlearn: 149803.3082696\ttotal: 9.53s\tremaining: 1.14s\n",
      "893:\tlearn: 149777.9762736\ttotal: 9.54s\tremaining: 1.13s\n",
      "894:\tlearn: 149765.0574365\ttotal: 9.55s\tremaining: 1.12s\n",
      "895:\tlearn: 149751.7224212\ttotal: 9.56s\tremaining: 1.11s\n",
      "896:\tlearn: 149726.0481036\ttotal: 9.58s\tremaining: 1.1s\n",
      "897:\tlearn: 149706.4401332\ttotal: 9.59s\tremaining: 1.09s\n",
      "898:\tlearn: 149673.8431443\ttotal: 9.6s\tremaining: 1.08s\n",
      "899:\tlearn: 149662.0746468\ttotal: 9.61s\tremaining: 1.07s\n",
      "900:\tlearn: 149626.3582635\ttotal: 9.62s\tremaining: 1.06s\n",
      "901:\tlearn: 149611.9462718\ttotal: 9.63s\tremaining: 1.05s\n",
      "902:\tlearn: 149588.8442613\ttotal: 9.64s\tremaining: 1.03s\n",
      "903:\tlearn: 149561.1766880\ttotal: 9.65s\tremaining: 1.02s\n",
      "904:\tlearn: 149546.7027712\ttotal: 9.66s\tremaining: 1.01s\n",
      "905:\tlearn: 149513.1026533\ttotal: 9.66s\tremaining: 1s\n",
      "906:\tlearn: 149490.8901721\ttotal: 9.67s\tremaining: 992ms\n",
      "907:\tlearn: 149400.6949319\ttotal: 9.69s\tremaining: 981ms\n",
      "908:\tlearn: 149383.3208443\ttotal: 9.69s\tremaining: 970ms\n",
      "909:\tlearn: 149336.6447535\ttotal: 9.7s\tremaining: 960ms\n",
      "910:\tlearn: 149304.2034644\ttotal: 9.71s\tremaining: 949ms\n",
      "911:\tlearn: 149279.1574097\ttotal: 9.72s\tremaining: 938ms\n",
      "912:\tlearn: 149242.0784446\ttotal: 9.73s\tremaining: 927ms\n",
      "913:\tlearn: 149227.9658919\ttotal: 9.74s\tremaining: 917ms\n",
      "914:\tlearn: 149192.4166422\ttotal: 9.75s\tremaining: 906ms\n",
      "915:\tlearn: 149174.2783152\ttotal: 9.76s\tremaining: 895ms\n",
      "916:\tlearn: 149153.5236531\ttotal: 9.77s\tremaining: 884ms\n",
      "917:\tlearn: 149134.8900495\ttotal: 9.78s\tremaining: 873ms\n",
      "918:\tlearn: 149101.3506870\ttotal: 9.79s\tremaining: 863ms\n",
      "919:\tlearn: 149075.8868205\ttotal: 9.8s\tremaining: 852ms\n",
      "920:\tlearn: 149037.3891756\ttotal: 9.81s\tremaining: 841ms\n",
      "921:\tlearn: 149026.7505609\ttotal: 9.82s\tremaining: 831ms\n",
      "922:\tlearn: 148968.9799891\ttotal: 9.83s\tremaining: 820ms\n",
      "923:\tlearn: 148936.4765852\ttotal: 9.84s\tremaining: 809ms\n",
      "924:\tlearn: 148910.2596427\ttotal: 9.85s\tremaining: 798ms\n",
      "925:\tlearn: 148870.5575532\ttotal: 9.86s\tremaining: 788ms\n",
      "926:\tlearn: 148827.2755579\ttotal: 9.87s\tremaining: 777ms\n",
      "927:\tlearn: 148754.8254522\ttotal: 9.88s\tremaining: 766ms\n",
      "928:\tlearn: 148736.7168805\ttotal: 9.89s\tremaining: 756ms\n",
      "929:\tlearn: 148724.6443920\ttotal: 9.91s\tremaining: 746ms\n",
      "930:\tlearn: 148689.9358081\ttotal: 9.93s\tremaining: 736ms\n",
      "931:\tlearn: 148676.9248032\ttotal: 9.94s\tremaining: 725ms\n",
      "932:\tlearn: 148607.4997598\ttotal: 9.95s\tremaining: 715ms\n",
      "933:\tlearn: 148567.4607423\ttotal: 9.96s\tremaining: 704ms\n",
      "934:\tlearn: 148547.4777892\ttotal: 9.97s\tremaining: 693ms\n"
     ]
    },
    {
     "name": "stdout",
     "output_type": "stream",
     "text": [
      "935:\tlearn: 148472.8380948\ttotal: 9.99s\tremaining: 683ms\n",
      "936:\tlearn: 148456.9814909\ttotal: 10s\tremaining: 672ms\n",
      "937:\tlearn: 148446.2336395\ttotal: 10s\tremaining: 662ms\n",
      "938:\tlearn: 148416.0295913\ttotal: 10s\tremaining: 651ms\n",
      "939:\tlearn: 148396.3361522\ttotal: 10s\tremaining: 640ms\n",
      "940:\tlearn: 148338.4137183\ttotal: 10s\tremaining: 629ms\n",
      "941:\tlearn: 148318.3362014\ttotal: 10s\tremaining: 619ms\n",
      "942:\tlearn: 148302.8196824\ttotal: 10.1s\tremaining: 608ms\n",
      "943:\tlearn: 148277.3729625\ttotal: 10.1s\tremaining: 597ms\n",
      "944:\tlearn: 148261.9444644\ttotal: 10.1s\tremaining: 586ms\n",
      "945:\tlearn: 148240.4863726\ttotal: 10.1s\tremaining: 576ms\n",
      "946:\tlearn: 148205.6170890\ttotal: 10.1s\tremaining: 565ms\n",
      "947:\tlearn: 148173.6939042\ttotal: 10.1s\tremaining: 554ms\n",
      "948:\tlearn: 148130.0486848\ttotal: 10.1s\tremaining: 543ms\n",
      "949:\tlearn: 148110.5941518\ttotal: 10.1s\tremaining: 533ms\n",
      "950:\tlearn: 148093.9196315\ttotal: 10.1s\tremaining: 522ms\n",
      "951:\tlearn: 148061.3264962\ttotal: 10.1s\tremaining: 511ms\n",
      "952:\tlearn: 148041.9605416\ttotal: 10.1s\tremaining: 500ms\n",
      "953:\tlearn: 148023.2940705\ttotal: 10.2s\tremaining: 490ms\n",
      "954:\tlearn: 147982.5460616\ttotal: 10.2s\tremaining: 479ms\n",
      "955:\tlearn: 147948.3894521\ttotal: 10.2s\tremaining: 468ms\n",
      "956:\tlearn: 147936.8213540\ttotal: 10.2s\tremaining: 458ms\n",
      "957:\tlearn: 147926.5815995\ttotal: 10.2s\tremaining: 447ms\n",
      "958:\tlearn: 147878.9736077\ttotal: 10.2s\tremaining: 436ms\n",
      "959:\tlearn: 147817.9098033\ttotal: 10.2s\tremaining: 426ms\n",
      "960:\tlearn: 147797.5946059\ttotal: 10.2s\tremaining: 415ms\n",
      "961:\tlearn: 147768.1667888\ttotal: 10.2s\tremaining: 404ms\n",
      "962:\tlearn: 147758.0359067\ttotal: 10.2s\tremaining: 394ms\n",
      "963:\tlearn: 147723.6726330\ttotal: 10.3s\tremaining: 383ms\n",
      "964:\tlearn: 147710.1920092\ttotal: 10.3s\tremaining: 372ms\n",
      "965:\tlearn: 147687.7368998\ttotal: 10.3s\tremaining: 362ms\n",
      "966:\tlearn: 147668.7460691\ttotal: 10.3s\tremaining: 351ms\n",
      "967:\tlearn: 147610.2463691\ttotal: 10.3s\tremaining: 340ms\n",
      "968:\tlearn: 147598.9579436\ttotal: 10.3s\tremaining: 330ms\n",
      "969:\tlearn: 147573.7737847\ttotal: 10.3s\tremaining: 319ms\n",
      "970:\tlearn: 147555.8681780\ttotal: 10.3s\tremaining: 308ms\n",
      "971:\tlearn: 147539.7710287\ttotal: 10.3s\tremaining: 298ms\n",
      "972:\tlearn: 147490.8907418\ttotal: 10.3s\tremaining: 287ms\n",
      "973:\tlearn: 147461.8131657\ttotal: 10.3s\tremaining: 276ms\n",
      "974:\tlearn: 147454.5090320\ttotal: 10.4s\tremaining: 266ms\n",
      "975:\tlearn: 147423.8366971\ttotal: 10.4s\tremaining: 255ms\n",
      "976:\tlearn: 147398.3754864\ttotal: 10.4s\tremaining: 244ms\n",
      "977:\tlearn: 147370.5338967\ttotal: 10.4s\tremaining: 234ms\n",
      "978:\tlearn: 147343.9823474\ttotal: 10.4s\tremaining: 223ms\n",
      "979:\tlearn: 147331.6068223\ttotal: 10.4s\tremaining: 213ms\n",
      "980:\tlearn: 147275.2842878\ttotal: 10.4s\tremaining: 202ms\n",
      "981:\tlearn: 147249.4851193\ttotal: 10.4s\tremaining: 191ms\n",
      "982:\tlearn: 147230.9691234\ttotal: 10.4s\tremaining: 181ms\n",
      "983:\tlearn: 147213.3268358\ttotal: 10.4s\tremaining: 170ms\n",
      "984:\tlearn: 147164.3573839\ttotal: 10.5s\tremaining: 159ms\n",
      "985:\tlearn: 147133.5628458\ttotal: 10.5s\tremaining: 149ms\n",
      "986:\tlearn: 147118.8895207\ttotal: 10.5s\tremaining: 138ms\n",
      "987:\tlearn: 147096.7352031\ttotal: 10.5s\tremaining: 127ms\n",
      "988:\tlearn: 147084.2900223\ttotal: 10.5s\tremaining: 117ms\n",
      "989:\tlearn: 147068.7727376\ttotal: 10.5s\tremaining: 106ms\n",
      "990:\tlearn: 147038.7951256\ttotal: 10.5s\tremaining: 95.6ms\n",
      "991:\tlearn: 147025.3688401\ttotal: 10.5s\tremaining: 85ms\n",
      "992:\tlearn: 146996.3977989\ttotal: 10.5s\tremaining: 74.3ms\n",
      "993:\tlearn: 146984.6653176\ttotal: 10.6s\tremaining: 63.7ms\n",
      "994:\tlearn: 146960.8946504\ttotal: 10.6s\tremaining: 53.1ms\n",
      "995:\tlearn: 146935.1803164\ttotal: 10.6s\tremaining: 42.5ms\n",
      "996:\tlearn: 146924.3122022\ttotal: 10.6s\tremaining: 31.8ms\n",
      "997:\tlearn: 146908.9412562\ttotal: 10.6s\tremaining: 21.2ms\n",
      "998:\tlearn: 146853.4002807\ttotal: 10.6s\tremaining: 10.6ms\n",
      "999:\tlearn: 146846.2379544\ttotal: 10.6s\tremaining: 0us\n",
      "CPU times: user 1min 51s, sys: 3.6 s, total: 1min 54s\n",
      "Wall time: 12.4 s\n"
     ]
    }
   ],
   "source": [
    "%%time\n",
    "cat_boost = CatBoostRegressor(n_estimators=1000, learning_rate=0.01)\n",
    "cat_boost.fit(X_train.values, y_train)"
   ]
  },
  {
   "cell_type": "code",
   "execution_count": 50,
   "metadata": {},
   "outputs": [
    {
     "name": "stdout",
     "output_type": "stream",
     "text": [
      "Mean Absolute Error : 84290.00\n"
     ]
    }
   ],
   "source": [
    "predictions = cat_boost.predict(X_test.values)\n",
    "print(\"Mean Absolute Error : {:.2f}\".format(mean_absolute_error(predictions, y_test)))"
   ]
  },
  {
   "cell_type": "code",
   "execution_count": 51,
   "metadata": {},
   "outputs": [
    {
     "data": {
      "image/png": "[encoded data removed]",
      "text/plain": [
       "<Figure size 864x576 with 1 Axes>"
      ]
     },
     "metadata": {
      "needs_background": "light"
     },
     "output_type": "display_data"
    }
   ],
   "source": [
    "plot_prediction(predictions, y_test)"
   ]
  },
  {
   "cell_type": "code",
   "execution_count": null,
   "metadata": {},
   "outputs": [],
   "source": []
  },
  {
   "cell_type": "markdown",
   "metadata": {},
   "source": [
    "## TODO:\n",
    "\n",
    "1. Generate new features\n",
    "2. Look at  observations where models error, find features that determine errors\n",
    "3. look at oabservations where all models error, find features that determine errors\n",
    "4. Model composition/stacking"
   ]
  },
  {
   "cell_type": "code",
   "execution_count": null,
   "metadata": {},
   "outputs": [],
   "source": []
  },
  {
   "cell_type": "code",
   "execution_count": null,
   "metadata": {},
   "outputs": [],
   "source": []
  },
  {
   "cell_type": "code",
   "execution_count": null,
   "metadata": {},
   "outputs": [],
   "source": []
  },
  {
   "cell_type": "code",
   "execution_count": null,
   "metadata": {},
   "outputs": [],
   "source": []
  }
 ],
 "metadata": {
  "kernelspec": {
   "display_name": "Python 3",
   "language": "python",
   "name": "python3"
  },
  "language_info": {
   "codemirror_mode": {
    "name": "ipython",
    "version": 3
   },
   "file_extension": ".py",
   "mimetype": "text/x-python",
   "name": "python",
   "nbconvert_exporter": "python",
   "pygments_lexer": "ipython3",
   "version": "3.6.6"
  }
 },
 "nbformat": 4,
 "nbformat_minor": 2
}
