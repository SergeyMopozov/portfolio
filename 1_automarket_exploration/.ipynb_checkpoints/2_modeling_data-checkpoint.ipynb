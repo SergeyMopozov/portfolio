{
 "cells": [
  {
   "cell_type": "markdown",
   "metadata": {},
   "source": [
    "## Building model for used cars price prediction\n",
    "### Action plan:\n",
    "1. Loas data \n",
    "2. Freature engineering - generate new features\n",
    "3. Featire transform\n",
    "4. Make pipline\n",
    "5. Fit and tuning models\n",
    "6. Interpret result"
   ]
  },
  {
   "cell_type": "code",
   "execution_count": 2,
   "metadata": {},
   "outputs": [],
   "source": [
    "import pandas as pd\n",
    "import numpy as np\n",
    "import matplotlib.pyplot as plt\n",
    "import seaborn as sns\n",
    "from glob import glob\n",
    "\n",
    "from sklearn.preprocessing import StandardScaler, Normalizer, MinMaxScaler\n",
    "from sklearn.preprocessing import OneHotEncoder, LabelEncoder\n",
    "\n",
    "from sklearn.model_selection import train_test_split\n",
    "\n",
    "from sklearn.linear_model import LinearRegression, LassoCV, RidgeCV\n",
    "from sklearn.metrics import mean_squared_error, mean_absolute_error\n",
    "\n",
    "from sklearn.ensemble import RandomForestRegressor\n",
    "from sklearn.model_selection import GridSearchCV\n",
    "\n",
    "import statsmodels.api as sm\n",
    "\n",
    "from catboost import CatBoostRegressor\n",
    "from xgboost import XGBRegressor\n",
    "from lightgbm import LGBMRegressor"
   ]
  },
  {
   "cell_type": "code",
   "execution_count": 3,
   "metadata": {},
   "outputs": [
    {
     "data": {
      "text/plain": [
       "['../../data/1/source_data/clean_data_offer_used 2020-10-19 19:12.csv',\n",
       " '../../data/1/source_data/clean_data_offer_used 2020-09-04 13:17.csv',\n",
       " '../../data/1/source_data/clean_data_offer_used 2020-03-02 20:04.csv',\n",
       " '../../data/1/source_data/clean_data_offer_used 2020-10-19 19:10.csv',\n",
       " '../../data/1/source_data/clean_data_offer_used 2020-03-03 17:14.csv']"
      ]
     },
     "execution_count": 3,
     "metadata": {},
     "output_type": "execute_result"
    }
   ],
   "source": [
    "glob('../../data/1/source_data/clean_data_offer_used*')"
   ]
  },
  {
   "cell_type": "markdown",
   "metadata": {},
   "source": [
    "### 1. Load data"
   ]
  },
  {
   "cell_type": "code",
   "execution_count": 4,
   "metadata": {},
   "outputs": [],
   "source": [
    "# load data clean_data_offer_used 2020-03-03 17:09.csv\n",
    "offer_data = pd.read_csv('../../data/1/source_data/clean_data_offer_used 2020-10-19 19:12.csv', index_col=0)"
   ]
  },
  {
   "cell_type": "code",
   "execution_count": 5,
   "metadata": {},
   "outputs": [
    {
     "name": "stdout",
     "output_type": "stream",
     "text": [
      "<class 'pandas.core.frame.DataFrame'>\n",
      "Int64Index: 244659 entries, 0 to 246323\n",
      "Data columns (total 20 columns):\n",
      "producer                 244659 non-null object\n",
      "model_name               244659 non-null object\n",
      "price                    244659 non-null int64\n",
      "age                      244659 non-null int64\n",
      "kmage                    244659 non-null int64\n",
      "region                   244659 non-null object\n",
      "engine_volume            244659 non-null float64\n",
      "engine_power             244659 non-null float64\n",
      "fuel                     244659 non-null object\n",
      "gear                     244659 non-null object\n",
      "case                     244659 non-null object\n",
      "drive_type               244659 non-null object\n",
      "color                    244659 non-null object\n",
      "offer_count_by_region    244659 non-null int64\n",
      "lat                      244659 non-null float64\n",
      "lng                      244659 non-null float64\n",
      "macro_name               244659 non-null object\n",
      "origin_of_producer       244659 non-null object\n",
      "platform                 244659 non-null object\n",
      "specific_power           244659 non-null float64\n",
      "dtypes: float64(5), int64(4), object(11)\n",
      "memory usage: 39.2+ MB\n"
     ]
    }
   ],
   "source": [
    "offer_data.info()"
   ]
  },
  {
   "cell_type": "markdown",
   "metadata": {},
   "source": [
    "### 2. Feature engineering\n",
    "У нас уже есть признак общего количество предложений авто в регионе, целесообразно добавить признак количества авто данной модели и количества авто данной модели в регионе, что бы модель могла учесть объем предложения и популярность модели (или доступность запасных частей и сервиса в регионе)\n",
    "\n",
    "Добавим год выпуска в качестве категориальной переменной и возраст в качестве численной"
   ]
  },
  {
   "cell_type": "code",
   "execution_count": 6,
   "metadata": {},
   "outputs": [],
   "source": [
    "# количество авто данной модели всего\n",
    "offer_count_model = offer_data['model_name'].value_counts().to_frame().reset_index()\n",
    "offer_count_model.columns = ['model_name', 'offer_count_by_model']"
   ]
  },
  {
   "cell_type": "code",
   "execution_count": 7,
   "metadata": {},
   "outputs": [],
   "source": [
    "# количество авто данной модели в регионе\n",
    "offer_count_model_macro_region = offer_data.groupby(['model_name', 'macro_name'], as_index=False)\\\n",
    "                                           .count()[['model_name', 'macro_name', 'producer']]\n",
    "offer_count_model_macro_region.columns = ['model_name', 'macro_name', 'offer_count_by_model_macro_region']"
   ]
  },
  {
   "cell_type": "code",
   "execution_count": 8,
   "metadata": {},
   "outputs": [],
   "source": [
    "# количество авто данной производителя в регионе\n",
    "offer_count_prod_macro_region = offer_data.groupby(['producer', 'macro_name'], as_index=False)\\\n",
    "                                           .count()[['producer', 'macro_name', 'model_name']]\n",
    "offer_count_prod_macro_region.columns = ['producer', 'macro_name', 'offer_count_by_prod_macro_region']"
   ]
  },
  {
   "cell_type": "code",
   "execution_count": 9,
   "metadata": {},
   "outputs": [
    {
     "data": {
      "text/plain": [
       "(244659, 20)"
      ]
     },
     "execution_count": 9,
     "metadata": {},
     "output_type": "execute_result"
    }
   ],
   "source": [
    "offer_data.shape"
   ]
  },
  {
   "cell_type": "code",
   "execution_count": 10,
   "metadata": {},
   "outputs": [],
   "source": [
    "offer_data = pd.merge(offer_data, offer_count_model, on='model_name')\n",
    "offer_data = pd.merge(offer_data, offer_count_model_macro_region, on=['model_name', 'macro_name'])\n",
    "offer_data = pd.merge(offer_data, offer_count_prod_macro_region, on=['producer', 'macro_name'])"
   ]
  },
  {
   "cell_type": "code",
   "execution_count": 11,
   "metadata": {},
   "outputs": [
    {
     "data": {
      "text/html": [
       "<div>\n",
       "<style scoped>\n",
       "    .dataframe tbody tr th:only-of-type {\n",
       "        vertical-align: middle;\n",
       "    }\n",
       "\n",
       "    .dataframe tbody tr th {\n",
       "        vertical-align: top;\n",
       "    }\n",
       "\n",
       "    .dataframe thead th {\n",
       "        text-align: right;\n",
       "    }\n",
       "</style>\n",
       "<table border=\"1\" class=\"dataframe\">\n",
       "  <thead>\n",
       "    <tr style=\"text-align: right;\">\n",
       "      <th></th>\n",
       "      <th>0</th>\n",
       "    </tr>\n",
       "  </thead>\n",
       "  <tbody>\n",
       "    <tr>\n",
       "      <th>producer</th>\n",
       "      <td>BMW</td>\n",
       "    </tr>\n",
       "    <tr>\n",
       "      <th>model_name</th>\n",
       "      <td>BMW 1 серия  II (F20/F21) 116i</td>\n",
       "    </tr>\n",
       "    <tr>\n",
       "      <th>price</th>\n",
       "      <td>850000</td>\n",
       "    </tr>\n",
       "    <tr>\n",
       "      <th>age</th>\n",
       "      <td>2012</td>\n",
       "    </tr>\n",
       "    <tr>\n",
       "      <th>kmage</th>\n",
       "      <td>81000</td>\n",
       "    </tr>\n",
       "    <tr>\n",
       "      <th>region</th>\n",
       "      <td>Одинцово</td>\n",
       "    </tr>\n",
       "    <tr>\n",
       "      <th>engine_volume</th>\n",
       "      <td>1.6</td>\n",
       "    </tr>\n",
       "    <tr>\n",
       "      <th>engine_power</th>\n",
       "      <td>136</td>\n",
       "    </tr>\n",
       "    <tr>\n",
       "      <th>fuel</th>\n",
       "      <td>Бензин</td>\n",
       "    </tr>\n",
       "    <tr>\n",
       "      <th>gear</th>\n",
       "      <td>автомат</td>\n",
       "    </tr>\n",
       "    <tr>\n",
       "      <th>case</th>\n",
       "      <td>хэтчбек 3 дв.</td>\n",
       "    </tr>\n",
       "    <tr>\n",
       "      <th>drive_type</th>\n",
       "      <td>задний</td>\n",
       "    </tr>\n",
       "    <tr>\n",
       "      <th>color</th>\n",
       "      <td>белый</td>\n",
       "    </tr>\n",
       "    <tr>\n",
       "      <th>offer_count_by_region</th>\n",
       "      <td>344</td>\n",
       "    </tr>\n",
       "    <tr>\n",
       "      <th>lat</th>\n",
       "      <td>55.6789</td>\n",
       "    </tr>\n",
       "    <tr>\n",
       "      <th>lng</th>\n",
       "      <td>37.264</td>\n",
       "    </tr>\n",
       "    <tr>\n",
       "      <th>macro_name</th>\n",
       "      <td>Московская область</td>\n",
       "    </tr>\n",
       "    <tr>\n",
       "      <th>origin_of_producer</th>\n",
       "      <td>Germany</td>\n",
       "    </tr>\n",
       "    <tr>\n",
       "      <th>platform</th>\n",
       "      <td>BMW 1</td>\n",
       "    </tr>\n",
       "    <tr>\n",
       "      <th>specific_power</th>\n",
       "      <td>85</td>\n",
       "    </tr>\n",
       "    <tr>\n",
       "      <th>offer_count_by_model</th>\n",
       "      <td>261</td>\n",
       "    </tr>\n",
       "    <tr>\n",
       "      <th>offer_count_by_model_macro_region</th>\n",
       "      <td>17</td>\n",
       "    </tr>\n",
       "    <tr>\n",
       "      <th>offer_count_by_prod_macro_region</th>\n",
       "      <td>952</td>\n",
       "    </tr>\n",
       "  </tbody>\n",
       "</table>\n",
       "</div>"
      ],
      "text/plain": [
       "                                                                0\n",
       "producer                                                      BMW\n",
       "model_name                         BMW 1 серия  II (F20/F21) 116i\n",
       "price                                                      850000\n",
       "age                                                          2012\n",
       "kmage                                                       81000\n",
       "region                                                   Одинцово\n",
       "engine_volume                                                 1.6\n",
       "engine_power                                                  136\n",
       "fuel                                                       Бензин\n",
       "gear                                                      автомат\n",
       "case                                                хэтчбек 3 дв.\n",
       "drive_type                                                 задний\n",
       "color                                                       белый\n",
       "offer_count_by_region                                         344\n",
       "lat                                                       55.6789\n",
       "lng                                                        37.264\n",
       "macro_name                                     Московская область\n",
       "origin_of_producer                                        Germany\n",
       "platform                                                    BMW 1\n",
       "specific_power                                                 85\n",
       "offer_count_by_model                                          261\n",
       "offer_count_by_model_macro_region                              17\n",
       "offer_count_by_prod_macro_region                              952"
      ]
     },
     "execution_count": 11,
     "metadata": {},
     "output_type": "execute_result"
    }
   ],
   "source": [
    "offer_data.head(1).T"
   ]
  },
  {
   "cell_type": "code",
   "execution_count": null,
   "metadata": {},
   "outputs": [],
   "source": []
  },
  {
   "cell_type": "markdown",
   "metadata": {},
   "source": [
    "### 2.1 Feature transform"
   ]
  },
  {
   "cell_type": "code",
   "execution_count": 12,
   "metadata": {},
   "outputs": [
    {
     "name": "stdout",
     "output_type": "stream",
     "text": [
      "['producer', 'model_name', 'region', 'fuel', 'gear', 'case', 'drive_type', 'color', 'macro_name', 'origin_of_producer', 'platform']\n",
      "['price', 'age', 'kmage', 'engine_volume', 'engine_power', 'offer_count_by_region', 'lat', 'lng', 'specific_power', 'offer_count_by_model', 'offer_count_by_model_macro_region', 'offer_count_by_prod_macro_region']\n"
     ]
    }
   ],
   "source": [
    "category_columns = [col_name  for col_name in offer_data.columns if offer_data[col_name].dtype == 'object']\n",
    "print(category_columns)\n",
    "numeric_columns = [col_name  for col_name in offer_data.columns if offer_data[col_name].dtype != 'object']\n",
    "print(numeric_columns)"
   ]
  },
  {
   "cell_type": "code",
   "execution_count": 26,
   "metadata": {},
   "outputs": [],
   "source": [
    "# # исключим избыточные категориальные признаки\n",
    "# exclude_cat = ['region', 'norm_adress']\n",
    "# category_columns = [x for x in category_columns if x not in  exclude_cat]\n",
    "# print(category_columns)\n",
    "# # исключим избыточные численные признаки - \n",
    "# # координаты дублируют аресную информацию и будут коррелированый с макрорегионом\n",
    "# exclude_num = ['lat', 'lng']\n",
    "# numeric_columns = [x for x in numeric_columns if x not in  exclude_num]\n",
    "# print(numeric_columns)"
   ]
  },
  {
   "cell_type": "markdown",
   "metadata": {},
   "source": [
    "### OHE\n",
    "Напишем функцию для упрощения кодирования переменных.\n",
    "\n",
    "# TODO \n",
    "Переделать данный шаг, рассмотреть возможность порядкового кодирования для  бустинговых моделей.\n",
    " "
   ]
  },
  {
   "cell_type": "code",
   "execution_count": 13,
   "metadata": {},
   "outputs": [
    {
     "name": "stdout",
     "output_type": "stream",
     "text": [
      "Базовым авто будет авто со следующими характеристиками: \n",
      "------------------------------------------------------------\n",
      "BMW\n",
      "BMW 1 серия  I (E81/E82/E87/E88) 116i\n",
      "Абадзехская\n",
      "Бензин\n",
      "автомат\n",
      "внедорожник 3 дв.\n",
      "задний\n",
      "бежевый\n",
      "Авадан\n",
      "France\n",
      "BMW 1\n",
      "------------------------------------------------------------\n",
      "CPU times: user 14.9 s, sys: 5.39 s, total: 20.3 s\n",
      "Wall time: 20.3 s\n"
     ]
    }
   ],
   "source": [
    "%%time\n",
    "# categorical data trransformation\n",
    "\n",
    "data_ohc = offer_data[category_columns + numeric_columns].copy()\n",
    "\n",
    "print('Базовым авто будет авто со следующими характеристиками: ')\n",
    "print('-'*60)\n",
    "\n",
    "# encode labels\n",
    "for col in category_columns:\n",
    "    # мы удаляем 1 столбец \"дамми\" переменной что бы исключить мультиколлениарность\n",
    "    # этом \"базовым авто\" будет \n",
    "    print(sorted(offer_data[col].unique())[0])\n",
    "    new_df = pd.get_dummies(offer_data[col], drop_first=True)\n",
    "    # Append the new data to the dataframe\n",
    "    data_ohc = pd.concat([data_ohc, new_df], axis=1)\n",
    "    data_ohc = data_ohc.drop(col, axis=1)\n",
    "\n",
    "print('-'*60)\n",
    "\n"
   ]
  },
  {
   "cell_type": "code",
   "execution_count": 14,
   "metadata": {},
   "outputs": [
    {
     "name": "stdout",
     "output_type": "stream",
     "text": [
      "CPU times: user 323 ms, sys: 3.63 ms, total: 327 ms\n",
      "Wall time: 325 ms\n"
     ]
    }
   ],
   "source": [
    "%%time\n",
    "# numeric feature transformation\n",
    "for col in [x for x in numeric_columns if x != 'price']:\n",
    "    #quant_transf = QuantileTransformer(output_distribution='normal')\n",
    "    #quant_transf.fit_transform(offer_data[[col]])\n",
    "    scaler = StandardScaler()\n",
    "    data_ohc[[col]] = scaler.fit_transform(offer_data[[col]])"
   ]
  },
  {
   "cell_type": "markdown",
   "metadata": {},
   "source": [
    "### 3.1 Train test split"
   ]
  },
  {
   "cell_type": "code",
   "execution_count": 15,
   "metadata": {},
   "outputs": [
    {
     "name": "stdout",
     "output_type": "stream",
     "text": [
      "CPU times: user 4.61 s, sys: 1.51 s, total: 6.13 s\n",
      "Wall time: 6.13 s\n"
     ]
    }
   ],
   "source": [
    "%%time\n",
    "\n",
    "y_col = 'price'\n",
    "\n",
    "cols = [x for x in data_ohc.columns if x != y_col]\n",
    "X_data = data_ohc[cols]\n",
    "y_data = data_ohc[y_col]\n",
    "\n",
    "X_train, X_test, y_train, y_test = train_test_split(X_data, y_data, \n",
    "                                                    test_size=0.4, random_state=42)\n",
    "\n",
    "X_valid, X_test, y_valid, y_test = train_test_split(X_test, y_test, \n",
    "                                                    test_size=0.5, random_state=42)"
   ]
  },
  {
   "cell_type": "code",
   "execution_count": 16,
   "metadata": {},
   "outputs": [
    {
     "name": "stdout",
     "output_type": "stream",
     "text": [
      "(244659, 6525)\n",
      "(146795, 6525)\n",
      "(48932, 6525)\n",
      "(48932, 6525)\n"
     ]
    }
   ],
   "source": [
    "print(X_data.shape)\n",
    "print(X_train.shape)\n",
    "print(X_test.shape)\n",
    "print(X_valid.shape)"
   ]
  },
  {
   "cell_type": "markdown",
   "metadata": {},
   "source": [
    "## 3. Model fitting\n",
    "### 3.1. Baseline constant model"
   ]
  },
  {
   "cell_type": "code",
   "execution_count": 17,
   "metadata": {},
   "outputs": [],
   "source": [
    "y_pred_const = pd.Series(y_train.median(), index=y_test.index)"
   ]
  },
  {
   "cell_type": "code",
   "execution_count": 42,
   "metadata": {},
   "outputs": [
    {
     "name": "stdout",
     "output_type": "stream",
     "text": [
      "Mean Absolute Error : 394129.23\n"
     ]
    }
   ],
   "source": [
    "print(\"Mean Absolute Error : {:.2f}\".format(mean_absolute_error(y_test, y_pred_const)))"
   ]
  },
  {
   "cell_type": "markdown",
   "metadata": {},
   "source": [
    "### Resume:\n",
    "Constant model error on 394k in price of car"
   ]
  },
  {
   "cell_type": "code",
   "execution_count": 31,
   "metadata": {},
   "outputs": [],
   "source": [
    "def plotCoefficients(model):\n",
    "    \"\"\"\n",
    "        Plots sorted coefficient values of the model\n",
    "    \"\"\"\n",
    "    \n",
    "    coefs = pd.DataFrame(model.coef_, X_train.columns)\n",
    "    coefs.columns = [\"coef\"]\n",
    "    coefs[\"abs\"] = coefs.coef.apply(np.abs)\n",
    "    coefs = coefs.sort_values(by=\"abs\", ascending=False).drop([\"abs\"], axis=1).iloc[:25]\n",
    "    \n",
    "    plt.figure(figsize=(15, 7))\n",
    "    coefs.coef.plot(kind='bar')\n",
    "    plt.grid(True, axis='y')\n",
    "    plt.hlines(y=0, xmin=0, xmax=len(coefs), linestyles='dashed')\n",
    "    plt.show()\n",
    "    \n",
    "    \n",
    "def plot_prediction(y_pred, y_true):\n",
    "    plt.figure(figsize=(12,8))\n",
    "    plt.scatter(y_pred, y_true, alpha=0.6)\n",
    "    plt.xlabel('Predictions')\n",
    "    plt.ylabel('True values')\n",
    "    plt.grid()\n",
    "    plt.show()"
   ]
  },
  {
   "cell_type": "markdown",
   "metadata": {},
   "source": [
    "### 3.2 Linear Models"
   ]
  },
  {
   "cell_type": "code",
   "execution_count": 39,
   "metadata": {},
   "outputs": [
    {
     "name": "stdout",
     "output_type": "stream",
     "text": [
      "CPU times: user 1h 12min 36s, sys: 14min 17s, total: 1h 26min 54s\n",
      "Wall time: 23min 51s\n"
     ]
    }
   ],
   "source": [
    "%%time\n",
    "lasso = LassoCV(cv=3)\n",
    "lasso.fit(X_train, y_train)"
   ]
  },
  {
   "cell_type": "code",
   "execution_count": 40,
   "metadata": {},
   "outputs": [
    {
     "name": "stdout",
     "output_type": "stream",
     "text": [
      "148339.16406690422\n",
      "147159.1491396125\n"
     ]
    }
   ],
   "source": [
    "predictions = lasso.predict(X_test)\n",
    "print(\"Mean Absolute Error : {:.2f}\".format(mean_absolute_error(predictions, y_test)))"
   ]
  },
  {
   "cell_type": "code",
   "execution_count": 41,
   "metadata": {},
   "outputs": [
    {
     "data": {
      "image/png": "[encoded data removed]",
      "text/plain": [
       "<Figure size 432x288 with 1 Axes>"
      ]
     },
     "metadata": {
      "needs_background": "light"
     },
     "output_type": "display_data"
    }
   ],
   "source": [
    "plot_prediction(plot_prediction, y_test)"
   ]
  },
  {
   "cell_type": "markdown",
   "metadata": {},
   "source": [
    "### 3.3. RandomForestRegressor"
   ]
  },
  {
   "cell_type": "code",
   "execution_count": 53,
   "metadata": {},
   "outputs": [],
   "source": [
    "param_grid = {'n_estimators': [100],\n",
    "             'max_depth': [10],\n",
    "             'min_samples_leaf': [10]}\n",
    "grid = GridSearchCV(RandomForestRegressor(n_jobs=-1), param_grid=param_grid, cv=4)"
   ]
  },
  {
   "cell_type": "code",
   "execution_count": 54,
   "metadata": {
    "scrolled": false
   },
   "outputs": [
    {
     "name": "stdout",
     "output_type": "stream",
     "text": [
      "CPU times: user 1h 3min 49s, sys: 4.03 s, total: 1h 3min 54s\n",
      "Wall time: 5min 47s\n"
     ]
    },
    {
     "data": {
      "text/plain": [
       "GridSearchCV(cv=4, error_score='raise',\n",
       "       estimator=RandomForestRegressor(bootstrap=True, criterion='mse', max_depth=None,\n",
       "           max_features='auto', max_leaf_nodes=None,\n",
       "           min_impurity_split=1e-07, min_samples_leaf=1,\n",
       "           min_samples_split=2, min_weight_fraction_leaf=0.0,\n",
       "           n_estimators=10, n_jobs=-1, oob_score=False, random_state=None,\n",
       "           verbose=0, warm_start=False),\n",
       "       fit_params={}, iid=True, n_jobs=1,\n",
       "       param_grid={'n_estimators': [100], 'max_depth': [10], 'min_samples_leaf': [10]},\n",
       "       pre_dispatch='2*n_jobs', refit=True, return_train_score=True,\n",
       "       scoring=None, verbose=0)"
      ]
     },
     "execution_count": 54,
     "metadata": {},
     "output_type": "execute_result"
    }
   ],
   "source": [
    "%%time\n",
    "grid.fit(X_train, y_train)"
   ]
  },
  {
   "cell_type": "code",
   "execution_count": 55,
   "metadata": {},
   "outputs": [
    {
     "name": "stdout",
     "output_type": "stream",
     "text": [
      "78288.4936979456\n",
      "80470.1441763449\n"
     ]
    }
   ],
   "source": [
    "predictions = grid.predict(X_test)\n",
    "print(\"Mean Absolute Error : {:.2f}\".format(mean_absolute_error(predictions, y_test)))"
   ]
  },
  {
   "cell_type": "code",
   "execution_count": null,
   "metadata": {},
   "outputs": [],
   "source": [
    "plot_prediction(predictions, y_test)"
   ]
  },
  {
   "cell_type": "markdown",
   "metadata": {},
   "source": [
    "### 3.4  Boosting models\n",
    "### 3.4.1 XGBoost"
   ]
  },
  {
   "cell_type": "code",
   "execution_count": 68,
   "metadata": {},
   "outputs": [
    {
     "name": "stdout",
     "output_type": "stream",
     "text": [
      "CPU times: user 1h 5s, sys: 2.49 s, total: 1h 8s\n",
      "Wall time: 5min 9s\n"
     ]
    }
   ],
   "source": [
    "%%time\n",
    "xgb_model = XGBRegressor(n_estimators=1000)\n",
    "xgb_model.fit(X_train, y_train, early_stopping_rounds=5, \n",
    "             eval_set=[(X_test, y_test)], verbose=False)"
   ]
  },
  {
   "cell_type": "code",
   "execution_count": 38,
   "metadata": {
    "collapsed": true
   },
   "outputs": [
    {
     "ename": "NameError",
     "evalue": "name 'xgb_model' is not defined",
     "output_type": "error",
     "traceback": [
      "\u001b[0;31m---------------------------------------------------------------------------\u001b[0m",
      "\u001b[0;31mNameError\u001b[0m                                 Traceback (most recent call last)",
      "\u001b[0;32m<ipython-input-38-665f930402cd>\u001b[0m in \u001b[0;36m<module>\u001b[0;34m\u001b[0m\n\u001b[0;32m----> 1\u001b[0;31m \u001b[0mpredictions\u001b[0m \u001b[0;34m=\u001b[0m \u001b[0mxgb_model\u001b[0m\u001b[0;34m.\u001b[0m\u001b[0mpredict\u001b[0m\u001b[0;34m(\u001b[0m\u001b[0mX_test\u001b[0m\u001b[0;34m)\u001b[0m\u001b[0;34m\u001b[0m\u001b[0m\n\u001b[0m\u001b[1;32m      2\u001b[0m \u001b[0mprint\u001b[0m\u001b[0;34m(\u001b[0m\u001b[0;34m\"Mean Absolute Error : {.2f}\"\u001b[0m\u001b[0;34m.\u001b[0m\u001b[0mformat\u001b[0m\u001b[0;34m(\u001b[0m\u001b[0mmean_absolute_error\u001b[0m\u001b[0;34m(\u001b[0m\u001b[0mpredictions\u001b[0m\u001b[0;34m,\u001b[0m \u001b[0my_test\u001b[0m\u001b[0;34m)\u001b[0m\u001b[0;34m)\u001b[0m\u001b[0;34m)\u001b[0m\u001b[0;34m\u001b[0m\u001b[0m\n",
      "\u001b[0;31mNameError\u001b[0m: name 'xgb_model' is not defined"
     ]
    }
   ],
   "source": [
    "predictions = xgb_model.predict(X_test)\n",
    "print(\"Mean Absolute Error : {:.2f}\".format(mean_absolute_error(predictions, y_test)))"
   ]
  },
  {
   "cell_type": "code",
   "execution_count": null,
   "metadata": {},
   "outputs": [],
   "source": [
    "plot_prediction(predictions, y_test)"
   ]
  },
  {
   "cell_type": "markdown",
   "metadata": {},
   "source": [
    "### 3.4.2 LightGBM"
   ]
  },
  {
   "cell_type": "code",
   "execution_count": 19,
   "metadata": {},
   "outputs": [
    {
     "name": "stdout",
     "output_type": "stream",
     "text": [
      "CPU times: user 1min 15s, sys: 2min 1s, total: 3min 16s\n",
      "Wall time: 2min 58s\n"
     ]
    }
   ],
   "source": [
    "%%time\n",
    "lgbm_model = LGBMRegressor(n_estimators=1000)\n",
    "lgbm_model.fit(X_train.values, y_train)"
   ]
  },
  {
   "cell_type": "code",
   "execution_count": 44,
   "metadata": {},
   "outputs": [
    {
     "name": "stdout",
     "output_type": "stream",
     "text": [
      "Mean Absolute Error : 62460.11\n"
     ]
    }
   ],
   "source": [
    "predictions = lgbm_model.predict(X_test)\n",
    "print(\"Mean Absolute Error : {:.2f}\".format(mean_absolute_error(predictions, y_test)))"
   ]
  },
  {
   "cell_type": "code",
   "execution_count": 33,
   "metadata": {},
   "outputs": [
    {
     "data": {
      "image/png": "[encoded data removed]",
      "text/plain": [
       "<Figure size 864x576 with 1 Axes>"
      ]
     },
     "metadata": {
      "needs_background": "light"
     },
     "output_type": "display_data"
    }
   ],
   "source": [
    "plot_prediction(predictions, y_test)"
   ]
  },
  {
   "cell_type": "markdown",
   "metadata": {},
   "source": [
    "### 3.4.3 Catboost"
   ]
  },
  {
   "cell_type": "code",
   "execution_count": 30,
   "metadata": {},
   "outputs": [
    {
     "name": "stdout",
     "output_type": "stream",
     "text": [
      "CPU times: user 5min 32s, sys: 15.2 s, total: 5min 47s\n",
      "Wall time: 2min 38s\n"
     ]
    }
   ],
   "source": [
    "%%time\n",
    "cat_boost = CatBoostRegressor(n_estimators=1000, learning_rate=0.5, silent=True)\n",
    "cat_boost.fit(X_train.values, y_train)"
   ]
  },
  {
   "cell_type": "code",
   "execution_count": 43,
   "metadata": {},
   "outputs": [
    {
     "name": "stdout",
     "output_type": "stream",
     "text": [
      "Mean Absolute Error : 66007.81\n"
     ]
    }
   ],
   "source": [
    "predictions = cat_boost.predict(X_test.values)\n",
    "print(\"Mean Absolute Error : {:.2f}\".format(mean_absolute_error(predictions, y_test)))"
   ]
  },
  {
   "cell_type": "code",
   "execution_count": 36,
   "metadata": {},
   "outputs": [
    {
     "data": {
      "image/png": "[encoded data removed]",
      "text/plain": [
       "<Figure size 864x576 with 1 Axes>"
      ]
     },
     "metadata": {
      "needs_background": "light"
     },
     "output_type": "display_data"
    }
   ],
   "source": [
    "plot_prediction(predictions, y_test)"
   ]
  },
  {
   "cell_type": "code",
   "execution_count": null,
   "metadata": {},
   "outputs": [],
   "source": []
  },
  {
   "cell_type": "code",
   "execution_count": null,
   "metadata": {},
   "outputs": [],
   "source": []
  },
  {
   "cell_type": "code",
   "execution_count": null,
   "metadata": {},
   "outputs": [],
   "source": []
  },
  {
   "cell_type": "code",
   "execution_count": null,
   "metadata": {},
   "outputs": [],
   "source": []
  },
  {
   "cell_type": "code",
   "execution_count": null,
   "metadata": {},
   "outputs": [],
   "source": []
  },
  {
   "cell_type": "markdown",
   "metadata": {},
   "source": [
    "## TODO:\n",
    "\n",
    "1. Конструирование новых признаков\n",
    "2. \"Посмотреть\" на наблюдения ни которых модели ошибаются - как они пересекаются между собой\n",
    "3. \"Посмотреть\" на наблюдения на которых все модели ошибаются больше всего, выделить их характерные особенности\n",
    "4. Композиция моделей"
   ]
  },
  {
   "cell_type": "code",
   "execution_count": null,
   "metadata": {},
   "outputs": [],
   "source": []
  },
  {
   "cell_type": "code",
   "execution_count": null,
   "metadata": {},
   "outputs": [],
   "source": []
  },
  {
   "cell_type": "code",
   "execution_count": null,
   "metadata": {},
   "outputs": [],
   "source": []
  },
  {
   "cell_type": "code",
   "execution_count": null,
   "metadata": {},
   "outputs": [],
   "source": []
  },
  {
   "cell_type": "code",
   "execution_count": null,
   "metadata": {},
   "outputs": [],
   "source": []
  },
  {
   "cell_type": "code",
   "execution_count": null,
   "metadata": {},
   "outputs": [],
   "source": []
  },
  {
   "cell_type": "code",
   "execution_count": null,
   "metadata": {},
   "outputs": [],
   "source": []
  },
  {
   "cell_type": "code",
   "execution_count": null,
   "metadata": {},
   "outputs": [],
   "source": []
  },
  {
   "cell_type": "code",
   "execution_count": null,
   "metadata": {},
   "outputs": [],
   "source": []
  }
 ],
 "metadata": {
  "kernelspec": {
   "display_name": "Python 3",
   "language": "python",
   "name": "python3"
  },
  "language_info": {
   "codemirror_mode": {
    "name": "ipython",
    "version": 3
   },
   "file_extension": ".py",
   "mimetype": "text/x-python",
   "name": "python",
   "nbconvert_exporter": "python",
   "pygments_lexer": "ipython3",
   "version": "3.6.6"
  }
 },
 "nbformat": 4,
 "nbformat_minor": 2
}
