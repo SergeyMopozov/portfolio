{
 "cells": [
  {
   "cell_type": "markdown",
   "metadata": {},
   "source": [
    "# Эксперимент со сверточными сетями"
   ]
  },
  {
   "cell_type": "code",
   "execution_count": 1,
   "metadata": {},
   "outputs": [],
   "source": [
    "import pandas as pd\n",
    "import matplotlib.pyplot as plt\n",
    "import seaborn as sns\n",
    "from datetime import datetime\n",
    "import requests\n",
    "import os\n",
    "import errno\n",
    "import time\n",
    "import glob"
   ]
  },
  {
   "cell_type": "code",
   "execution_count": null,
   "metadata": {},
   "outputs": [],
   "source": [
    "glob.glob"
   ]
  },
  {
   "cell_type": "code",
   "execution_count": 2,
   "metadata": {},
   "outputs": [],
   "source": [
    "# load data\n",
    "offer_data = pd.read_pickle('./source_data/clean_offer_frame_all2020-01-22 12:40.pckl')"
   ]
  },
  {
   "cell_type": "code",
   "execution_count": 16,
   "metadata": {},
   "outputs": [],
   "source": [
    "# пропустить битые линки\n",
    "def validate_links(img_links):\n",
    "    valid_links = []\n",
    "    for l in img_links:\n",
    "        if '_crpd' not in l:\n",
    "            l = 'https:' + l\n",
    "            valid_links.append(l)\n",
    "    return valid_links\n",
    "\n",
    "\n",
    "links_frame = offer_data[['img_links']].copy()\n",
    "\n",
    "links_frame['total_img_count'] = links_frame.img_links.apply(lambda row: len(row))\n",
    "links_frame['valid_img_links'] = links_frame.img_links.apply(lambda row: validate_links(row))\n",
    "links_frame['valid_img_count'] = links_frame.valid_img_links.apply(lambda row: len(row))\n",
    "\n",
    "total_frame = pd.concat([offer_data , links_frame], axis=1)\n",
    "total_frame.to_pickle('./source_data/total_frame_valid_links_' \\\n",
    "                      + datetime.today().strftime('%Y-%m-%d %H:%M') + '.pckl' )"
   ]
  },
  {
   "cell_type": "code",
   "execution_count": 11,
   "metadata": {},
   "outputs": [
    {
     "data": {
      "text/plain": [
       "566760"
      ]
     },
     "execution_count": 11,
     "metadata": {},
     "output_type": "execute_result"
    }
   ],
   "source": [
    "# total valid links\n",
    "total_link = total_frame['valid_img_count'].sum()\n",
    "total_link"
   ]
  },
  {
   "cell_type": "markdown",
   "metadata": {},
   "source": [
    "# 1. Download img"
   ]
  },
  {
   "cell_type": "code",
   "execution_count": 75,
   "metadata": {},
   "outputs": [],
   "source": [
    "# list for index of cars which didn't download\n",
    "brocken_index = []"
   ]
  },
  {
   "cell_type": "code",
   "execution_count": 139,
   "metadata": {},
   "outputs": [
    {
     "name": "stdout",
     "output_type": "stream",
     "text": [
      "CPU times: user 4min 9s, sys: 11.8 s, total: 4min 21s\n",
      "Wall time: 31min 28s\n"
     ]
    }
   ],
   "source": [
    "%%time\n",
    "\n",
    "for i in links_frame[links_frame['valid_img_count'] != 0].index[232120:]:\n",
    "    dir_path = './img/'+str(i)+'/'\n",
    "    if not os.path.exists(os.path.dirname(dir_path)):\n",
    "        try:\n",
    "            os.makedirs(os.path.dirname(dir_path))\n",
    "        except OSError as exc: \n",
    "            if exc.errno != errno.EEXIST:\n",
    "                raise    \n",
    "    for j, link in enumerate(links_frame['valid_img_links'].iloc[i]):\n",
    "        try:\n",
    "            img = requests.get(link)\n",
    "            open(dir_path + str(j) + '.webp', 'wb').write(img.content)\n",
    "        except Exception as e:\n",
    "            print('Error!', link)\n",
    "            brocken_index.append(i)\n",
    "            print(e)\n",
    "            #time.sleep(600)\n",
    "    #break"
   ]
  },
  {
   "cell_type": "code",
   "execution_count": 141,
   "metadata": {},
   "outputs": [],
   "source": [
    "# save broken index\n",
    "broken_index_df = pd.DataFrame(pd.Series(brocken_index).unique(), columns=['broken_index'])\n",
    "broken_index_df.to_csv('./source_data/broken_index_df_' + datetime.today().strftime('%Y-%m-%d %H:%M') + '.csv')"
   ]
  },
  {
   "cell_type": "code",
   "execution_count": 160,
   "metadata": {},
   "outputs": [],
   "source": [
    "%%time\n",
    "# download broken img\n",
    "\n",
    "for i in broken_index_df.broken_index:\n",
    "    dir_path = './img/'+str(i)+'/'\n",
    "    print(dir_path)\n",
    "    if not os.path.exists(os.path.dirname(dir_path)):\n",
    "        try:\n",
    "            \n",
    "            os.makedirs(os.path.dirname(dir_path))\n",
    "        except OSError as exc: \n",
    "            if exc.errno != errno.EEXIST:\n",
    "                raise    \n",
    "    for j, link in enumerate(links_frame['valid_img_links'].iloc[i]):\n",
    "        try:\n",
    "            print(link)\n",
    "            img = requests.get(link)\n",
    "            open(dir_path + str(j) + '.webp', 'wb').write(img.content)\n",
    "        except Exception as e:\n",
    "            print('Error!', link)\n",
    "            brocken_index.append(i)\n",
    "            print(e)\n",
    "            #time.sleep(600)\n",
    "    #break"
   ]
  },
  {
   "cell_type": "code",
   "execution_count": 19,
   "metadata": {},
   "outputs": [
    {
     "name": "stdout",
     "output_type": "stream",
     "text": [
      "566760\n",
      "566760\n",
      "CPU times: user 42.2 s, sys: 31.6 s, total: 1min 13s\n",
      "Wall time: 2h 56min 44s\n"
     ]
    }
   ],
   "source": [
    "%%time\n",
    "# check total downloading \n",
    "total_img = 0\n",
    "for path in glob.glob('./img/*'):\n",
    "    total_img += len(glob.glob(path +'/*.webp'))\n",
    "    #break\n",
    "print(total_link)\n",
    "print(total_img)\n"
   ]
  },
  {
   "cell_type": "markdown",
   "metadata": {},
   "source": [
    "## Скачались все картинки!\n",
    "Структура каталога с картинками './img/<папка с номером индекса>/<номер картинки>.webp'\n",
    "\n",
    "\n",
    "## Задачи которые можно решить по данному набору данных\n",
    "1. Задачи калссификации - определения страны производителя, бренда, модели, типа кузова и пр.\n",
    "2. Задача регрессии - определение пробега, стоимости"
   ]
  },
  {
   "cell_type": "code",
   "execution_count": null,
   "metadata": {},
   "outputs": [],
   "source": [
    "total_frame = pd.read_pickle('./source_data/total_frame_valid_links_2020-01-23 11:07.pckl')"
   ]
  },
  {
   "cell_type": "code",
   "execution_count": 20,
   "metadata": {},
   "outputs": [
    {
     "data": {
      "text/html": [
       "<div>\n",
       "<style scoped>\n",
       "    .dataframe tbody tr th:only-of-type {\n",
       "        vertical-align: middle;\n",
       "    }\n",
       "\n",
       "    .dataframe tbody tr th {\n",
       "        vertical-align: top;\n",
       "    }\n",
       "\n",
       "    .dataframe thead th {\n",
       "        text-align: right;\n",
       "    }\n",
       "</style>\n",
       "<table border=\"1\" class=\"dataframe\">\n",
       "  <thead>\n",
       "    <tr style=\"text-align: right;\">\n",
       "      <th></th>\n",
       "      <th>producer</th>\n",
       "      <th>model_name</th>\n",
       "      <th>price</th>\n",
       "      <th>age</th>\n",
       "      <th>kmage</th>\n",
       "      <th>region</th>\n",
       "      <th>engine_volume</th>\n",
       "      <th>engine_power</th>\n",
       "      <th>fuel</th>\n",
       "      <th>gear</th>\n",
       "      <th>case</th>\n",
       "      <th>drive_type</th>\n",
       "      <th>color</th>\n",
       "      <th>offer_href</th>\n",
       "      <th>img_links</th>\n",
       "      <th>tech_dicript</th>\n",
       "      <th>img_links</th>\n",
       "      <th>total_img_count</th>\n",
       "      <th>valid_img_links</th>\n",
       "      <th>valid_img_count</th>\n",
       "    </tr>\n",
       "  </thead>\n",
       "  <tbody>\n",
       "    <tr>\n",
       "      <th>0</th>\n",
       "      <td>BMW</td>\n",
       "      <td>BMW 1 серия  II (F20/F21) 116i</td>\n",
       "      <td>850000</td>\n",
       "      <td>2012</td>\n",
       "      <td>81000</td>\n",
       "      <td>Одинцово</td>\n",
       "      <td>1.6</td>\n",
       "      <td>136.0</td>\n",
       "      <td>Бензин</td>\n",
       "      <td>автомат</td>\n",
       "      <td>хэтчбек 3 дв.</td>\n",
       "      <td>задний</td>\n",
       "      <td>белый</td>\n",
       "      <td>https://auto.ru/cars/used/sale/bmw/1er/1094869...</td>\n",
       "      <td>[//avatars.mds.yandex.net/get-autoru-vos/21601...</td>\n",
       "      <td>[1.6 л / 136 л.с. / Бензин, автомат, хэтчбек 3...</td>\n",
       "      <td>[//avatars.mds.yandex.net/get-autoru-vos/21601...</td>\n",
       "      <td>4</td>\n",
       "      <td>[https://avatars.mds.yandex.net/get-autoru-vos...</td>\n",
       "      <td>3</td>\n",
       "    </tr>\n",
       "    <tr>\n",
       "      <th>1</th>\n",
       "      <td>BMW</td>\n",
       "      <td>BMW 1 серия  II (F20/F21) 116i</td>\n",
       "      <td>707000</td>\n",
       "      <td>2013</td>\n",
       "      <td>68880</td>\n",
       "      <td>Москва</td>\n",
       "      <td>1.6</td>\n",
       "      <td>136.0</td>\n",
       "      <td>Бензин</td>\n",
       "      <td>автомат</td>\n",
       "      <td>хэтчбек 3 дв.</td>\n",
       "      <td>задний</td>\n",
       "      <td>белый</td>\n",
       "      <td>https://auto.ru/cars/used/sale/bmw/1er/1095356...</td>\n",
       "      <td>[//avatars.mds.yandex.net/get-autoru-vos/20737...</td>\n",
       "      <td>[1.6 л / 136 л.с. / Бензин, автомат, хэтчбек 3...</td>\n",
       "      <td>[//avatars.mds.yandex.net/get-autoru-vos/20737...</td>\n",
       "      <td>5</td>\n",
       "      <td>[https://avatars.mds.yandex.net/get-autoru-vos...</td>\n",
       "      <td>3</td>\n",
       "    </tr>\n",
       "    <tr>\n",
       "      <th>2</th>\n",
       "      <td>BMW</td>\n",
       "      <td>BMW 1 серия  I (E81/E82/E87/E88) Рестайлинг 116i</td>\n",
       "      <td>515000</td>\n",
       "      <td>2010</td>\n",
       "      <td>123000</td>\n",
       "      <td>Ростов-на-Дону</td>\n",
       "      <td>1.6</td>\n",
       "      <td>115.0</td>\n",
       "      <td>Бензин</td>\n",
       "      <td>автомат</td>\n",
       "      <td>хэтчбек 5 дв.</td>\n",
       "      <td>задний</td>\n",
       "      <td>белый</td>\n",
       "      <td>https://auto.ru/cars/used/sale/bmw/1er/1095358...</td>\n",
       "      <td>[/_crpd/Wtem9A278/56ba483N/2iS9dRPMqj3clTsoejV...</td>\n",
       "      <td>[1.6 л / 115 л.с. / Бензин, автомат, хэтчбек 5...</td>\n",
       "      <td>[/_crpd/Wtem9A278/56ba483N/2iS9dRPMqj3clTsoejV...</td>\n",
       "      <td>3</td>\n",
       "      <td>[https://avatars.mds.yandex.net/get-autoru-vos...</td>\n",
       "      <td>1</td>\n",
       "    </tr>\n",
       "    <tr>\n",
       "      <th>3</th>\n",
       "      <td>BMW</td>\n",
       "      <td>BMW 1 серия  II (F20/F21) 116i</td>\n",
       "      <td>709000</td>\n",
       "      <td>2013</td>\n",
       "      <td>77037</td>\n",
       "      <td>Москва</td>\n",
       "      <td>1.6</td>\n",
       "      <td>136.0</td>\n",
       "      <td>Бензин</td>\n",
       "      <td>автомат</td>\n",
       "      <td>хэтчбек 5 дв.</td>\n",
       "      <td>задний</td>\n",
       "      <td>коричневый</td>\n",
       "      <td>https://auto.ru/cars/used/sale/bmw/1er/1095355...</td>\n",
       "      <td>[//avatars.mds.yandex.net/get-autoru-vos/19915...</td>\n",
       "      <td>[1.6 л / 136 л.с. / Бензин, автомат, хэтчбек 5...</td>\n",
       "      <td>[//avatars.mds.yandex.net/get-autoru-vos/19915...</td>\n",
       "      <td>5</td>\n",
       "      <td>[https://avatars.mds.yandex.net/get-autoru-vos...</td>\n",
       "      <td>4</td>\n",
       "    </tr>\n",
       "    <tr>\n",
       "      <th>4</th>\n",
       "      <td>BMW</td>\n",
       "      <td>BMW 1 серия  I (E81/E82/E87/E88) Рестайлинг 116i</td>\n",
       "      <td>480000</td>\n",
       "      <td>2009</td>\n",
       "      <td>101000</td>\n",
       "      <td>Москва</td>\n",
       "      <td>1.6</td>\n",
       "      <td>115.0</td>\n",
       "      <td>Бензин</td>\n",
       "      <td>автомат</td>\n",
       "      <td>хэтчбек 3 дв.</td>\n",
       "      <td>задний</td>\n",
       "      <td>белый</td>\n",
       "      <td>https://auto.ru/cars/used/sale/bmw/1er/1091373...</td>\n",
       "      <td>[//avatars.mds.yandex.net/get-autoru-vos/16871...</td>\n",
       "      <td>[1.6 л / 115 л.с. / Бензин, автомат, хэтчбек 3...</td>\n",
       "      <td>[//avatars.mds.yandex.net/get-autoru-vos/16871...</td>\n",
       "      <td>5</td>\n",
       "      <td>[https://avatars.mds.yandex.net/get-autoru-vos...</td>\n",
       "      <td>3</td>\n",
       "    </tr>\n",
       "  </tbody>\n",
       "</table>\n",
       "</div>"
      ],
      "text/plain": [
       "  producer                                        model_name   price   age  \\\n",
       "0      BMW                    BMW 1 серия  II (F20/F21) 116i  850000  2012   \n",
       "1      BMW                    BMW 1 серия  II (F20/F21) 116i  707000  2013   \n",
       "2      BMW  BMW 1 серия  I (E81/E82/E87/E88) Рестайлинг 116i  515000  2010   \n",
       "3      BMW                    BMW 1 серия  II (F20/F21) 116i  709000  2013   \n",
       "4      BMW  BMW 1 серия  I (E81/E82/E87/E88) Рестайлинг 116i  480000  2009   \n",
       "\n",
       "    kmage          region  engine_volume  engine_power    fuel     gear  \\\n",
       "0   81000        Одинцово            1.6         136.0  Бензин  автомат   \n",
       "1   68880          Москва            1.6         136.0  Бензин  автомат   \n",
       "2  123000  Ростов-на-Дону            1.6         115.0  Бензин  автомат   \n",
       "3   77037          Москва            1.6         136.0  Бензин  автомат   \n",
       "4  101000          Москва            1.6         115.0  Бензин  автомат   \n",
       "\n",
       "            case drive_type       color  \\\n",
       "0  хэтчбек 3 дв.     задний       белый   \n",
       "1  хэтчбек 3 дв.     задний       белый   \n",
       "2  хэтчбек 5 дв.     задний       белый   \n",
       "3  хэтчбек 5 дв.     задний  коричневый   \n",
       "4  хэтчбек 3 дв.     задний       белый   \n",
       "\n",
       "                                          offer_href  \\\n",
       "0  https://auto.ru/cars/used/sale/bmw/1er/1094869...   \n",
       "1  https://auto.ru/cars/used/sale/bmw/1er/1095356...   \n",
       "2  https://auto.ru/cars/used/sale/bmw/1er/1095358...   \n",
       "3  https://auto.ru/cars/used/sale/bmw/1er/1095355...   \n",
       "4  https://auto.ru/cars/used/sale/bmw/1er/1091373...   \n",
       "\n",
       "                                           img_links  \\\n",
       "0  [//avatars.mds.yandex.net/get-autoru-vos/21601...   \n",
       "1  [//avatars.mds.yandex.net/get-autoru-vos/20737...   \n",
       "2  [/_crpd/Wtem9A278/56ba483N/2iS9dRPMqj3clTsoejV...   \n",
       "3  [//avatars.mds.yandex.net/get-autoru-vos/19915...   \n",
       "4  [//avatars.mds.yandex.net/get-autoru-vos/16871...   \n",
       "\n",
       "                                        tech_dicript  \\\n",
       "0  [1.6 л / 136 л.с. / Бензин, автомат, хэтчбек 3...   \n",
       "1  [1.6 л / 136 л.с. / Бензин, автомат, хэтчбек 3...   \n",
       "2  [1.6 л / 115 л.с. / Бензин, автомат, хэтчбек 5...   \n",
       "3  [1.6 л / 136 л.с. / Бензин, автомат, хэтчбек 5...   \n",
       "4  [1.6 л / 115 л.с. / Бензин, автомат, хэтчбек 3...   \n",
       "\n",
       "                                           img_links  total_img_count  \\\n",
       "0  [//avatars.mds.yandex.net/get-autoru-vos/21601...                4   \n",
       "1  [//avatars.mds.yandex.net/get-autoru-vos/20737...                5   \n",
       "2  [/_crpd/Wtem9A278/56ba483N/2iS9dRPMqj3clTsoejV...                3   \n",
       "3  [//avatars.mds.yandex.net/get-autoru-vos/19915...                5   \n",
       "4  [//avatars.mds.yandex.net/get-autoru-vos/16871...                5   \n",
       "\n",
       "                                     valid_img_links  valid_img_count  \n",
       "0  [https://avatars.mds.yandex.net/get-autoru-vos...                3  \n",
       "1  [https://avatars.mds.yandex.net/get-autoru-vos...                3  \n",
       "2  [https://avatars.mds.yandex.net/get-autoru-vos...                1  \n",
       "3  [https://avatars.mds.yandex.net/get-autoru-vos...                4  \n",
       "4  [https://avatars.mds.yandex.net/get-autoru-vos...                3  "
      ]
     },
     "execution_count": 20,
     "metadata": {},
     "output_type": "execute_result"
    }
   ],
   "source": [
    "total_frame.head()"
   ]
  },
  {
   "cell_type": "code",
   "execution_count": 16,
   "metadata": {},
   "outputs": [
    {
     "name": "stdout",
     "output_type": "stream",
     "text": [
      "['./img/0/1.webp', './img/0/2.webp', './img/0/0.webp']\n",
      "CPU times: user 502 ms, sys: 88.9 ms, total: 591 ms\n",
      "Wall time: 609 ms\n"
     ]
    }
   ],
   "source": [
    "%%time\n",
    "# check total downloading \n",
    "for path in sorted(glob.glob('./img/*')):\n",
    "    print(glob.glob(path +'/*.webp'))\n",
    "    break"
   ]
  },
  {
   "cell_type": "code",
   "execution_count": null,
   "metadata": {},
   "outputs": [],
   "source": []
  },
  {
   "cell_type": "code",
   "execution_count": null,
   "metadata": {},
   "outputs": [],
   "source": []
  },
  {
   "cell_type": "code",
   "execution_count": null,
   "metadata": {},
   "outputs": [],
   "source": []
  },
  {
   "cell_type": "code",
   "execution_count": null,
   "metadata": {},
   "outputs": [],
   "source": [
    "# построение нейронной сети для определения стоимости авто по фотографии\n",
    "# загрузка "
   ]
  },
  {
   "cell_type": "code",
   "execution_count": null,
   "metadata": {},
   "outputs": [],
   "source": []
  },
  {
   "cell_type": "code",
   "execution_count": null,
   "metadata": {},
   "outputs": [],
   "source": []
  },
  {
   "cell_type": "code",
   "execution_count": null,
   "metadata": {},
   "outputs": [],
   "source": []
  }
 ],
 "metadata": {
  "kernelspec": {
   "display_name": "Python 3",
   "language": "python",
   "name": "python3"
  },
  "language_info": {
   "codemirror_mode": {
    "name": "ipython",
    "version": 3
   },
   "file_extension": ".py",
   "mimetype": "text/x-python",
   "name": "python",
   "nbconvert_exporter": "python",
   "pygments_lexer": "ipython3",
   "version": "3.6.6"
  }
 },
 "nbformat": 4,
 "nbformat_minor": 2
}
