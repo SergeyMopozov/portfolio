{
 "cells": [
  {
   "cell_type": "markdown",
   "metadata": {},
   "source": [
    "# Create Torch image dataset"
   ]
  },
  {
   "cell_type": "code",
   "execution_count": 2,
   "metadata": {},
   "outputs": [],
   "source": [
    "import pandas as pd\n",
    "import numpy as np\n",
    "import glob\n",
    "import matplotlib.pyplot as plt\n",
    "from PIL import Image\n",
    "import os\n",
    "import gc"
   ]
  },
  {
   "cell_type": "code",
   "execution_count": 36,
   "metadata": {},
   "outputs": [],
   "source": [
    "import torch\n",
    "from torch.utils.data import Dataset\n",
    "from torchvision.transforms import ToTensor, Lambda, Compose, ConvertImageDtype, Normalize\n",
    "from torchvision.io import read_image\n",
    "from torch.utils.data import DataLoader"
   ]
  },
  {
   "cell_type": "markdown",
   "metadata": {},
   "source": [
    "## Prepare labels dataset"
   ]
  },
  {
   "cell_type": "code",
   "execution_count": 7,
   "metadata": {},
   "outputs": [],
   "source": [
    "links = pd.read_pickle('../../data/1_automarket_exploration/source_data/total_frame_valid_links_2020-01-23 11:07.pckl')\n",
    "labels = links[links['valid_img_count'] != 0]\\\n",
    "        [['producer', 'case', 'price', 'total_img_count']].reset_index()\\\n",
    "                                                          .rename(columns={'index':'dir_num'})\n",
    "dicts = {}\n",
    "for col in ['producer', 'case']:\n",
    "    labels[col]  = labels[col].astype('category')\n",
    "    labels[f'{col}_code'] = labels[col].cat.codes\n",
    "    dicts[col] = dict(zip(labels[col].cat.codes, labels[col]))\n",
    "    \n",
    "labels['path'] = [f'img/{idx}/0.webp' for idx in labels['dir_num']]\n"
   ]
  },
  {
   "cell_type": "markdown",
   "metadata": {},
   "source": [
    "## Check shapes and clean image datatset"
   ]
  },
  {
   "cell_type": "code",
   "execution_count": 203,
   "metadata": {},
   "outputs": [
    {
     "name": "stdout",
     "output_type": "stream",
     "text": [
      "3664 cannot identify image file '../../data/1_automarket_exploration/auto_img/img/3664/0.webp'\n",
      "CPU times: user 6min 8s, sys: 39.5 s, total: 6min 47s\n",
      "Wall time: 12min 31s\n"
     ]
    }
   ],
   "source": [
    "%%time\n",
    "shapes = {}\n",
    "errors = []\n",
    "for idx, row in labels[['dir_num','path']].iterrows():\n",
    "    try:\n",
    "        img = Image.open(os.path.join('../../data/1_automarket_exploration/auto_img/', row['path']))\n",
    "        shapes[row['dir_num']] = np.array(img).shape\n",
    "        \n",
    "    except Exception as e:\n",
    "        errors.append(row['dir_num'])\n",
    "        print(row['dir_num'], e)"
   ]
  },
  {
   "cell_type": "markdown",
   "metadata": {},
   "source": [
    "### Exclude images with other shapese"
   ]
  },
  {
   "cell_type": "code",
   "execution_count": 214,
   "metadata": {},
   "outputs": [],
   "source": [
    "labels['shape'] = labels['dir_num'].map(shapes)\n",
    "labels = labels[~labels['dir_num'].isin(errors)]\n",
    "labels =  labels[labels['shape'] == (240, 320, 3)]"
   ]
  },
  {
   "cell_type": "markdown",
   "metadata": {},
   "source": [
    "### Save annotations frame"
   ]
  },
  {
   "cell_type": "code",
   "execution_count": 222,
   "metadata": {},
   "outputs": [],
   "source": [
    "labels.to_pickle('../../data/1_automarket_exploration/source_data/labels.pckl')"
   ]
  },
  {
   "cell_type": "markdown",
   "metadata": {},
   "source": [
    "## TODO:\n",
    "\n",
    "1. Split on train and test datasets."
   ]
  },
  {
   "cell_type": "code",
   "execution_count": null,
   "metadata": {},
   "outputs": [],
   "source": []
  },
  {
   "cell_type": "code",
   "execution_count": null,
   "metadata": {},
   "outputs": [],
   "source": []
  },
  {
   "cell_type": "markdown",
   "metadata": {},
   "source": [
    "## Create custom dataset class"
   ]
  },
  {
   "cell_type": "code",
   "execution_count": 26,
   "metadata": {},
   "outputs": [],
   "source": [
    "class CustomImageDataset(Dataset):\n",
    "    def __init__(self, annotations, img_dir, target, path, transform=None, target_transform=None):\n",
    "        data = pd.read_pickle(annotations)\n",
    "        self.img_paths = list(data[path])\n",
    "        self.img_labels = list(data[target])\n",
    "        self.img_dir = img_dir\n",
    "        self.transform = transform\n",
    "        self.target_transform = target_transform\n",
    "        \n",
    "    def __len__(self):\n",
    "        return len(self.img_labels)\n",
    "        \n",
    "    def __getitem__(self, idx):\n",
    "        \n",
    "        img_path = os.path.join(self.img_dir, self.img_paths[idx])\n",
    "        image = read_image(img_path)\n",
    "        label = self.img_labels[idx]\n",
    "        \n",
    "        if self.transform:\n",
    "            image = self.transform(image)\n",
    "        if self.target_transform:\n",
    "            label = self.target_transform(label)\n",
    "            \n",
    "        return image, label"
   ]
  },
  {
   "cell_type": "markdown",
   "metadata": {},
   "source": [
    "## Create instance and make dataloader"
   ]
  },
  {
   "cell_type": "code",
   "execution_count": 38,
   "metadata": {},
   "outputs": [],
   "source": [
    "transf = Compose([ConvertImageDtype(torch.float),\n",
    "                  Normalize((0.485, 0.456, 0.406), (0.229, 0.224, 0.225))\n",
    "                 ])"
   ]
  },
  {
   "cell_type": "code",
   "execution_count": 39,
   "metadata": {},
   "outputs": [],
   "source": [
    "train = CustomImageDataset('../../data/1_automarket_exploration/source_data/labels.pckl',\n",
    "                           '../../data/1_automarket_exploration/auto_img/',\n",
    "                           'producer_code',\n",
    "                           'path',\n",
    "                           transform = transf,\n",
    "                           target_transform = Lambda(lambda y: torch.zeros(\n",
    "                               12, dtype=torch.float).scatter_(dim=0, index=torch.tensor(y), value=1))\n",
    "                           )\n",
    "train_dataloader = DataLoader(train, batch_size=64, shuffle=True)"
   ]
  },
  {
   "cell_type": "markdown",
   "metadata": {},
   "source": [
    "## Check that all work correctly"
   ]
  },
  {
   "cell_type": "code",
   "execution_count": 40,
   "metadata": {
    "scrolled": true
   },
   "outputs": [
    {
     "name": "stderr",
     "output_type": "stream",
     "text": [
      "Clipping input data to the valid range for imshow with RGB data ([0..1] for floats or [0..255] for integers).\n"
     ]
    },
    {
     "name": "stdout",
     "output_type": "stream",
     "text": [
      "Feature batch shape: torch.Size([64, 3, 240, 320])\n",
      "Labels batch shape: torch.Size([64, 12])\n"
     ]
    },
    {
     "data": {
      "image/png": "[encoded data removed]",
      "text/plain": [
       "<Figure size 432x288 with 1 Axes>"
      ]
     },
     "metadata": {
      "needs_background": "light"
     },
     "output_type": "display_data"
    }
   ],
   "source": [
    "train_features, train_labels = next(iter(train_dataloader))\n",
    "print(f\"Feature batch shape: {train_features.size()}\")\n",
    "print(f\"Labels batch shape: {train_labels.size()}\")\n",
    "img = train_features[0].permute(1, 2, 0)\n",
    "label = train_labels[0]\n",
    "plt.imshow(img)\n",
    "plt.title(dicts['producer'][int(label.argmax())])\n",
    "plt.show()"
   ]
  },
  {
   "cell_type": "code",
   "execution_count": null,
   "metadata": {},
   "outputs": [],
   "source": []
  },
  {
   "cell_type": "code",
   "execution_count": null,
   "metadata": {},
   "outputs": [],
   "source": []
  }
 ],
 "metadata": {
  "kernelspec": {
   "display_name": "Python 3",
   "language": "python",
   "name": "python3"
  },
  "language_info": {
   "codemirror_mode": {
    "name": "ipython",
    "version": 3
   },
   "file_extension": ".py",
   "mimetype": "text/x-python",
   "name": "python",
   "nbconvert_exporter": "python",
   "pygments_lexer": "ipython3",
   "version": "3.6.6"
  }
 },
 "nbformat": 4,
 "nbformat_minor": 2
}
