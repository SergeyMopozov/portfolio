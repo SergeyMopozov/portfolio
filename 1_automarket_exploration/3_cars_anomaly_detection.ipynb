{
 "cells": [
  {
   "cell_type": "markdown",
   "metadata": {},
   "source": [
    "# Anomaly detection different aproaches\n",
    "\n",
    "▪ Describe proximity-based methods for anomaly detection\n",
    "▪ Apply the k-nearest neighbors algorithm (KNN)\n",
    "▪ Apply k-means clustering\n",
    "▪ Apply the local outlier factor (LOF)\n",
    "\n",
    "▪ Apply linear regression models\n",
    "▪ Apply principal component analysis (PCA)\n",
    "▪ Apply one-class support vector machines (SVM)\n",
    "\n",
    "\n",
    "▪ PCA (principal component analysis)\n",
    "▪ Grid-based search (beware: combinatorial explosion possible!)\n",
    "▪ Cluster-based statistics\n",
    "▪ Random sampling of subspaces\n",
    "\n",
    "▪ Describe supervised anomaly detection\n",
    "▪ Implement cost-sensitive learning\n",
    "▪ Apply adaptive resampling and boosting methods\n",
    "\n"
   ]
  },
  {
   "cell_type": "code",
   "execution_count": null,
   "metadata": {},
   "outputs": [],
   "source": []
  },
  {
   "cell_type": "code",
   "execution_count": null,
   "metadata": {},
   "outputs": [],
   "source": []
  },
  {
   "cell_type": "code",
   "execution_count": null,
   "metadata": {},
   "outputs": [],
   "source": []
  }
 ],
 "metadata": {
  "kernelspec": {
   "display_name": "Python 3",
   "language": "python",
   "name": "python3"
  },
  "language_info": {
   "codemirror_mode": {
    "name": "ipython",
    "version": 3
   },
   "file_extension": ".py",
   "mimetype": "text/x-python",
   "name": "python",
   "nbconvert_exporter": "python",
   "pygments_lexer": "ipython3",
   "version": "3.6.6"
  }
 },
 "nbformat": 4,
 "nbformat_minor": 2
}
