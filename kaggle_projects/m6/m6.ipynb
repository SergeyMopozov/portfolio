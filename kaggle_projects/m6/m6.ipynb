{
 "cells": [
  {
   "cell_type": "code",
   "execution_count": 1,
   "metadata": {},
   "outputs": [],
   "source": [
    "import pandas as pd \n",
    "import numpy as np\n",
    "import glob \n",
    "\n",
    "import matplotlib.pyplot as plt\n",
    "import seaborn as sns"
   ]
  },
  {
   "cell_type": "code",
   "execution_count": 22,
   "metadata": {},
   "outputs": [
    {
     "data": {
      "text/plain": [
       "['../../../data/kaggle/M6/M6_Universe.csv',\n",
       " '../../../data/kaggle/M6/template.csv',\n",
       " '../../../data/kaggle/M6/assets_m6.csv']"
      ]
     },
     "execution_count": 22,
     "metadata": {},
     "output_type": "execute_result"
    }
   ],
   "source": [
    "glob.glob('../../../data/kaggle/M6/*')"
   ]
  },
  {
   "cell_type": "code",
   "execution_count": 10,
   "metadata": {},
   "outputs": [],
   "source": [
    "assets = pd.read_csv('../../../data/kaggle/M6/assets_m6.csv')\n",
    "m6_un = pd.read_csv('../../../data/kaggle/M6/M6_Universe.csv')"
   ]
  },
  {
   "cell_type": "code",
   "execution_count": 23,
   "metadata": {},
   "outputs": [],
   "source": [
    "template = pd.read_csv('../../../data/kaggle/M6/template.csv')"
   ]
  },
  {
   "cell_type": "code",
   "execution_count": 14,
   "metadata": {},
   "outputs": [],
   "source": [
    "assets['date'] = pd.to_datetime(assets['date'])"
   ]
  },
  {
   "cell_type": "code",
   "execution_count": 17,
   "metadata": {},
   "outputs": [],
   "source": [
    "#assets.pivot_table(index='date', columns='symbol')"
   ]
  },
  {
   "cell_type": "code",
   "execution_count": 19,
   "metadata": {},
   "outputs": [
    {
     "data": {
      "text/html": [
       "<div>\n",
       "<style scoped>\n",
       "    .dataframe tbody tr th:only-of-type {\n",
       "        vertical-align: middle;\n",
       "    }\n",
       "\n",
       "    .dataframe tbody tr th {\n",
       "        vertical-align: top;\n",
       "    }\n",
       "\n",
       "    .dataframe thead th {\n",
       "        text-align: right;\n",
       "    }\n",
       "</style>\n",
       "<table border=\"1\" class=\"dataframe\">\n",
       "  <thead>\n",
       "    <tr style=\"text-align: right;\">\n",
       "      <th></th>\n",
       "      <th>symbol</th>\n",
       "      <th>date</th>\n",
       "      <th>price</th>\n",
       "    </tr>\n",
       "  </thead>\n",
       "  <tbody>\n",
       "    <tr>\n",
       "      <th>395</th>\n",
       "      <td>XLP</td>\n",
       "      <td>2022-02-02</td>\n",
       "      <td>76.81</td>\n",
       "    </tr>\n",
       "    <tr>\n",
       "      <th>396</th>\n",
       "      <td>XLU</td>\n",
       "      <td>2022-02-02</td>\n",
       "      <td>69.34</td>\n",
       "    </tr>\n",
       "    <tr>\n",
       "      <th>397</th>\n",
       "      <td>XLV</td>\n",
       "      <td>2022-02-02</td>\n",
       "      <td>133.35</td>\n",
       "    </tr>\n",
       "    <tr>\n",
       "      <th>398</th>\n",
       "      <td>XLY</td>\n",
       "      <td>2022-02-02</td>\n",
       "      <td>184.96</td>\n",
       "    </tr>\n",
       "    <tr>\n",
       "      <th>399</th>\n",
       "      <td>XOM</td>\n",
       "      <td>2022-02-02</td>\n",
       "      <td>80.62</td>\n",
       "    </tr>\n",
       "  </tbody>\n",
       "</table>\n",
       "</div>"
      ],
      "text/plain": [
       "    symbol       date   price\n",
       "395    XLP 2022-02-02   76.81\n",
       "396    XLU 2022-02-02   69.34\n",
       "397    XLV 2022-02-02  133.35\n",
       "398    XLY 2022-02-02  184.96\n",
       "399    XOM 2022-02-02   80.62"
      ]
     },
     "execution_count": 19,
     "metadata": {},
     "output_type": "execute_result"
    }
   ],
   "source": [
    "assets.tail()"
   ]
  },
  {
   "cell_type": "code",
   "execution_count": 21,
   "metadata": {
    "scrolled": false
   },
   "outputs": [
    {
     "data": {
      "text/plain": [
       "ETF      50\n",
       "Stock    50\n",
       "Name: class, dtype: int64"
      ]
     },
     "metadata": {},
     "output_type": "display_data"
    },
    {
     "data": {
      "text/plain": [
       "MVEU.L    1\n",
       "XLF       1\n",
       "EWJ       1\n",
       "XLP       1\n",
       "REET      1\n",
       "         ..\n",
       "EWU       1\n",
       "EWH       1\n",
       "CHTR      1\n",
       "EWC       1\n",
       "COP       1\n",
       "Name: symbol, Length: 100, dtype: int64"
      ]
     },
     "metadata": {},
     "output_type": "display_data"
    },
    {
     "data": {
      "text/plain": [
       "Consumer Discretionary Select Sector SPDR Fund    1\n",
       "iShares Core S&P 500 ETF                          1\n",
       "AvalonBay Communities                             1\n",
       "Communication Services Select Sector SPDR Fund    1\n",
       "American Electric Power                           1\n",
       "                                                 ..\n",
       "Carrier Global                                    1\n",
       "iShares Gold Trust                                1\n",
       "Industrial Select Sector SPDR Fund                1\n",
       "Genuine Parts                                     1\n",
       "Assurant                                          1\n",
       "Name: name, Length: 100, dtype: int64"
      ]
     },
     "metadata": {},
     "output_type": "display_data"
    },
    {
     "data": {
      "text/plain": [
       "Equities                  37\n",
       "Fixed Income               9\n",
       "Financials                 7\n",
       "Information Technology     7\n",
       "Industrials                7\n",
       "Health Care                6\n",
       "Consumer Discretionary     6\n",
       "Communication Services     3\n",
       "Materials                  3\n",
       "Consumer Staples           3\n",
       "Utilities                  3\n",
       "Commodities                3\n",
       "Real Estate                3\n",
       "Energy                     2\n",
       "Volatility                 1\n",
       "Name: GICS_sector/ETF_type, dtype: int64"
      ]
     },
     "metadata": {},
     "output_type": "display_data"
    },
    {
     "data": {
      "text/plain": [
       "Sector-US                                10\n",
       "Large Cap-Asia                            7\n",
       "Large Cap-Europe                          4\n",
       "Sector-Global                             4\n",
       "Data Processing & Outsourced Services     3\n",
       "Equity Style-Europe                       3\n",
       "Equity Style-North America                3\n",
       "Govt-US                                   3\n",
       "Credit-US                                 2\n",
       "Managed Health Care                       2\n",
       "Paper Packaging                           2\n",
       "Interactive Media & Services              2\n",
       "Precious Metals                           2\n",
       "Large Cap-North America                   2\n",
       "IT Consulting & Other Services            2\n",
       "Electric Utilities                        2\n",
       "Pharmaceuticals                           2\n",
       "Building Products                         2\n",
       "Credit-Europe                             2\n",
       "Industrial Machinery                      1\n",
       "Cable & Satellite                         1\n",
       "Health Care Equipment                     1\n",
       "Trading Companies & Distributors          1\n",
       "Small Cap-Europe                          1\n",
       "Internet & Direct Marketing Retail        1\n",
       "Diversified Banks                         1\n",
       "Multi-line Insurance                      1\n",
       "Small Cap-North America                   1\n",
       "Specialty Chemicals                       1\n",
       "Food Retail                               1\n",
       "Reinsurance                               1\n",
       "Oil & Gas Exploration & Production        1\n",
       "Consumer Finance                          1\n",
       "Large Cap-Global                          1\n",
       "Multi-Utilities                           1\n",
       "Semiconductor Equipment                   1\n",
       "Apparel Retail                            1\n",
       "Industrial REITs                          1\n",
       "Integrated Oil & Gas                      1\n",
       "Asset Management & Custody Banks          1\n",
       "Hotel & Resort REITs                      1\n",
       "Environmental & Facilities Services       1\n",
       "General Merchandise Stores                1\n",
       "US                                        1\n",
       "Casinos & Gaming                          1\n",
       "Personal Products                         1\n",
       "Govt-Global                               1\n",
       "Distillers & Vintners                     1\n",
       "Large Cap-South America                   1\n",
       "Diversified Support Services              1\n",
       "Residential REITs                         1\n",
       "Diversified Commodity                     1\n",
       "Research & Consulting Services            1\n",
       "Property & Casualty Insurance             1\n",
       "Restaurants                               1\n",
       "Health Care Distributors                  1\n",
       "Govt-Europe                               1\n",
       "Life & Health Insurance                   1\n",
       "Specialty Stores                          1\n",
       "Technology Distributors                   1\n",
       "Name: GICS_industry/ETF_subtype, dtype: int64"
      ]
     },
     "metadata": {},
     "output_type": "display_data"
    }
   ],
   "source": [
    "for col in m6_un.columns[1:]:\n",
    "    display(m6_un[col].value_counts())"
   ]
  },
  {
   "cell_type": "code",
   "execution_count": null,
   "metadata": {},
   "outputs": [],
   "source": []
  },
  {
   "cell_type": "code",
   "execution_count": 24,
   "metadata": {},
   "outputs": [
    {
     "data": {
      "text/html": [
       "<div>\n",
       "<style scoped>\n",
       "    .dataframe tbody tr th:only-of-type {\n",
       "        vertical-align: middle;\n",
       "    }\n",
       "\n",
       "    .dataframe tbody tr th {\n",
       "        vertical-align: top;\n",
       "    }\n",
       "\n",
       "    .dataframe thead th {\n",
       "        text-align: right;\n",
       "    }\n",
       "</style>\n",
       "<table border=\"1\" class=\"dataframe\">\n",
       "  <thead>\n",
       "    <tr style=\"text-align: right;\">\n",
       "      <th></th>\n",
       "      <th>ID</th>\n",
       "      <th>Rank1</th>\n",
       "      <th>Rank2</th>\n",
       "      <th>Rank3</th>\n",
       "      <th>Rank4</th>\n",
       "      <th>Rank5</th>\n",
       "      <th>Decision</th>\n",
       "    </tr>\n",
       "  </thead>\n",
       "  <tbody>\n",
       "    <tr>\n",
       "      <th>0</th>\n",
       "      <td>ABBV</td>\n",
       "      <td>0.2</td>\n",
       "      <td>0.2</td>\n",
       "      <td>0.2</td>\n",
       "      <td>0.2</td>\n",
       "      <td>0.2</td>\n",
       "      <td>0.01</td>\n",
       "    </tr>\n",
       "    <tr>\n",
       "      <th>1</th>\n",
       "      <td>ACN</td>\n",
       "      <td>0.2</td>\n",
       "      <td>0.2</td>\n",
       "      <td>0.2</td>\n",
       "      <td>0.2</td>\n",
       "      <td>0.2</td>\n",
       "      <td>0.01</td>\n",
       "    </tr>\n",
       "    <tr>\n",
       "      <th>2</th>\n",
       "      <td>AEP</td>\n",
       "      <td>0.2</td>\n",
       "      <td>0.2</td>\n",
       "      <td>0.2</td>\n",
       "      <td>0.2</td>\n",
       "      <td>0.2</td>\n",
       "      <td>0.01</td>\n",
       "    </tr>\n",
       "    <tr>\n",
       "      <th>3</th>\n",
       "      <td>AIZ</td>\n",
       "      <td>0.2</td>\n",
       "      <td>0.2</td>\n",
       "      <td>0.2</td>\n",
       "      <td>0.2</td>\n",
       "      <td>0.2</td>\n",
       "      <td>0.01</td>\n",
       "    </tr>\n",
       "    <tr>\n",
       "      <th>4</th>\n",
       "      <td>ALLE</td>\n",
       "      <td>0.2</td>\n",
       "      <td>0.2</td>\n",
       "      <td>0.2</td>\n",
       "      <td>0.2</td>\n",
       "      <td>0.2</td>\n",
       "      <td>0.01</td>\n",
       "    </tr>\n",
       "    <tr>\n",
       "      <th>...</th>\n",
       "      <td>...</td>\n",
       "      <td>...</td>\n",
       "      <td>...</td>\n",
       "      <td>...</td>\n",
       "      <td>...</td>\n",
       "      <td>...</td>\n",
       "      <td>...</td>\n",
       "    </tr>\n",
       "    <tr>\n",
       "      <th>95</th>\n",
       "      <td>XLC</td>\n",
       "      <td>0.2</td>\n",
       "      <td>0.2</td>\n",
       "      <td>0.2</td>\n",
       "      <td>0.2</td>\n",
       "      <td>0.2</td>\n",
       "      <td>0.01</td>\n",
       "    </tr>\n",
       "    <tr>\n",
       "      <th>96</th>\n",
       "      <td>XLU</td>\n",
       "      <td>0.2</td>\n",
       "      <td>0.2</td>\n",
       "      <td>0.2</td>\n",
       "      <td>0.2</td>\n",
       "      <td>0.2</td>\n",
       "      <td>0.01</td>\n",
       "    </tr>\n",
       "    <tr>\n",
       "      <th>97</th>\n",
       "      <td>XLP</td>\n",
       "      <td>0.2</td>\n",
       "      <td>0.2</td>\n",
       "      <td>0.2</td>\n",
       "      <td>0.2</td>\n",
       "      <td>0.2</td>\n",
       "      <td>0.01</td>\n",
       "    </tr>\n",
       "    <tr>\n",
       "      <th>98</th>\n",
       "      <td>XLB</td>\n",
       "      <td>0.2</td>\n",
       "      <td>0.2</td>\n",
       "      <td>0.2</td>\n",
       "      <td>0.2</td>\n",
       "      <td>0.2</td>\n",
       "      <td>0.01</td>\n",
       "    </tr>\n",
       "    <tr>\n",
       "      <th>99</th>\n",
       "      <td>VXX</td>\n",
       "      <td>0.2</td>\n",
       "      <td>0.2</td>\n",
       "      <td>0.2</td>\n",
       "      <td>0.2</td>\n",
       "      <td>0.2</td>\n",
       "      <td>0.01</td>\n",
       "    </tr>\n",
       "  </tbody>\n",
       "</table>\n",
       "<p>100 rows × 7 columns</p>\n",
       "</div>"
      ],
      "text/plain": [
       "      ID  Rank1  Rank2  Rank3  Rank4  Rank5  Decision\n",
       "0   ABBV    0.2    0.2    0.2    0.2    0.2      0.01\n",
       "1    ACN    0.2    0.2    0.2    0.2    0.2      0.01\n",
       "2    AEP    0.2    0.2    0.2    0.2    0.2      0.01\n",
       "3    AIZ    0.2    0.2    0.2    0.2    0.2      0.01\n",
       "4   ALLE    0.2    0.2    0.2    0.2    0.2      0.01\n",
       "..   ...    ...    ...    ...    ...    ...       ...\n",
       "95   XLC    0.2    0.2    0.2    0.2    0.2      0.01\n",
       "96   XLU    0.2    0.2    0.2    0.2    0.2      0.01\n",
       "97   XLP    0.2    0.2    0.2    0.2    0.2      0.01\n",
       "98   XLB    0.2    0.2    0.2    0.2    0.2      0.01\n",
       "99   VXX    0.2    0.2    0.2    0.2    0.2      0.01\n",
       "\n",
       "[100 rows x 7 columns]"
      ]
     },
     "execution_count": 24,
     "metadata": {},
     "output_type": "execute_result"
    }
   ],
   "source": [
    "template"
   ]
  },
  {
   "cell_type": "code",
   "execution_count": null,
   "metadata": {},
   "outputs": [],
   "source": []
  }
 ],
 "metadata": {
  "kernelspec": {
   "display_name": "Python 3",
   "language": "python",
   "name": "python3"
  },
  "language_info": {
   "codemirror_mode": {
    "name": "ipython",
    "version": 3
   },
   "file_extension": ".py",
   "mimetype": "text/x-python",
   "name": "python",
   "nbconvert_exporter": "python",
   "pygments_lexer": "ipython3",
   "version": "3.6.6"
  }
 },
 "nbformat": 4,
 "nbformat_minor": 2
}
