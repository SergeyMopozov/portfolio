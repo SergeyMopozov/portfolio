{
 "cells": [
  {
   "cell_type": "code",
   "execution_count": 2,
   "metadata": {},
   "outputs": [],
   "source": [
    "import pandas as pd\n",
    "from glob import glob"
   ]
  },
  {
   "cell_type": "code",
   "execution_count": 6,
   "metadata": {},
   "outputs": [
    {
     "data": {
      "text/plain": [
       "['../../../data/kaggle/TPS_JUNE2021/lgbm_balanced.csv',\n",
       " '../../../data/kaggle/TPS_JUNE2021/lgbm_baseline.csv',\n",
       " '../../../data/kaggle/TPS_JUNE2021/lgbm_fee.csv',\n",
       " '../../../data/kaggle/TPS_JUNE2021/lgbm_fee_train_proba.csv',\n",
       " '../../../data/kaggle/TPS_JUNE2021/lgbm_not_balanced_1000.csv',\n",
       " '../../../data/kaggle/TPS_JUNE2021/lgbm_not_balanced_complex_fe_100.csv',\n",
       " '../../../data/kaggle/TPS_JUNE2021/lgbm_not_balanced_pca.csv',\n",
       " '../../../data/kaggle/TPS_JUNE2021/lgbm_not_balanced_pca_100.csv',\n",
       " '../../../data/kaggle/TPS_JUNE2021/lightautoml_2lvl_8hours.csv',\n",
       " '../../../data/kaggle/TPS_JUNE2021/max_sub_v1-6.csv',\n",
       " '../../../data/kaggle/TPS_JUNE2021/mean_sub_v1-6.csv',\n",
       " '../../../data/kaggle/TPS_JUNE2021/median_sub_v1-6.csv',\n",
       " '../../../data/kaggle/TPS_JUNE2021/rfc_baseline.csv',\n",
       " '../../../data/kaggle/TPS_JUNE2021/rfc_baseline_train_proba.csv',\n",
       " '../../../data/kaggle/TPS_JUNE2021/svm_baseline.csv',\n",
       " '../../../data/kaggle/TPS_JUNE2021/svm_baseline_train_proba.csv']"
      ]
     },
     "execution_count": 6,
     "metadata": {},
     "output_type": "execute_result"
    }
   ],
   "source": [
    "best_sub_list = sorted(glob('../../../data/kaggle/TPS_JUNE2021/*.csv'))\n",
    "best_sub_list"
   ]
  },
  {
   "cell_type": "code",
   "execution_count": 6,
   "metadata": {},
   "outputs": [
    {
     "data": {
      "text/plain": [
       "['../../../data/kaggle/TPS_JUNE2021/lgbm_balanced.csv',\n",
       " '../../../data/kaggle/TPS_JUNE2021/lgbm_baseline.csv']"
      ]
     },
     "execution_count": 6,
     "metadata": {},
     "output_type": "execute_result"
    }
   ],
   "source": [
    "best_sub_list= ['../../../data/kaggle/TPS_JUNE2021/lgbm_balanced.csv',\n",
    " '../../../data/kaggle/TPS_JUNE2021/lgbm_baseline.csv']\n",
    "best_sub_list"
   ]
  },
  {
   "cell_type": "code",
   "execution_count": 7,
   "metadata": {},
   "outputs": [],
   "source": [
    "sub = {}\n",
    "for i, p in enumerate(best_sub_list):\n",
    "    sub[i] = pd.read_csv(p)    "
   ]
  },
  {
   "cell_type": "code",
   "execution_count": 8,
   "metadata": {},
   "outputs": [],
   "source": [
    "pd.concat(sub.values()).groupby('id').mean().to_csv('../../../data/kaggle/TPS_JUNE2021/mean_sub_v1-6.csv', )\n",
    "pd.concat(sub.values()).groupby('id').median().to_csv('../../../data/kaggle/TPS_JUNE2021/median_sub_v1-6.csv')"
   ]
  },
  {
   "cell_type": "code",
   "execution_count": 10,
   "metadata": {},
   "outputs": [],
   "source": [
    "pd.concat(sub.values()).groupby('id').max().to_csv('../../../data/kaggle/TPS_JUNE2021/max_sub_v1-6.csv')"
   ]
  },
  {
   "cell_type": "code",
   "execution_count": null,
   "metadata": {},
   "outputs": [],
   "source": []
  },
  {
   "cell_type": "markdown",
   "metadata": {},
   "source": [
    "### Make dataset for stacking"
   ]
  },
  {
   "cell_type": "code",
   "execution_count": 7,
   "metadata": {},
   "outputs": [],
   "source": [
    "test = ['../../../data/kaggle/TPS_JUNE2021/lgbm_fee.csv',\n",
    "         '../../../data/kaggle/TPS_JUNE2021/rfc_baseline.csv',\n",
    "         '../../../data/kaggle/TPS_JUNE2021/svm_baseline.csv']\n",
    "\n",
    "train = ['../../../data/kaggle/TPS_JUNE2021/lgbm_fee_train_proba.csv',\n",
    "         '../../../data/kaggle/TPS_JUNE2021/rfc_baseline_train_proba.csv',\n",
    "         '../../../data/kaggle/TPS_JUNE2021/svm_baseline_train_proba.csv']"
   ]
  },
  {
   "cell_type": "code",
   "execution_count": 12,
   "metadata": {},
   "outputs": [],
   "source": [
    "train_df = []\n",
    "for t, n in zip(train, ['lgbm', 'rfc', 'svm']):\n",
    "    temp = pd.read_csv(t).drop(columns=['id', 'target'])\n",
    "    temp.columns = [col+f'_{n}' for col in temp.columns]\n",
    "    train_df.append(temp)\n",
    "    \n",
    "    \n",
    "test_df = []\n",
    "for t, n in zip(test, ['lgbm', 'rfc', 'svm']):\n",
    "    temp = pd.read_csv(t).drop(columns=['id'])\n",
    "    temp.columns = [col+f'_{n}' for col in temp.columns]\n",
    "    test_df.append(temp)"
   ]
  },
  {
   "cell_type": "code",
   "execution_count": 14,
   "metadata": {},
   "outputs": [],
   "source": [
    "pd.concat(test_df, axis=1).to_csv('../../../data/kaggle/TPS_JUNE2021/stack/test_stack.csv')\n",
    "pd.concat(train_df, axis=1).to_csv('../../../data/kaggle/TPS_JUNE2021/stack/train_stack.csv')"
   ]
  },
  {
   "cell_type": "code",
   "execution_count": 16,
   "metadata": {},
   "outputs": [],
   "source": [
    "path = '../../../data/kaggle/TPS_JUNE2021/tabular-playground-series-jun-2021/'\n",
    "train_data = pd.read_csv(path + 'train.csv')\n",
    "y = train_data['target'].to_csv('../../../data/kaggle/TPS_JUNE2021/stack/y.csv')"
   ]
  },
  {
   "cell_type": "code",
   "execution_count": null,
   "metadata": {},
   "outputs": [],
   "source": []
  },
  {
   "cell_type": "code",
   "execution_count": null,
   "metadata": {},
   "outputs": [],
   "source": []
  },
  {
   "cell_type": "code",
   "execution_count": null,
   "metadata": {},
   "outputs": [],
   "source": []
  },
  {
   "cell_type": "code",
   "execution_count": null,
   "metadata": {},
   "outputs": [],
   "source": []
  },
  {
   "cell_type": "code",
   "execution_count": null,
   "metadata": {},
   "outputs": [],
   "source": []
  },
  {
   "cell_type": "code",
   "execution_count": null,
   "metadata": {},
   "outputs": [],
   "source": []
  },
  {
   "cell_type": "code",
   "execution_count": null,
   "metadata": {},
   "outputs": [],
   "source": []
  },
  {
   "cell_type": "code",
   "execution_count": null,
   "metadata": {},
   "outputs": [],
   "source": []
  },
  {
   "cell_type": "code",
   "execution_count": null,
   "metadata": {},
   "outputs": [],
   "source": []
  }
 ],
 "metadata": {
  "kernelspec": {
   "display_name": "Python 3",
   "language": "python",
   "name": "python3"
  },
  "language_info": {
   "codemirror_mode": {
    "name": "ipython",
    "version": 3
   },
   "file_extension": ".py",
   "mimetype": "text/x-python",
   "name": "python",
   "nbconvert_exporter": "python",
   "pygments_lexer": "ipython3",
   "version": "3.6.6"
  }
 },
 "nbformat": 4,
 "nbformat_minor": 2
}
