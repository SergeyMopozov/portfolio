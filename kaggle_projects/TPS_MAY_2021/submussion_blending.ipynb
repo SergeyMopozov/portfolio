{
 "cells": [
  {
   "cell_type": "code",
   "execution_count": 2,
   "metadata": {},
   "outputs": [],
   "source": [
    "import pandas as pd\n",
    "from glob import glob"
   ]
  },
  {
   "cell_type": "code",
   "execution_count": 17,
   "metadata": {},
   "outputs": [
    {
     "data": {
      "text/plain": [
       "['../../../data/kaggle/TPS_MAY2021/lightautoml_2lv1.csv',\n",
       " '../../../data/kaggle/TPS_MAY2021/lightautoml_2lv10.csv',\n",
       " '../../../data/kaggle/TPS_MAY2021/lightautoml_2lv11.csv',\n",
       " '../../../data/kaggle/TPS_MAY2021/lightautoml_2lv2.csv',\n",
       " '../../../data/kaggle/TPS_MAY2021/lightautoml_2lv3.csv',\n",
       " '../../../data/kaggle/TPS_MAY2021/lightautoml_2lv4.csv',\n",
       " '../../../data/kaggle/TPS_MAY2021/lightautoml_2lv5.csv',\n",
       " '../../../data/kaggle/TPS_MAY2021/lightautoml_2lv6.csv',\n",
       " '../../../data/kaggle/TPS_MAY2021/lightautoml_2lv7.csv',\n",
       " '../../../data/kaggle/TPS_MAY2021/lightautoml_2lv8.csv',\n",
       " '../../../data/kaggle/TPS_MAY2021/lightautoml_2lv9.csv',\n",
       " '../../../data/kaggle/TPS_MAY2021/mean_sub_v1-6.csv',\n",
       " '../../../data/kaggle/TPS_MAY2021/median_sub_v1-6.csv']"
      ]
     },
     "execution_count": 17,
     "metadata": {},
     "output_type": "execute_result"
    }
   ],
   "source": [
    "best_sub_list = sorted(glob('../../../data/kaggle/TPS_MAY2021/*.csv'))\n",
    "best_sub_list"
   ]
  },
  {
   "cell_type": "code",
   "execution_count": 19,
   "metadata": {},
   "outputs": [
    {
     "data": {
      "text/plain": [
       "['../../../data/kaggle/TPS_MAY2021/lightautoml_2lv1.csv',\n",
       " '../../../data/kaggle/TPS_MAY2021/lightautoml_2lv10.csv',\n",
       " '../../../data/kaggle/TPS_MAY2021/lightautoml_2lv11.csv',\n",
       " '../../../data/kaggle/TPS_MAY2021/lightautoml_2lv2.csv',\n",
       " '../../../data/kaggle/TPS_MAY2021/lightautoml_2lv3.csv',\n",
       " '../../../data/kaggle/TPS_MAY2021/lightautoml_2lv4.csv',\n",
       " '../../../data/kaggle/TPS_MAY2021/lightautoml_2lv5.csv',\n",
       " '../../../data/kaggle/TPS_MAY2021/lightautoml_2lv6.csv',\n",
       " '../../../data/kaggle/TPS_MAY2021/lightautoml_2lv9.csv']"
      ]
     },
     "execution_count": 19,
     "metadata": {},
     "output_type": "execute_result"
    }
   ],
   "source": [
    "best_sub_list= ['../../../data/kaggle/TPS_MAY2021/lightautoml_2lv1.csv',\n",
    " '../../../data/kaggle/TPS_MAY2021/lightautoml_2lv10.csv',\n",
    " '../../../data/kaggle/TPS_MAY2021/lightautoml_2lv11.csv',\n",
    " '../../../data/kaggle/TPS_MAY2021/lightautoml_2lv2.csv',\n",
    " '../../../data/kaggle/TPS_MAY2021/lightautoml_2lv3.csv',\n",
    " '../../../data/kaggle/TPS_MAY2021/lightautoml_2lv4.csv',\n",
    " '../../../data/kaggle/TPS_MAY2021/lightautoml_2lv5.csv',\n",
    " '../../../data/kaggle/TPS_MAY2021/lightautoml_2lv6.csv',\n",
    " '../../../data/kaggle/TPS_MAY2021/lightautoml_2lv9.csv']\n",
    "best_sub_list"
   ]
  },
  {
   "cell_type": "code",
   "execution_count": 20,
   "metadata": {},
   "outputs": [],
   "source": [
    "sub = {}\n",
    "for i, p in enumerate(best_sub_list):\n",
    "    sub[i] = pd.read_csv(p)    "
   ]
  },
  {
   "cell_type": "code",
   "execution_count": 21,
   "metadata": {},
   "outputs": [],
   "source": [
    "pd.concat(sub.values()).groupby('id').mean().to_csv('../../../data/kaggle/TPS_MAY2021/mean_sub_v1-6.csv', )\n",
    "pd.concat(sub.values()).groupby('id').median().to_csv('../../../data/kaggle/TPS_MAY2021/median_sub_v1-6.csv', )"
   ]
  },
  {
   "cell_type": "code",
   "execution_count": null,
   "metadata": {},
   "outputs": [],
   "source": []
  },
  {
   "cell_type": "code",
   "execution_count": null,
   "metadata": {},
   "outputs": [],
   "source": []
  }
 ],
 "metadata": {
  "kernelspec": {
   "display_name": "Python 3",
   "language": "python",
   "name": "python3"
  },
  "language_info": {
   "codemirror_mode": {
    "name": "ipython",
    "version": 3
   },
   "file_extension": ".py",
   "mimetype": "text/x-python",
   "name": "python",
   "nbconvert_exporter": "python",
   "pygments_lexer": "ipython3",
   "version": "3.6.6"
  }
 },
 "nbformat": 4,
 "nbformat_minor": 2
}
