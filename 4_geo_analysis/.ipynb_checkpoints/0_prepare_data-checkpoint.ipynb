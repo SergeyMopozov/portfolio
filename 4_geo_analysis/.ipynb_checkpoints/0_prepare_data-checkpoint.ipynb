{
 "cells": [
  {
   "cell_type": "code",
   "execution_count": 244,
   "metadata": {},
   "outputs": [],
   "source": [
    "import pandas as pd\n",
    "from glob import glob\n",
    "import matplotlib.pyplot as plt\n",
    "from geopy import geocoders\n",
    "import time\n",
    "from datetime import datetime\n",
    "import numpy as np"
   ]
  },
  {
   "cell_type": "markdown",
   "metadata": {},
   "source": [
    "## 1. Поиск данных\n",
    "В течении получаса web-серфинга удалось собрать данные о локациях объектов наиболее крупных сетевых комппаний в РФ сегменте retail и доставка"
   ]
  },
  {
   "cell_type": "code",
   "execution_count": 362,
   "metadata": {},
   "outputs": [
    {
     "data": {
      "text/plain": [
       "['./data/nets/10_Красное и Белое.xlsx',\n",
       " './data/nets/11_магнит_.xlsx',\n",
       " './data/nets/1_sber_atm.xlsx',\n",
       " './data/nets/3_boxberry_pvz.xlsx',\n",
       " './data/nets/4_SDEK.xlsx',\n",
       " './data/nets/5_ozon_.xlsx',\n",
       " './data/nets/6_pickpoint.xls',\n",
       " './data/nets/7_iml.xlsx',\n",
       " './data/nets/8_Х5_Ритейл_Групп.xlsx',\n",
       " './data/nets/9_Дикси.xlsx',\n",
       " './data/nets/all_data.csv',\n",
       " './data/nets/geografiia_i_tarify_ozon_.xlsx',\n",
       " './data/nets/ops_data.csv',\n",
       " './data/nets/retail',\n",
       " './data/nets/sber_office.xls',\n",
       " './data/nets/x5_points.csv']"
      ]
     },
     "execution_count": 362,
     "metadata": {},
     "output_type": "execute_result"
    }
   ],
   "source": [
    "# загрузить данные из различных источников - разнородные excel таблицы\n",
    "# сети: X5, магнит, дикси, почта россии, сбербанк\n",
    "sorted(glob('./data/nets/*'))"
   ]
  },
  {
   "cell_type": "markdown",
   "metadata": {},
   "source": [
    "## 2. Создадим датафреймы для каждой из сетей"
   ]
  },
  {
   "cell_type": "code",
   "execution_count": null,
   "metadata": {},
   "outputs": [],
   "source": [
    "#1 X5\n",
    "x5 = pd.read_csv('./data/nets/x5_points.csv', index_col=0)\n",
    "#2 magnit\n",
    "magnit = pd.read_excel('./data/nets/11_магнит_.xlsx')\n",
    "#3 russian post\n",
    "pr_all = pd.read_csv('./data/nets/all_data.csv', index_col=0)\n",
    "#4 boxbery\n",
    "boxberry = pd.read_excel('./data/nets/3_boxberry_pvz.xlsx')\n",
    "#5 sberbank and sberbank_office\n",
    "sber_atm = pd.read_excel('./data/nets/1_sber_atm.xlsx')\n",
    "sber_office = pd.read_excel('./data/nets/sber_office.xls', header=1)\n",
    "#6 diksi\n",
    "diksi = pd.read_excel('./data/nets/9_Дикси.xlsx')\n",
    "#7 krasnoe & beloe\n",
    "kb = pd.read_excel('./data/nets/10_Красное и Белое.xlsx')\n",
    "#8 pickpoint\n",
    "pickpoint = pd.read_excel('./data/nets/6_pickpoint.xls')\n",
    "\n",
    "data_frames = [x5, magnit, pr_all, boxberry, sber_atm, sber_office, diksi, kb, pickpoint]"
   ]
  },
  {
   "cell_type": "markdown",
   "metadata": {},
   "source": [
    "## 3. Изучения структуры иходных данных\n",
    "Посмотрим какая информация храниться в исходных таблицах, для этого выведем написать первые строки каждой таблицы"
   ]
  },
  {
   "cell_type": "code",
   "execution_count": 187,
   "metadata": {
    "scrolled": false
   },
   "outputs": [
    {
     "name": "stdout",
     "output_type": "stream",
     "text": [
      "Код SAP ТТ                                                     3000\n",
      "Адрес             623462, Свердловская обл, Каменский р-н, Мартю...\n",
      "Город                                                    пгт.мартюш\n",
      "Регион                                            Свердловская обл.\n",
      "Код SAP РЦ                                                      241\n",
      "РЦ отправитель                           РЦ Кольцово (Екатеринбург)\n",
      "Срок дней                                                         6\n",
      "Частота                                                           6\n",
      "Тарифная зона                                                     7\n",
      "Дшка NEW                                                    D5 - D6\n",
      "График работы                                           08:00-23:00\n",
      "Касса                                                           NaN\n",
      "Постамат Халва                                                  NaN\n",
      "lat                                                         56.4006\n",
      "lng                                                         61.8901\n",
      "adress            улица Ленина, 11А, посёлок городского типа Мар...\n",
      "city                                                         мартюш\n",
      "idx                                                          623462\n",
      "Name: 0, dtype: object \n",
      "\n",
      "Ссылка на объект                                         https://yandex.ru/maps/?ll=38.973799%2C45.0666...\n",
      "Регион                                                                                         Южный округ\n",
      "Филиал                                                                                    Краснодар Восток\n",
      "Название ТТ                                                                       Краснодар 2 Дзержинского\n",
      "Код ТТ                                                                                              992301\n",
      "Город                                                                                            Краснодар\n",
      "Адрес                                                    350000, Краснодарский край, Краснодар г, Дзерж...\n",
      "CITY_ID                                                                                               2439\n",
      "Всего ТТ                                                                                               314\n",
      "% ТТ                                                                                            0.00318471\n",
      "WHS_ID                                                                                                6594\n",
      "LATITUDE                                                                                           45.0667\n",
      "LONGITUDE                                                                                          38.9738\n",
      "Почта в рад 500                                                                                          1\n",
      "Почта в рад 1500                                                                                         1\n",
      "Население                                                                                           990203\n",
      "Население более 500к                                                                                     1\n",
      "Процент покрытия почты                                                                               0.804\n",
      "Процент покрытия почты по 10%                                                                          0.8\n",
      "Этаж                                                                                                     1\n",
      "Формат                                                                                                   2\n",
      "Признак >1500, <500, насел>500к, этаж 1, покр ПР <30%                                                    0\n",
      "Признак >1500, насел>500к, покр ПР <30%                                                                  0\n",
      "Признак >1500,  <500, насел>500к                                                                         0\n",
      "Признак 37 городв НАШ                                                                            Краснодар\n",
      "Траффик, чел/период                                                                                    NaN\n",
      "Площадь магазина, м2                                                                                   NaN\n",
      "Год открытия                                                                                           NaN\n",
      "Количество АПС, ПВЗ в радиусе 500 метров от магазина                                                   NaN\n",
      "Name: 0, dtype: object \n",
      "\n",
      "Индекс                                                                                                    606428\n",
      "Индекс вышестоящего объекта                                                                               606429\n",
      "Наименование ОПС                                                                                       1 МАЯ ППС\n",
      "Наименование Почтамта                                                                            БАЛАХНА ПОЧТАМТ\n",
      "Наименование УФПС                                                                     УФПС НИЖЕГОРОДСКОЙ ОБЛАСТИ\n",
      "Макрорегион                                                                                            Волга - 1\n",
      "Численность населения в населенном пункте, чел.                                                              NaN\n",
      "Численность населения, проживающего в зоне обслуживания, чел.                                                NaN\n",
      "Расстояние до почтамтов, км.                                                                                 NaN\n",
      "Радиус зоны обслуживания, км.                                                                                NaN\n",
      "Населенный пункт                                                                                           1 Мая\n",
      "Район                                                                                           Балахнинский р-н\n",
      "Адрес объекта                                                    Нижегородская обл., Балахнинский р-н, пгт 1 Мая\n",
      "lat                                                                                                      56.4144\n",
      "lng                                                                                                      43.6526\n",
      "Тип объекта почтовой связи                                                                  Пункт почтовой связи\n",
      "Тип ОПС                                                                                                      ППС\n",
      "Name: 0, dtype: object \n",
      "\n",
      "Дата открытия                                                            25.06.2018\n",
      "Наименование                                        Абакан Кати Перекрещенко_1909_С\n",
      "Город                                                                        Абакан\n",
      "Область                                                                     Хакасия\n",
      "Адрес                              655016, Абакан г, Кати Перекрещенко ул, д.10-16н\n",
      "График работы                                  пн-пт:10.00-19.00, сб-вс:10.00-18.00\n",
      "Описание проезда                  Остановка: \"Дворец Молодежи\", \"Северный рынок\"...\n",
      "Координаты                                                     53.740823, 91.434581\n",
      "КД                                                                              Нет\n",
      "Тип грузоподьемности отделения                           До 31 кг  ВхШхД: 120х80х50\n",
      "Срок доставки из Москвы                                                           7\n",
      "Тарифная зона                                                                     6\n",
      "Name: 0, dtype: object \n",
      "\n",
      "Идентификационный номер УС                                            10038\n",
      "Тип УС                                                             Банкомат\n",
      "Субъект федерации                                                      Респ\n",
      "Название субъекта федерации                                          Адыгея\n",
      "Регион                                                                     \n",
      "Название региона                                                           \n",
      "Населенный пункт                                                          г\n",
      "Название населенного пункта                                          Майкоп\n",
      "Район населенного пункта                                                   \n",
      "Название района нас. пункта                                                \n",
      "Улица                                                                    ул\n",
      "Название улицы                                                        Мопра\n",
      "Дом                                                                     ДОМ\n",
      "Номер дома                                                               56\n",
      "Строение                                                                   \n",
      "Номер строения                                                             \n",
      "Индекс                                                               385000\n",
      "addres                          Респ Адыгея   г Майкоп   ул Мопра ДОМ 56   \n",
      "Name: 0, dtype: object \n",
      "\n",
      "Код подразделения                                                       013859201\n",
      "Наименование подразделения                                      Доп.офис №8592/01\n",
      "Сегменты по обслуживанию ФЛ                                 МС (массовый сегмент)\n",
      "Сегменты по обслуживанию ЮЛ                                                      \n",
      "Почтовый индекс                                                            308600\n",
      "Субъект РФ                                                   Белгородская область\n",
      "Населенный пункт                                                      г. Белгород\n",
      "Наименование улицы                                         улица Князя Трубецкого\n",
      "Номер дома                                                                     24\n",
      "Доп.информация по адресу                                                         \n",
      "Станция метро                                                                    \n",
      "Режим работы                                   Пн.,\\nВт.,\\nСр.,\\nЧт.,\\nПт.,\\nСб.,\n",
      "Время работы                    09:00 18:30\\n09:00 18:30\\n09:00 18:30\\n09:00 1...\n",
      "Контакты                               (800)5555550 900 (номер для моб.устройств)\n",
      "adress                          Белгородская область г. Белгород улица Князя Т...\n",
      "Name: 0, dtype: object \n",
      "\n",
      "GLN                                    4607180440518\n",
      "Название                                 ДИКСИ-77217\n",
      "Город                                      г. Москва\n",
      "Адрес          г. Москва, ул. Судостроительная, д. 1\n",
      "Район                                            NaN\n",
      "НаселПункт                                       NaN\n",
      "Дом                                              NaN\n",
      "Корпус                                           NaN\n",
      "Кварт                                            NaN\n",
      "Индекс                                        115470\n",
      "Код региона                                       77\n",
      "ИНН                                       5036045205\n",
      "КПП                                        772545003\n",
      "Name: 0, dtype: object \n",
      "\n",
      "GLN                          4607946550000\n",
      "Название        №1 (IDfsrar: 030000082563)\n",
      "Город                              Копейск\n",
      "Адрес          Коммунистический пр-кт 13 а\n",
      "Район                                  NaN\n",
      "НаселПункт                             NaN\n",
      "Дом                                    NaN\n",
      "Корпус                                 NaN\n",
      "Кварт                                  NaN\n",
      "Индекс                              456618\n",
      "Код региона                              #\n",
      "ИНН                             4501143110\n",
      "КПП                              743045002\n",
      "Name: 0, dtype: object \n",
      "\n",
      "№ п/п                                                                 1\n",
      "ID точки                                                       5005-297\n",
      "Город                                                            Москва\n",
      "Область                                                 Московская обл.\n",
      "Тип Пункта                                                     Постамат\n",
      "Название пункта приема/выдачи    Постамат: Халва: Пятерочка: Мосрентген\n",
      "Адрес пункта приема/выдачи          108820, поселение Мосрентген, д. 31\n",
      "Метро                                                               NaN\n",
      "Макс. габариты 1 места, см                               32.9x45.7x42.7\n",
      "Макс. размер коробки, см                                            XXL\n",
      "Макс. вес 1 места, кг                                             15 кг\n",
      "Способы оплаты                                                    Карта\n",
      "Время работы                                       ежедневно: с 8-23:45\n",
      "Unnamed: 13                                                           2\n",
      "Unnamed: 14                                                           1\n",
      "График обслуживания                                           ежедневно\n",
      "Услуга по приему возвратов                                          Нет\n",
      "Name: 0, dtype: object \n",
      "\n"
     ]
    }
   ],
   "source": [
    "for frame in data_frames:\n",
    "    print(frame.iloc[0], '\\n')"
   ]
  },
  {
   "cell_type": "markdown",
   "metadata": {},
   "source": [
    "## 4. Выделение общей структуры информации\n",
    "Проанализировав структуру информации в каждой из таблиц были выделены сущности встречающиеся в большинстве таблиц. Далее приведем каждую из таблиц к \"нормальной\" форме для дальнейшего объединения."
   ]
  },
  {
   "cell_type": "code",
   "execution_count": 104,
   "metadata": {},
   "outputs": [],
   "source": [
    "# чистка и формирование единного датасета\n",
    "mask = ['idx', 'idx_upper_obj', 'post_index', 'adress', 'lat', 'lng', \n",
    "        'name', 'upper_obj_name', 'region', 'macro_region', 'obj_type', 'net_name', 'info']"
   ]
  },
  {
   "cell_type": "code",
   "execution_count": 23,
   "metadata": {},
   "outputs": [],
   "source": [
    "norm_x5 = pd.DataFrame(columns=mask)\n",
    "\n",
    "norm_x5['idx'] = x5['Код SAP ТТ']\n",
    "norm_x5['idx_upper_obj'] = x5['Код SAP РЦ']\n",
    "norm_x5['post_index'] = x5['idx']\n",
    "norm_x5['adress'] = x5['adress']\n",
    "norm_x5['lat'] = x5['lat']\n",
    "norm_x5['lng'] = x5['lng']\n",
    "norm_x5['upper_obj_name'] = x5['РЦ отправитель']\n",
    "norm_x5['region'] = x5['Регион']\n",
    "norm_x5['obj_type'] = 'магазин'\n",
    "norm_x5['net_name'] = 'x5'\n",
    "norm_x5['info'] = x5['График работы']\n",
    "norm_x5.to_csv('./data/clean_data/1_norm_x5.csv')"
   ]
  },
  {
   "cell_type": "code",
   "execution_count": 136,
   "metadata": {},
   "outputs": [],
   "source": [
    "norm_magnit = pd.DataFrame(columns=mask)\n",
    "\n",
    "norm_magnit['idx'] = magnit['Код ТТ']\n",
    "norm_magnit['post_index'] = magnit['Адрес'].str.split(',').str.get(0)\n",
    "norm_magnit['adress'] = magnit['Адрес']\n",
    "norm_magnit['lat'] = magnit['LATITUDE']\n",
    "norm_magnit['lng'] = magnit['LONGITUDE']\n",
    "norm_magnit['name'] = magnit['Название ТТ']\n",
    "norm_magnit['region'] = magnit['Филиал']\n",
    "norm_magnit['macro_region'] = magnit['Регион']\n",
    "norm_magnit['obj_type'] = 'магазин'\n",
    "norm_magnit['net_name'] = 'magnit'\n",
    "norm_magnit['info'] = magnit['Ссылка на объект']\n",
    "\n",
    "norm_magnit.to_csv('./data/clean_data/2_norm_magnit.csv')"
   ]
  },
  {
   "cell_type": "code",
   "execution_count": 138,
   "metadata": {},
   "outputs": [],
   "source": [
    "norm_rp = pd.DataFrame(columns=mask)\n",
    "\n",
    "norm_rp['idx'] = pr_all['Индекс']\n",
    "norm_rp['idx_upper_obj'] = pr_all['Индекс вышестоящего объекта']\n",
    "norm_rp['post_index'] = pr_all['Индекс']\n",
    "norm_rp['adress'] = pr_all['Адрес объекта']\n",
    "norm_rp['lat'] = pr_all['lat']\n",
    "norm_rp['lng'] = pr_all['lng']\n",
    "norm_rp['name'] = pr_all['Наименование ОПС']\n",
    "norm_rp['upper_obj_name'] = pr_all['Наименование Почтамта']\n",
    "norm_rp['region'] = pr_all['Наименование УФПС']\n",
    "norm_rp['macro_region'] = pr_all['Макрорегион']\n",
    "norm_rp['obj_type'] = pr_all['Тип ОПС']\n",
    "norm_rp['net_name'] = 'russian_post'\n",
    "norm_rp['info'] = pr_all['Численность населения, проживающего в зоне обслуживания, чел.']\n",
    "norm_rp.dropna(subset=['lat', 'lng', 'idx'], inplace=True)\n",
    "\n",
    "norm_rp.to_csv('./data/clean_data/3_norm_rp.csv')"
   ]
  },
  {
   "cell_type": "code",
   "execution_count": 133,
   "metadata": {},
   "outputs": [],
   "source": [
    "norm_boxberry = pd.DataFrame(columns=mask)\n",
    "\n",
    "norm_boxberry['idx'] = boxberry['Наименование']\n",
    "norm_boxberry['post_index'] = boxberry['Адрес'].str.split(',').str.get(0)\n",
    "norm_boxberry['adress'] = boxberry['Адрес']\n",
    "norm_boxberry['lat'] = boxberry['Координаты'].str.split(',').str.get(0)\n",
    "norm_boxberry['lng'] = boxberry['Координаты'].str.split(',').str.get(1)\n",
    "norm_boxberry['name'] = boxberry['Наименование']\n",
    "norm_boxberry['region'] = boxberry['Область']\n",
    "norm_boxberry['obj_type'] = boxberry['Тип грузоподьемности отделения']\n",
    "norm_boxberry['net_name'] = 'boxberry'\n",
    "norm_boxberry['info'] = boxberry['График работы']\n",
    "\n",
    "norm_boxberry.to_csv('./data/clean_data/4_norm_boxberry.csv')"
   ]
  },
  {
   "cell_type": "code",
   "execution_count": 107,
   "metadata": {},
   "outputs": [],
   "source": [
    "sber_atm = sber_atm.fillna('')\n",
    "addr_cols = ['Субъект федерации', 'Название субъекта федерации', 'Регион', 'Название региона',\n",
    "       'Населенный пункт', 'Название населенного пункта',\n",
    "       'Район населенного пункта', 'Название района нас. пункта', 'Улица',\n",
    "       'Название улицы', 'Дом', 'Номер дома', 'Строение', 'Номер строения']\n",
    "sber_atm['adress'] = ''\n",
    "for name in addr_cols:\n",
    "    sber_atm['adress'] += sber_atm[name] + ' '\n",
    "\n",
    "norm_sber = pd.DataFrame(columns=mask)\n",
    "norm_sber['idx'] = sber_atm['Идентификационный номер УС']\n",
    "norm_sber['post_index'] = sber_atm['Тип УС']\n",
    "norm_sber['adress'] = sber_atm['adress']\n",
    "norm_sber['net_name'] = 'sber_atm'\n",
    "norm_sber['region'] = sber_atm['Название субъекта федерации']\n",
    "norm_sber.to_csv('./data/clean_data/5_norm_sber.csv')"
   ]
  },
  {
   "cell_type": "code",
   "execution_count": 170,
   "metadata": {},
   "outputs": [],
   "source": [
    "sber_office = sber_office.fillna('')\n",
    "\n",
    "addr_cols = ['Субъект РФ', 'Населенный пункт',\n",
    "       'Наименование улицы', 'Номер дома', 'Доп.информация по адресу']\n",
    "sber_office['adress'] = ''\n",
    "for name in addr_cols:\n",
    "    sber_office['adress'] += sber_office[name] + ' '\n",
    "    \n",
    "norm_sber_office = pd.DataFrame(columns=mask)\n",
    "\n",
    "norm_sber_office['idx'] = sber_office['Код подразделения']\n",
    "norm_sber_office['post_index'] = sber_office['Почтовый индекс']\n",
    "norm_sber_office['adress'] = sber_office['adress']\n",
    "norm_sber_office['name'] = sber_office['Наименование подразделения']\n",
    "norm_sber_office['region'] = sber_office['Субъект РФ']\n",
    "norm_sber_office['obj_type'] = 'отделение'\n",
    "norm_sber_office['net_name'] = 'sber_office'\n",
    "norm_sber_office['info'] = sber_office['Режим работы'].str.replace('\\n', '') \\\n",
    "                            + sber_office['Время работы'].str.replace('\\n',' ')\n",
    "\n",
    "norm_sber_office.to_csv('./data/clean_data/5_norm_sber_office.csv')"
   ]
  },
  {
   "cell_type": "code",
   "execution_count": 122,
   "metadata": {},
   "outputs": [],
   "source": [
    "norm_diksi = pd.DataFrame(columns=mask)\n",
    "norm_diksi['idx'] = diksi['GLN']\n",
    "norm_diksi['post_index'] = diksi['Индекс']\n",
    "norm_diksi['name'] = diksi['Название']\n",
    "norm_diksi['adress'] = diksi['Город'] + ' ' + diksi['Адрес']\n",
    "norm_diksi['info'] = diksi['ИНН']\n",
    "norm_diksi['region'] = diksi['Код региона']\n",
    "norm_diksi['net_name'] = 'diksi'\n",
    "\n",
    "norm_diksi.to_csv('./data/clean_data/6_norm_diksi.csv')"
   ]
  },
  {
   "cell_type": "code",
   "execution_count": 368,
   "metadata": {},
   "outputs": [],
   "source": [
    "kb.dropna(subset=['Адрес'], inplace=True)\n",
    "kb.reset_index(drop=True, inplace=True)\n",
    "\n",
    "norm_kb = pd.DataFrame(columns=mask)\n",
    "norm_kb['idx'] = kb['GLN']\n",
    "norm_kb['post_index'] = kb['Индекс']\n",
    "norm_kb['name'] = kb['Название']\n",
    "norm_kb['adress'] = kb['Город'] + ' ' + kb['Адрес']\n",
    "norm_kb['info'] = kb['ИНН']\n",
    "norm_kb['region'] = kb['Код региона']\n",
    "norm_kb['net_name'] = 'kb'\n",
    "\n",
    "norm_kb.to_csv('./data/clean_data/7_norm_kb.csv')"
   ]
  },
  {
   "cell_type": "code",
   "execution_count": 184,
   "metadata": {},
   "outputs": [],
   "source": [
    "norm_pickpoint = pd.DataFrame(columns=mask)\n",
    "norm_pickpoint['idx'] = pickpoint['ID точки']\n",
    "norm_pickpoint['post_index'] = pickpoint['Адрес пункта приема/выдачи'].str.split(',').str.get(0)\n",
    "norm_pickpoint['name'] = pickpoint['Название пункта приема/выдачи']\n",
    "norm_pickpoint['adress'] = pickpoint['Область'] +' '\\\n",
    "                         + pickpoint['Город'] + ' ' \\\n",
    "                         + pickpoint['Адрес пункта приема/выдачи'] \n",
    "norm_pickpoint['info'] = pickpoint['Время работы']\n",
    "norm_pickpoint['region'] = pickpoint['Область']\n",
    "norm_pickpoint['net_name'] = 'pickpoint'\n",
    "norm_pickpoint['obj_type'] = pickpoint['Тип Пункта']\n",
    "\n",
    "norm_pickpoint.to_csv('./data/clean_data/8_norm_pickpoint.csv')"
   ]
  },
  {
   "cell_type": "code",
   "execution_count": null,
   "metadata": {},
   "outputs": [],
   "source": []
  },
  {
   "cell_type": "markdown",
   "metadata": {},
   "source": [
    "## 5. Геокодинг\n",
    "Не во всех таблицах имеется информация о географических координатах объектов, но почти у всех есть адресная информация объекта, поэтому для полноты данных проведем геокодинг по адресу объекта. Для этого воспользуемся библиотекой geopy"
   ]
  },
  {
   "cell_type": "code",
   "execution_count": 318,
   "metadata": {},
   "outputs": [],
   "source": [
    "# геокодинг (при отсутствии координат)\n",
    "def get_coord(name, geocoder='mapquest'):\n",
    "    \n",
    "    if geocoder == 'mapquest':\n",
    "        geolocator = geocoders.openmapquest.OpenMapQuest(api_key='VaaZ5mcsUyUd1beGrE0oyO6LGAAKuaRh')\n",
    "        #spw1yAij6vRorH2u4fiM35QgQbdj3sC1\n",
    "        #VaaZ5mcsUyUd1beGrE0oyO6LGAAKuaRh\n",
    "    if geocoder == 'yandex':\n",
    "        geolocator = geocoders.Yandex(api_key='878aed93-6959-43b5-969f-86a30a86f59f')\n",
    "    \n",
    "    \n",
    "    #time.sleep(2)\n",
    "    try:\n",
    "        location = geolocator.geocode(name)\n",
    "    except Exception as e:\n",
    "        print(e)\n",
    "        return None, None, None \n",
    "    if (location != None):\n",
    "        return location.latitude, location.longitude, location.address\n",
    "    else:\n",
    "        return None, None, None"
   ]
  },
  {
   "cell_type": "code",
   "execution_count": 391,
   "metadata": {},
   "outputs": [],
   "source": [
    "# geocode sberbank office\n",
    "norm_sber_office['norm_adress'] = np.nan\n",
    "\n",
    "norm_sber_office[['lat', 'lng', 'norm_adress']] = \\\n",
    "                            norm_sber_office.adress.apply(lambda row: pd.Series(get_coord(row)))\n",
    "\n",
    "%%time\n",
    "norm_sber_office[['lat', 'lng', 'norm_adress']] = \\\n",
    " norm_sber_office.apply(lambda row: pd.Series(get_coord(row['adress'], geocoder='yandex')) \\\n",
    "            if np.isnan(row['lat']) \\\n",
    "            else pd.Series((row['lat'], row['lng'], row['norm_adress'])) , axis=1)\n",
    "\n",
    "\n",
    "norm_sber_office['adress'] = norm_sber_office.apply(lambda row: row['adress'] \\\n",
    "                                                    if pd.isna(row['norm_adress']) \\\n",
    "                                                    else row['norm_adress'], axis=1)\n",
    "\n",
    "\n",
    "norm_sber_office = norm_sber_office[['idx', 'idx_upper_obj', 'post_index', 'adress', 'lat', 'lng', 'name',\n",
    "       'upper_obj_name', 'region', 'macro_region', 'obj_type', 'net_name', 'info']]\n",
    "\n",
    "norm_sber_office.to_csv('./data/clean_data/norm_sber__office' \\\n",
    "                        + datetime.today().strftime('%Y-%m-%d %H:%M') + '.csv')"
   ]
  },
  {
   "cell_type": "code",
   "execution_count": null,
   "metadata": {},
   "outputs": [],
   "source": []
  },
  {
   "cell_type": "code",
   "execution_count": 334,
   "metadata": {},
   "outputs": [
    {
     "name": "stdout",
     "output_type": "stream",
     "text": [
      "CPU times: user 5.1 s, sys: 111 ms, total: 5.21 s\n",
      "Wall time: 45.1 s\n"
     ]
    }
   ],
   "source": [
    "%%time\n",
    "# geocode pickpoint\n",
    "norm_pickpoint['norm_adress'] = np.nan\n",
    "\n",
    "norm_pickpoint[['lat', 'lng', 'norm_adress']] = \\\n",
    " norm_pickpoint.apply(lambda row: pd.Series(get_coord(row['adress'], geocoder='yandex')) \\\n",
    "            if np.isnan(row['lat']) \\\n",
    "            else pd.Series((row['lat'], row['lng'], row['norm_adress'])) , axis=1)\n",
    "\n",
    "\n",
    "norm_pickpoint['adress'] = norm_pickpoint.apply(lambda row: row['adress'] \\\n",
    "                                                    if pd.isna(row['norm_adress']) \\\n",
    "                                                    else row['norm_adress'], axis=1)\n",
    "\n",
    "norm_pickpoint = norm_pickpoint[['idx', 'idx_upper_obj', 'post_index', 'adress', 'lat', 'lng', 'name',\n",
    "       'upper_obj_name', 'region', 'macro_region', 'obj_type', 'net_name', 'info']]\n",
    "\n",
    "norm_pickpoint.to_csv('./data/clean_data/norm_pickpoint' \\\n",
    "                        + datetime.today().strftime('%Y-%m-%d %H:%M') + '.csv')"
   ]
  },
  {
   "cell_type": "code",
   "execution_count": 346,
   "metadata": {},
   "outputs": [],
   "source": []
  },
  {
   "cell_type": "code",
   "execution_count": 349,
   "metadata": {},
   "outputs": [
    {
     "name": "stdout",
     "output_type": "stream",
     "text": [
      "Service timed out\n",
      "CPU times: user 3.53 s, sys: 68.9 ms, total: 3.6 s\n",
      "Wall time: 38.7 s\n"
     ]
    }
   ],
   "source": [
    "%%time\n",
    "\n",
    "# geocode diksi\n",
    "norm_diksi['norm_adress'] = np.nan\n",
    "\n",
    "norm_diksi[['lat', 'lng', 'norm_adress']] = \\\n",
    " norm_diksi.apply(lambda row: pd.Series(get_coord(row['adress'], geocoder='yandex')) \\\n",
    "            if np.isnan(row['lat']) \\\n",
    "            else pd.Series((row['lat'], row['lng'], row['norm_adress'])) , axis=1)\n",
    "\n",
    "norm_diksi['adress'] = norm_diksi.apply(lambda row: row['adress'] \\\n",
    "                                                    if pd.isna(row['norm_adress']) \\\n",
    "                                                    else row['norm_adress'], axis=1)\n",
    "\n",
    "norm_diksi = norm_diksi[['idx', 'idx_upper_obj', 'post_index', 'adress', 'lat', 'lng', 'name',\n",
    "       'upper_obj_name', 'region', 'macro_region', 'obj_type', 'net_name', 'info']]\n",
    "\n",
    "norm_diksi.to_csv('./data/clean_data/norm_diksi' \\\n",
    "                        + datetime.today().strftime('%Y-%m-%d %H:%M') + '.csv')"
   ]
  },
  {
   "cell_type": "code",
   "execution_count": 372,
   "metadata": {},
   "outputs": [],
   "source": []
  },
  {
   "cell_type": "code",
   "execution_count": 374,
   "metadata": {
    "collapsed": true
   },
   "outputs": [
    {
     "name": "stdout",
     "output_type": "stream",
     "text": [
      "Service timed out\n",
      "Service timed out\n",
      "Service timed out\n",
      "Service timed out\n",
      "Service timed out\n",
      "Service timed out\n",
      "Service timed out\n",
      "Service timed out\n",
      "Service timed out\n",
      "Service timed out\n",
      "Service timed out\n",
      "Service timed out\n",
      "Service timed out\n",
      "Service timed out\n",
      "Service timed out\n",
      "Service timed out\n",
      "Service not available\n",
      "Service timed out\n",
      "Service timed out\n",
      "Service timed out\n",
      "Service timed out\n",
      "Service timed out\n",
      "Service timed out\n",
      "Service timed out\n",
      "Service timed out\n",
      "Service timed out\n",
      "Service not available\n",
      "Service not available\n",
      "Service timed out\n",
      "Service timed out\n",
      "Service not available\n",
      "Service not available\n",
      "Service not available\n",
      "Service timed out\n",
      "Service timed out\n",
      "Service not available\n",
      "Service timed out\n",
      "CPU times: user 2min 26s, sys: 6.77 s, total: 2min 33s\n",
      "Wall time: 38min 49s\n"
     ]
    }
   ],
   "source": [
    "%%time\n",
    "\n",
    "# geocode krasnoe and beloe\n",
    "norm_kb['norm_adress'] = np.nan\n",
    "\n",
    "norm_kb[['lat', 'lng', 'norm_adress']] = \\\n",
    " norm_kb.apply(lambda row: pd.Series(get_coord(row['adress'], geocoder='yandex')) \\\n",
    "            if np.isnan(row['lat']) \\\n",
    "            else pd.Series((row['lat'], row['lng'], row['norm_adress'])) , axis=1)\n",
    "\n",
    "norm_kb['adress'] = norm_kb.apply(lambda row: row['adress'] \\\n",
    "                                                    if pd.isna(row['norm_adress']) \\\n",
    "                                                    else row['norm_adress'], axis=1)\n",
    "\n",
    "norm_kb = norm_kb[['idx', 'idx_upper_obj', 'post_index', 'adress', 'lat', 'lng', 'name',\n",
    "       'upper_obj_name', 'region', 'macro_region', 'obj_type', 'net_name', 'info']]\n",
    "\n",
    "norm_kb.to_csv('./data/clean_data/norm_kb' \\\n",
    "                        + datetime.today().strftime('%Y-%m-%d %H:%M') + '.csv')"
   ]
  },
  {
   "cell_type": "code",
   "execution_count": null,
   "metadata": {},
   "outputs": [],
   "source": []
  },
  {
   "cell_type": "code",
   "execution_count": null,
   "metadata": {},
   "outputs": [],
   "source": []
  },
  {
   "cell_type": "markdown",
   "metadata": {},
   "source": [
    "## 6. Объединение данных\n",
    "Объеденим все таблицы в единный файл для проведения дальнешего анализа"
   ]
  },
  {
   "cell_type": "code",
   "execution_count": 382,
   "metadata": {},
   "outputs": [],
   "source": [
    "norm_data_frames = [norm_x5, norm_magnit, norm_rp, norm_boxberry, \\\n",
    "                    norm_sber, norm_sber_office, norm_diksi, norm_kb, norm_pickpoint]"
   ]
  },
  {
   "cell_type": "code",
   "execution_count": 383,
   "metadata": {},
   "outputs": [],
   "source": [
    "all_points = pd.concat(norm_data_frames, ignore_index=True, sort=False)\n"
   ]
  },
  {
   "cell_type": "code",
   "execution_count": 384,
   "metadata": {},
   "outputs": [
    {
     "name": "stdout",
     "output_type": "stream",
     "text": [
      "<class 'pandas.core.frame.DataFrame'>\n",
      "Int64Index: 178736 entries, 0 to 178735\n",
      "Data columns (total 13 columns):\n",
      "idx               178736 non-null object\n",
      "idx_upper_obj     57574 non-null object\n",
      "post_index        176646 non-null object\n",
      "adress            178719 non-null object\n",
      "lat               107273 non-null object\n",
      "lng               107273 non-null object\n",
      "name              93974 non-null object\n",
      "upper_obj_name    55781 non-null object\n",
      "region            177992 non-null object\n",
      "macro_region      62544 non-null object\n",
      "obj_type          98242 non-null object\n",
      "info              104239 non-null object\n",
      "net_name          178736 non-null object\n",
      "dtypes: object(13)\n",
      "memory usage: 19.1+ MB\n"
     ]
    }
   ],
   "source": [
    "all_points.dropna(subset=['adress', 'lat', 'lng', 'upper_obj_name'], how='all', inplace=True)\n",
    "all_points.info()"
   ]
  },
  {
   "cell_type": "code",
   "execution_count": 385,
   "metadata": {},
   "outputs": [],
   "source": [
    "all_points.to_csv('./data/clean_data/all_points_' + datetime.today().strftime('%Y-%m-%d %H:%M') + '.csv')"
   ]
  },
  {
   "cell_type": "code",
   "execution_count": 387,
   "metadata": {},
   "outputs": [
    {
     "data": {
      "text/plain": [
       "array(['x5', 'sber_atm', 'sber_office', 'diksi', 'kb'], dtype=object)"
      ]
     },
     "execution_count": 387,
     "metadata": {},
     "output_type": "execute_result"
    }
   ],
   "source": [
    "all_points[all_points.lat.isna()].net_name.unique()"
   ]
  },
  {
   "cell_type": "code",
   "execution_count": 390,
   "metadata": {
    "scrolled": false
   },
   "outputs": [
    {
     "data": {
      "text/plain": [
       "500"
      ]
     },
     "execution_count": 390,
     "metadata": {},
     "output_type": "execute_result"
    }
   ],
   "source": [
    "all_points.region.nunique()"
   ]
  },
  {
   "cell_type": "code",
   "execution_count": 396,
   "metadata": {},
   "outputs": [
    {
     "name": "stdout",
     "output_type": "stream",
     "text": [
      "<class 'pandas.core.frame.DataFrame'>\n",
      "Int64Index: 178736 entries, 0 to 178735\n",
      "Data columns (total 13 columns):\n",
      "idx               178736 non-null object\n",
      "idx_upper_obj     57574 non-null object\n",
      "post_index        176646 non-null object\n",
      "adress            178719 non-null object\n",
      "lat               107273 non-null object\n",
      "lng               107273 non-null object\n",
      "name              93974 non-null object\n",
      "upper_obj_name    55781 non-null object\n",
      "region            177992 non-null object\n",
      "macro_region      62544 non-null object\n",
      "obj_type          98242 non-null object\n",
      "info              104239 non-null object\n",
      "net_name          178736 non-null object\n",
      "dtypes: object(13)\n",
      "memory usage: 19.1+ MB\n"
     ]
    }
   ],
   "source": [
    "all_points.info()"
   ]
  },
  {
   "cell_type": "code",
   "execution_count": null,
   "metadata": {},
   "outputs": [],
   "source": []
  },
  {
   "cell_type": "code",
   "execution_count": null,
   "metadata": {},
   "outputs": [],
   "source": [
    "# обогащение данных:\n",
    "# парсинг циан - стоимость недвижимости в районе, количество предложений\n",
    "# население ??? "
   ]
  }
 ],
 "metadata": {
  "kernelspec": {
   "display_name": "Python 3",
   "language": "python",
   "name": "python3"
  },
  "language_info": {
   "codemirror_mode": {
    "name": "ipython",
    "version": 3
   },
   "file_extension": ".py",
   "mimetype": "text/x-python",
   "name": "python",
   "nbconvert_exporter": "python",
   "pygments_lexer": "ipython3",
   "version": "3.6.6"
  }
 },
 "nbformat": 4,
 "nbformat_minor": 2
}
