{
 "cells": [
  {
   "cell_type": "markdown",
   "metadata": {},
   "source": [
    "# Framework working principal\n",
    "## Task time series forecasting model\n",
    "\n",
    "1. Number of forecasting steps:\n",
    "\n",
    "    1.1. one step forecast\n",
    "    \n",
    "    1.2. multistep forecast\n",
    "\n",
    "        1.2.1. Direct Multi-step Forecast Strategy\n",
    "            prediction(t+1) = model1(obs(t-1), obs(t-2), ..., obs(t-n))\n",
    "            prediction(t+2) = model2(obs(t-2), obs(t-3), ..., obs(t-n))\n",
    "\n",
    "        1.2.2. Recursive Multi-step Forecast\n",
    "            prediction(t+1) = model(obs(t-1), obs(t-2), ..., obs(t-n))\n",
    "            prediction(t+2) = model(prediction(t+1), obs(t-1), ..., obs(t-n))\n",
    "\n",
    "        1.2.3. Direct-Recursive Hybrid Strategies\n",
    "            prediction(t+1) = model1(obs(t-1), obs(t-2), ..., obs(t-n))\n",
    "            prediction(t+2) = model2(prediction(t+1), obs(t-1), ..., obs(t-n))\n",
    "\n",
    "        1.2.4. Multiple Output Strategy\n",
    "            prediction(t+1), prediction(t+2) = model(obs(t-1), obs(t-2), ..., obs(t-n))\n",
    "            \n",
    "        1.2.5 One step forecast on lagged data (lag = number of forecasting steps) \n",
    "\n",
    "\n",
    "\n",
    "\n",
    "Typical pipline\n",
    "\n",
    "1. Load data (endog, exog)\n",
    "2. Generate features from endof and exog\n",
    "3. Select type of forecasting and fit model\n",
    "4. Forecast future"
   ]
  },
  {
   "cell_type": "markdown",
   "metadata": {},
   "source": [
    "### Univariate timeseries case"
   ]
  },
  {
   "cell_type": "code",
   "execution_count": null,
   "metadata": {},
   "outputs": [],
   "source": [
    "endog = pd.read_csv('endog.csv')\n",
    "exog = pd.read_csv('exog.csv')\n",
    "model = fit_model(endog, exog)\n",
    "forecast = model.forecast(steps=10)"
   ]
  },
  {
   "cell_type": "markdown",
   "metadata": {},
   "source": [
    "Multiple timeseries case"
   ]
  },
  {
   "cell_type": "code",
   "execution_count": null,
   "metadata": {},
   "outputs": [],
   "source": []
  },
  {
   "cell_type": "code",
   "execution_count": null,
   "metadata": {},
   "outputs": [],
   "source": []
  }
 ],
 "metadata": {
  "kernelspec": {
   "display_name": "Python 3",
   "language": "python",
   "name": "python3"
  },
  "language_info": {
   "codemirror_mode": {
    "name": "ipython",
    "version": 3
   },
   "file_extension": ".py",
   "mimetype": "text/x-python",
   "name": "python",
   "nbconvert_exporter": "python",
   "pygments_lexer": "ipython3",
   "version": "3.6.6"
  }
 },
 "nbformat": 4,
 "nbformat_minor": 2
}
